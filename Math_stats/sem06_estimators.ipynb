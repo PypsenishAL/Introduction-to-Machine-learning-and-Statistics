{
 "cells": [
  {
   "cell_type": "markdown",
   "metadata": {},
   "source": [
    "<center>\n",
    "<img src='https://imgs.xkcd.com/comics/t_distribution_2x.png' align='center' width=\"800x\">\n",
    "</center>\n",
    "\n",
    "# Андан на экономе\n",
    "\n",
    "## Семинар 6:  Чего хочет статистик?"
   ]
  },
  {
   "cell_type": "markdown",
   "metadata": {},
   "source": [
    "Когда статистик оценивает какой-нибудь параметр, он хочет: \n",
    "\n",
    "* __несмещённость__ (при фиксированном размере выборки мы в среднем не ошибаемся) \n",
    "* __состоятельность__ (при бесконечном расширении выборки мы приходим к истинному значению)\n",
    "* __эффективность__ (у нашей оценки самая маленькая дисперсия для её класса (например, для всех несмещенных оценок))\n",
    "* иногда ещё статистик ссылается на какую-то мифическую __асимптотическую нормальность__ оценки.\n",
    "\n",
    "В этой тетрадке поговорим про несмещённость. "
   ]
  },
  {
   "cell_type": "code",
   "execution_count": 1,
   "metadata": {},
   "outputs": [],
   "source": [
    "import numpy as np\n",
    "import pandas as pd\n",
    "\n",
    "from scipy import stats\n",
    "import matplotlib.pyplot as plt\n",
    "import seaborn as sns\n",
    "\n",
    "plt.style.use('ggplot')  # стиль для графиков\n",
    "%matplotlib inline"
   ]
  },
  {
   "cell_type": "markdown",
   "metadata": {},
   "source": [
    "__Определение:__  Оценка $\\hat{\\theta}$ параметра $\\theta$ называется __несмещённой,__ если $\\mathbb{E} (\\hat{\\theta}) = \\theta$."
   ]
  },
  {
   "cell_type": "markdown",
   "metadata": {},
   "source": [
    "## 1. Несмещённые мамонтоборцы \n",
    "\n",
    "В долине летучей мыши Шикака живёт племя Вачати. Оно охотится на мамонтов. Древний Бог Оньянкопонга не так давно сгенерировал в долине реки из нормального распределения $10$ тысяч мамонтов со средним весом $300$ кг и стандартным отклонением $100$ кг. "
   ]
  },
  {
   "cell_type": "code",
   "execution_count": 2,
   "metadata": {},
   "outputs": [
    {
     "data": {
      "text/plain": [
       "299.1862327741454"
      ]
     },
     "execution_count": 2,
     "metadata": {},
     "output_type": "execute_result"
    }
   ],
   "source": [
    "norm_rv = stats.norm(loc=300, scale=100)\n",
    "\n",
    "# вся генеральная совокупность \n",
    "x_mamont = norm_rv.rvs(size = 10**4)\n",
    "\n",
    "np.mean(x_mamont) # настоящее среднее"
   ]
  },
  {
   "cell_type": "markdown",
   "metadata": {},
   "source": [
    "* Шаман Одэхингум (лёгкое колебание воды) уверен в своём взоре: \n",
    "\n",
    "$$ \\hat \\theta_{od} = \\frac{1}{n}\\sum_{i=1}^{n} x_i.$$\n",
    "\n",
    "* Шаман Пэпина (виноградная лоза, растущая вокруг дуба) не любит, когда его избивают за слишком оптимистичные прогнозы:\n",
    "\n",
    "$$ \\hat \\theta_{pe} = \\frac{1}{n}\\sum_{i=1}^{n} x_i - \\frac{4200}{n}.$$\n",
    "\n",
    "* Шаман Апониви (где ветер вырывает промежуток с корнем) тоже коректирует прогноз:\n",
    "\n",
    "$$ \\hat \\theta_{ap} = \\frac{1}{n}\\sum_{i=1}^{n} x_i - \\frac{5 \\cdot (n+1)}{n}.$$"
   ]
  },
  {
   "cell_type": "code",
   "execution_count": 3,
   "metadata": {},
   "outputs": [],
   "source": [
    "# Команда нам не подходит, так как она всю матрицу сделает без повторений\n",
    "# np.random.choice(x_mamont, size=(n,m), replace=False)\n",
    "\n",
    "n = 100\n",
    "\n",
    "th_od = np.zeros(200)\n",
    "th_pe = np.zeros(200)\n",
    "th_ap = np.zeros(200)\n",
    "\n",
    "for i in range(200):\n",
    "    x_sample = np.random.choice(x_mamont, size=n, replace=False)\n",
    "    x_mean = np.mean(x_sample)\n",
    "    th_od[i] = x_mean\n",
    "    th_pe[i] = x_mean - 4200/n\n",
    "    th_ap[i] = x_mean - 5*(n+1)/n  \n"
   ]
  },
  {
   "cell_type": "code",
   "execution_count": 4,
   "metadata": {},
   "outputs": [
    {
     "data": {
      "text/plain": [
       "(299.1963134839845, 257.1963134839845, 294.1463134839845)"
      ]
     },
     "execution_count": 4,
     "metadata": {},
     "output_type": "execute_result"
    }
   ],
   "source": [
    "# посмотрим на оценки E(\\hat \\theta)\n",
    "np.mean(th_od), np.mean(th_pe), np.mean(th_ap)"
   ]
  },
  {
   "cell_type": "code",
   "execution_count": 5,
   "metadata": {},
   "outputs": [
    {
     "data": {
      "image/png": "[encoded data removed]",
      "text/plain": [
       "<Figure size 864x432 with 1 Axes>"
      ]
     },
     "metadata": {
      "needs_background": "light"
     },
     "output_type": "display_data"
    }
   ],
   "source": [
    "plt.figure(figsize=(12,6))\n",
    "\n",
    "df = pd.DataFrame(zip(th_od, th_pe, th_ap), columns = ['Одэхингум', 'Пэпина', 'Апониви'])\n",
    "sns.boxplot(data = df,);"
   ]
  },
  {
   "cell_type": "markdown",
   "metadata": {},
   "source": [
    "Давайте попробуем посмотреть, как ведут себя распределения оценок шаманов в динамике, при росте числа наблюдений.\n",
    "\n",
    "\n",
    "<center>\n",
    "<img src=\"https://raw.githubusercontent.com/hse-econ-data-science/eds_spring_2020/master/sem08_estimate_convergence/image/animation_boxplot.gif\" width=\"400\"> \n",
    "</center>\n"
   ]
  },
  {
   "cell_type": "markdown",
   "metadata": {},
   "source": [
    "Напоминание про ящик с усами: \n",
    "\n",
    "<center>\n",
    "<img src=\"./Densityvsbox.png\" width=\"500\"> \n",
    "</center>"
   ]
  },
  {
   "cell_type": "markdown",
   "metadata": {},
   "source": [
    "Хех. Шаманы. Детский сад. Подавай нам что-нибудь из бизнеса. Окей, договорились. Давайте предположим, что шаманы прогнозируют не вес мамонта, а то на какую сумму в среднем будут наступать страховые случаи. Ясное дело, что наш  бюджет на статистические исследования довольно сильно ограничен. И ежедневно мы можем собирать информацию только от ограниченного числа респондентов. Если мы стабильно будем на основе этой информации получать смещённую оценку страхового покрытия, то вместо получения прибыли в среднем, мы легко можем оказаться банкротами. \n",
    "\n",
    "__Ещё раз, ещё раз:__ несмещённость это свойство оценки при фиксированном размере выборки $n$. Оно означает, что ошибка \"в среднем\", то есть при систематическом использовании оценки, отсутствует. Это довольно хорошее свойство, но не обязательное. Достаточно, чтобы смещение оценки уменьшалось с ростом объёма выборки. Такая оценка называется асимптотически несмещённой. "
   ]
  },
  {
   "cell_type": "markdown",
   "metadata": {},
   "source": [
    "## 2. Состоятельность \n",
    "\n",
    "__Определение:__  Оценка $\\hat \\theta$ параметра $\\theta$ называется __состоятельной,__ если $\\hat \\theta \\to \\theta$ по вероятности при росте $n$. "
   ]
  },
  {
   "cell_type": "markdown",
   "metadata": {},
   "source": [
    "__Шаманы и их оценки:__\n",
    "\n",
    "\\begin{equation*}\n",
    "\\begin{aligned}\n",
    "& \\hat \\theta_{od} = \\frac{1}{n}\\sum_{i=1}^{n} x_i \\\\\n",
    "& \\hat \\theta_{pe} = \\frac{1}{n}\\sum_{i=1}^{n} x_i - \\frac{4200}{n} \\\\\n",
    "& \\hat \\theta_{ap} = \\frac{1}{n}\\sum_{i=1}^{n} x_i - \\frac{5 \\cdot (n+1)}{n} \\\\\n",
    "\\end{aligned}\n",
    "\\end{equation*}"
   ]
  },
  {
   "cell_type": "code",
   "execution_count": null,
   "metadata": {},
   "outputs": [],
   "source": [
    "theta_hat = np.zeros((100, 50))\n",
    "\n",
    "for n in range(100, 10100, 100): # поднимаемся выше и видим больше мамонтов\n",
    "    \n",
    "    # 50 выборок с повторениями для простоты \n",
    "    x_sample = np.random.choice(x_mamont, size = (n, 50), replace=False)\n",
    "    \n",
    "    # 50 разных оценок \n",
    "    x_mean = np.mean(x_sample, axis=0) \n",
    "    \n",
    "    theta_hat[n//100 - 1] = x_mean                # состоятельная\n",
    "    #theta_hat[n//100 - 1] = (x_mean - 4200/n)     # состоятельная\n",
    "    #theta_hat[n//100 - 1] = (x_mean - 5*(n+1)/n)   # несостоятельная "
   ]
  },
  {
   "cell_type": "code",
   "execution_count": null,
   "metadata": {},
   "outputs": [],
   "source": [
    "theta_hat.shape"
   ]
  },
  {
   "cell_type": "code",
   "execution_count": null,
   "metadata": {},
   "outputs": [],
   "source": [
    "plt.figure(figsize=(14,8))\n",
    "plt.plot(theta_hat, c='grey', alpha = 0.3)\n",
    "\n",
    "plt.xlabel('Количество наблюдений', size=24)\n",
    "plt.ylabel('Оценка параметра', size=24)\n",
    "\n",
    "plt.hlines(theta_real, 0, 100, color='blue', lw=4, label='реальное значение')\n",
    "plt.legend(fontsize=20);"
   ]
  },
  {
   "cell_type": "markdown",
   "metadata": {},
   "source": [
    "__Ещё раз, ещё раз:__ нельзя путать состоятельности и несмещённость. Состоятельность означает, что мы при расширении выборки приходим к истине. Несмещённость, что мы при фиксированном размере выборке в среднем не ошибаемся. Состоятельность это то свойство оценки, за которое стоит бороться. Без этого свойства нет никакого смысла использовать оценку. "
   ]
  },
  {
   "cell_type": "markdown",
   "metadata": {},
   "source": [
    "## 3. Эффективность \n",
    "\n",
    "Предположим, что у нас есть две оценки. Они обе классные, несмещённые и состоятельные. Возникает вопрос: а какую взять то? Для того, чтобы выбрать, вводят свойство эффективности. \n",
    "\n",
    "__Определение:__ Оценка $\\hat \\theta$ параметра $\\theta$ называется __эффективной в некотором классе оценок,__ если её дисперсия, $Var(\\hat \\theta)$ в этом классе оценок, при заданном объёме выборке минимальна. \n",
    "\n",
    "Зачем это нужно? Для того, чтобы доверительные интервалы для оценок были как можно уже, то есть для того, чтобы оценка была как можно точнее."
   ]
  },
  {
   "cell_type": "markdown",
   "metadata": {},
   "source": [
    "### Две оценки\n",
    "\n",
    "У нас есть выборка $x_1, \\ldots, x_n \\sim iid \\hspace{2mm} U[0; \\theta]$. Мы оценили параметр $\\theta$ двумя способами. Методом моментов и методом максимального правдоподобия: \n",
    "\n",
    "\n",
    "$$\\hat \\theta_{MM} = 2 \\bar x, \\qquad \\qquad \\hat \\theta_{ML} = \\frac{n+2}{n} \\cdot x_{max}$$\n",
    "\n",
    "Обе оценки оказались несмещёнными и состоятельными. Какую из них выбрать? Ответ прост: надо понять какая из них эффективнее.  \n",
    "\n",
    "Сгенерируйте выборку оценок каждого вида. Постройте по ним гистограммы и найдите этот простой ответ."
   ]
  },
  {
   "cell_type": "code",
   "execution_count": null,
   "metadata": {},
   "outputs": [],
   "source": [
    "uniform_rv = stats.uniform(0, 5)"
   ]
  },
  {
   "cell_type": "code",
   "execution_count": null,
   "metadata": {},
   "outputs": [],
   "source": [
    "n_obs = 100\n",
    "\n",
    "# 1000 выборок размера n_obs\n",
    "x = uniform_rv.rvs(size = (n_obs, 1000))\n",
    "x.shape"
   ]
  },
  {
   "cell_type": "code",
   "execution_count": null,
   "metadata": {},
   "outputs": [],
   "source": [
    "# первая оценка \n",
    "theta_1 = 2*np.mean(x, axis=0)\n",
    "\n",
    "# вторая оценка \n",
    "theta_2 = (n_obs + 2)/n_obs*np.max(x, axis=0)"
   ]
  },
  {
   "cell_type": "code",
   "execution_count": null,
   "metadata": {},
   "outputs": [],
   "source": [
    "plt.figure(figsize=(12,6))\n",
    "plt.hist(theta_1, bins=100, alpha=0.5, label='Moment method')\n",
    "plt.hist(theta_2, bins=50, alpha=0.5, label='ML method')\n",
    "plt.legend();"
   ]
  },
  {
   "cell_type": "markdown",
   "metadata": {},
   "source": [
    "Видим, что у оценки максимального правдоподобия разброс оказался меньше.  "
   ]
  },
  {
   "cell_type": "code",
   "execution_count": null,
   "metadata": {},
   "outputs": [],
   "source": [
    "np.var(theta_1)"
   ]
  },
  {
   "cell_type": "code",
   "execution_count": null,
   "metadata": {},
   "outputs": [],
   "source": [
    "np.var(theta_2)"
   ]
  },
  {
   "cell_type": "markdown",
   "metadata": {},
   "source": [
    "На практике следовало бы выбрать её. Когда у оценки самый маленький разброс в каком-то классе (например, в классе несмещённых оценок), её называют __эффективной__ в этом классе. \n",
    "\n",
    "Кстати говоря, для оценок из этого упражнения, можно руками выяснить, что: \n",
    "\n",
    "$$ E(\\hat \\theta_{MM} - \\theta)^2 = \\frac{\\theta^2}{3n} \\qquad \\qquad E(\\hat \\theta_{ML} - \\theta)^2 = \\frac{2 \\theta^2}{n(n+1)}.$$\n",
    "\n",
    "Получится, что при $n = 1,2$ дисперсии совпадут. При $n >2$ оценка максимального правдоподобия будет обладать меньшей дисперсией. Вывод этих формул руками можно посмотреть в [книге Черновой](https://nsu.ru/mmf/tvims/chernova/ms/ms_nsu07.pdf) на странице 33 (Пример 13)."
   ]
  },
  {
   "cell_type": "markdown",
   "metadata": {},
   "source": [
    "## 4. Задача про конфеты"
   ]
  },
  {
   "cell_type": "code",
   "execution_count": 1,
   "metadata": {},
   "outputs": [],
   "source": [
    "import scipy.stats as sts\n",
    "import numpy as np\n",
    "import matplotlib.pyplot as plt"
   ]
  },
  {
   "cell_type": "code",
   "execution_count": 2,
   "metadata": {},
   "outputs": [],
   "source": [
    "#x = np.array(500*[10] + 500*[5])\n",
    "x = sts.expon().rvs(1000)\n",
    "p = x/x.sum()\n",
    "mu_real = x.mean()\n",
    "\n",
    "sample = np.random.choice(x, size=(10**6,100), p=p, replace=True)\n",
    "mu_hat_old = sample.mean(axis=1)"
   ]
  },
  {
   "cell_type": "code",
   "execution_count": 3,
   "metadata": {},
   "outputs": [],
   "source": [
    "total = x.sum()"
   ]
  },
  {
   "cell_type": "code",
   "execution_count": 4,
   "metadata": {},
   "outputs": [],
   "source": [
    "w = 1/sample\n",
    "mu_hat_new = (sample * w).sum(axis=1) / w.sum(axis=1)"
   ]
  },
  {
   "cell_type": "code",
   "execution_count": 5,
   "metadata": {},
   "outputs": [
    {
     "data": {
      "image/png": "[encoded data removed]",
      "text/plain": [
       "<Figure size 640x480 with 1 Axes>"
      ]
     },
     "metadata": {},
     "output_type": "display_data"
    }
   ],
   "source": [
    "plt.hist(mu_hat_old, bins=100, density=True, label='estimates');\n",
    "plt.axvline(mu_real, ymin=0, ymax=2, color='red', linestyle='dashed', lw=2, label='mu_real')\n",
    "plt.legend();"
   ]
  },
  {
   "cell_type": "code",
   "execution_count": 6,
   "metadata": {},
   "outputs": [
    {
     "data": {
      "image/png": "[encoded data removed]",
      "text/plain": [
       "<Figure size 640x480 with 1 Axes>"
      ]
     },
     "metadata": {},
     "output_type": "display_data"
    }
   ],
   "source": [
    "plt.hist(mu_hat_new, bins=100, density=True, label='estimates');\n",
    "plt.axvline(mu_real, ymin=0, ymax=2, color='red', linestyle='dashed', lw=2, label='mu_real')\n",
    "plt.legend();"
   ]
  },
  {
   "cell_type": "code",
   "execution_count": null,
   "metadata": {},
   "outputs": [],
   "source": []
  }
 ],
 "metadata": {
  "kernelspec": {
   "display_name": ".venv",
   "language": "python",
   "name": "python3"
  },
  "language_info": {
   "codemirror_mode": {
    "name": "ipython",
    "version": 3
   },
   "file_extension": ".py",
   "mimetype": "text/x-python",
   "name": "python",
   "nbconvert_exporter": "python",
   "pygments_lexer": "ipython3",
   "version": "3.13.1"
  }
 },
 "nbformat": 4,
 "nbformat_minor": 2
}
