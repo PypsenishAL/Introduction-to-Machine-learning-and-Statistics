{
 "cells": [
  {
   "cell_type": "markdown",
   "id": "9074d943",
   "metadata": {},
   "source": [
    "<center>\n",
    "<img src=\"https://imgs.xkcd.com/comics/convincing.png\" height=\"200\"> \n",
    "\n",
    "# Андан на экономе: домашнее задание 1\n",
    "</center>\n"
   ]
  },
  {
   "cell_type": "markdown",
   "id": "b4981e33",
   "metadata": {},
   "source": [
    "**ФИО:** Левченко Александр\n",
    "\n",
    "**Интересный факт о себе:** на базовом потоке по андану, но делаю дз хардового и хожу к Филлу"
   ]
  },
  {
   "cell_type": "markdown",
   "id": "f40dc119",
   "metadata": {},
   "source": [
    "## Общая информация\n",
    "\n",
    "\n",
    "__Дата выдачи:__ 18.01.2025\n",
    "\n",
    "__Мягкий дедлайн:__ 23:59MSK 02.02.2025\n",
    "\n",
    "__Жесткий дедлайн:__ 23:59MSK 09.02.2025"
   ]
  },
  {
   "cell_type": "markdown",
   "id": "3e8ede2d",
   "metadata": {},
   "source": [
    "## Оценивание и штрафы\n",
    "\n",
    "Каждая из задач имеет определенную «стоимость» (указана в скобках около задачи). Максимально допустимая оценка за работу — 100 баллов. За каждый день просрочки после мягкого дедлайна снимается 10 баллов. После жёсткого дедлайна работы не принимаются. Даже при опозданиии на одну секунду. Сдавайте работы заранее.\n",
    "\n",
    "Мягкий дедлайн можно отодвинуть без потери баллов на 1,2 или 3 дня. Суммарно для откладывания в запасе есть три дня. Можно отодвинуть один дедлайн на три дня, а можно три дедлайна подвинуть на один день. Распоряжаться этими днями студент может как угодно. Жёсткий дедлайн, при этом, не меняется. Если такое произошло, нужно сообщить о сдвиге при сдаче работы.\n",
    "\n",
    "Задание выполняется самостоятельно. «Похожие» решения считаются плагиатом и все задействованные студенты (в том числе те, у кого списали) не могут получить за него больше 0 баллов. Если вы нашли решение какого-то из заданий (или его часть) в открытом источнике, необходимо указать ссылку на этот источник (скорее всего вы будете не единственным, кто это нашел, поэтому чтобы исключить подозрение в плагиате, необходима ссылка на источник).\n",
    "\n",
    "Любой из студентов может быть вызван на защиту любого домашнего задания. В таком случае итоговая оценка студента определяется в результате защиты.\n",
    "\n",
    "> За отсутствие названий графиков и подписей к осям могут снижаться баллы. Все картинки должны быть самодостаточны и визуально удобны для восприятия, так чтобы не нужно было смотреть ваш код или знать задание, чтобы понять что на них изображено. Выводы должны быть релевантными. Не забывайте их писать. Если в вопросе требуется ответ словами, а его нет, вы будете терять довольно много баллов."
   ]
  },
  {
   "cell_type": "markdown",
   "id": "58abed2e",
   "metadata": {},
   "source": [
    "## Формат сдачи\n",
    "\n",
    "Сам ноутбук называйте в формате hw-01-USERNAME.ipynb, где USERNAME — ваши фамилия и имя на латинице. Файл сдаётся в anytask (ссылка на него будет чуть позже в канале курса)."
   ]
  },
  {
   "cell_type": "code",
   "execution_count": 127,
   "id": "217006f4",
   "metadata": {},
   "outputs": [],
   "source": [
    "import numpy as np\n",
    "import pandas as pd\n",
    "\n",
    "import scipy.stats as sts\n",
    "import matplotlib.pyplot as plt\n",
    "import seaborn as sns # type: ignore\n",
    "\n",
    "import datetime\n",
    "\n",
    "### ╰( ͡° ͜ʖ ͡° )つ▬▬ι═══════  bzzzzzzzzzz\n",
    "# will the code be with you: nah, thx :)"
   ]
  },
  {
   "cell_type": "code",
   "execution_count": 128,
   "id": "e4d61e2b",
   "metadata": {},
   "outputs": [
    {
     "data": {
      "text/plain": [
       "['Solarize_Light2',\n",
       " '_classic_test_patch',\n",
       " '_mpl-gallery',\n",
       " '_mpl-gallery-nogrid',\n",
       " 'bmh',\n",
       " 'classic',\n",
       " 'dark_background',\n",
       " 'fast',\n",
       " 'fivethirtyeight',\n",
       " 'ggplot',\n",
       " 'grayscale',\n",
       " 'petroff10',\n",
       " 'seaborn-v0_8',\n",
       " 'seaborn-v0_8-bright',\n",
       " 'seaborn-v0_8-colorblind',\n",
       " 'seaborn-v0_8-dark',\n",
       " 'seaborn-v0_8-dark-palette',\n",
       " 'seaborn-v0_8-darkgrid',\n",
       " 'seaborn-v0_8-deep',\n",
       " 'seaborn-v0_8-muted',\n",
       " 'seaborn-v0_8-notebook',\n",
       " 'seaborn-v0_8-paper',\n",
       " 'seaborn-v0_8-pastel',\n",
       " 'seaborn-v0_8-poster',\n",
       " 'seaborn-v0_8-talk',\n",
       " 'seaborn-v0_8-ticks',\n",
       " 'seaborn-v0_8-white',\n",
       " 'seaborn-v0_8-whitegrid',\n",
       " 'tableau-colorblind10']"
      ]
     },
     "execution_count": 128,
     "metadata": {},
     "output_type": "execute_result"
    }
   ],
   "source": [
    "plt.style.available"
   ]
  },
  {
   "cell_type": "code",
   "execution_count": 129,
   "id": "1134fc1a",
   "metadata": {},
   "outputs": [],
   "source": [
    "plt.style.use('fast')"
   ]
  },
  {
   "cell_type": "markdown",
   "id": "27ab952f",
   "metadata": {},
   "source": [
    "# Часть 1: нумпаево-вычислительная\n",
    "\n",
    "В этом задании мы немного поработаем с `numpy`. За задание можно получить $30$ баллов."
   ]
  },
  {
   "cell_type": "markdown",
   "id": "b7387279",
   "metadata": {},
   "source": [
    "__[10 баллов]__ На паре мы обсудили, что на компьютере вычисления с вещественными числами производятся лишь с ограниченной точностью. Давайте немного с этим поработаем."
   ]
  },
  {
   "cell_type": "markdown",
   "id": "e96ce835",
   "metadata": {},
   "source": [
    "В качестве первого примера, показывающего различие между длинной арифметикой целых чисел и floating point arithmetics, предлагаем вам перемножить две пары матриц:\n",
    "\n",
    "$$\n",
    "\\begin{pmatrix}\n",
    "1 & 0\\\\\n",
    "10^{20} & 1\n",
    "\\end{pmatrix}\n",
    "\\cdot\n",
    "\\begin{pmatrix}\n",
    "10^{-20} & 1\\\\\n",
    "0 & 1 - 10^{20}\n",
    "\\end{pmatrix}\n",
    "$$\n",
    "и\n",
    "$$\n",
    "\\begin{pmatrix}\n",
    "1. & 0.\\\\\n",
    "10.^{20} & 1.\n",
    "\\end{pmatrix}\n",
    "\\cdot\n",
    "\\begin{pmatrix}\n",
    "10.^{-20} & 1.\\\\\n",
    "0. & 1. - 10.^{20}\n",
    "\\end{pmatrix}\n",
    "$$\n",
    "Во втором случае мы специально указали Питону (поставив везде десятичные точки), что хотим работать не с целыми числами, а с числами с плавающей точкой. Посмотрим, получатся ли одинаковые ответы:"
   ]
  },
  {
   "cell_type": "code",
   "execution_count": 130,
   "id": "10b67dcd",
   "metadata": {},
   "outputs": [],
   "source": [
    "# your code here\n",
    "# [̲̅$̲̅(̲̅5̲̅)̲̅$̲̅]"
   ]
  },
  {
   "cell_type": "markdown",
   "id": "2f8c5b71",
   "metadata": {},
   "source": [
    "И какой из них правильный?\n",
    "\n",
    "**Ответ:** напишите текстом, без ответа полного балла не будет"
   ]
  },
  {
   "cell_type": "markdown",
   "id": "c5165513",
   "metadata": {},
   "source": [
    "__[10 баллов]__ Впрочем, и с целыми числами тоже не всегда всё хорошо. Напишите функцию, генерирующую *матрицу Паскаля* заданной размерности $n$, то есть матрицу $P$, в которой $P_{ij} = C_{i+j}^i$. В этом задании нельзя пользоваться библиотечной функцией `scipy.linalg.pascal` или её аналогами из других библиотек. Обратите внимание, что использование факториалов крайне нежелательно, так как быстро приведёт к переполнению.\n",
    "\n",
    "В этом задании вы можете использовать цикл ``for``."
   ]
  },
  {
   "cell_type": "code",
   "execution_count": 131,
   "id": "f79f9b7b",
   "metadata": {},
   "outputs": [],
   "source": [
    "def my_pascal(dim):\n",
    "    '''\n",
    "    Мы создали для вас матрицу из нулей размера dim x dim,\n",
    "    но вы можете ей не пользоваться, если не хотите\n",
    "    '''\n",
    "    matrix = np.zeros((dim, dim))\n",
    "    \n",
    "    matrix[0][0] = 1\n",
    "    \n",
    "    for i in range(1, len(matrix)):\n",
    "        matrix[0][i] = 1\n",
    "    for j in range(1, len(matrix)):\n",
    "        matrix[j][0] = 1\n",
    "    for i in range(1, len(matrix)):\n",
    "        for j in range(1, len(matrix[i])):\n",
    "            matrix[i][j] = matrix[i][j-1] + matrix[i-1][j]\n",
    "     \n",
    "    return matrix"
   ]
  },
  {
   "cell_type": "code",
   "execution_count": 132,
   "id": "77e3a2a1",
   "metadata": {},
   "outputs": [
    {
     "data": {
      "text/plain": [
       "array([[  1.,   1.,   1.,   1.,   1.,   1.,   1.],\n",
       "       [  1.,   2.,   3.,   4.,   5.,   6.,   7.],\n",
       "       [  1.,   3.,   6.,  10.,  15.,  21.,  28.],\n",
       "       [  1.,   4.,  10.,  20.,  35.,  56.,  84.],\n",
       "       [  1.,   5.,  15.,  35.,  70., 126., 210.],\n",
       "       [  1.,   6.,  21.,  56., 126., 252., 462.],\n",
       "       [  1.,   7.,  28.,  84., 210., 462., 924.]])"
      ]
     },
     "execution_count": 132,
     "metadata": {},
     "output_type": "execute_result"
    }
   ],
   "source": [
    "my_pascal(7)"
   ]
  },
  {
   "cell_type": "markdown",
   "id": "58f1bd04",
   "metadata": {},
   "source": [
    "__[5 баллов]__ ему равен определитель такой матрицы в теории?\n",
    "\n",
    "**Hint:** вычислите го вам помогут свойства биномиальных коэффициентов :) \n",
    "\n",
    "**Ответ:** "
   ]
  },
  {
   "cell_type": "markdown",
   "id": "22cc81a6",
   "metadata": {},
   "source": [
    "__[5 баллов]__  А теперь вычислите определитель матрицы Паскаля $30\\times30$ с помощью библиотечной функции `scipy.linalg.det`:"
   ]
  },
  {
   "cell_type": "code",
   "execution_count": 133,
   "id": "58ada9a5",
   "metadata": {},
   "outputs": [],
   "source": [
    "# your code here\n",
    "# (＠_＠)"
   ]
  },
  {
   "cell_type": "markdown",
   "id": "acdef3ed",
   "metadata": {},
   "source": [
    "Разница заметна невооружённым взглядом! Правда же? "
   ]
  },
  {
   "cell_type": "markdown",
   "id": "8633ccb3",
   "metadata": {},
   "source": [
    "# Часть 2: пандасо-ирисковая \n",
    "\n",
    "В этом задании мы немного поработаем с ценами на акции. За задание можно получить $70$ баллов.\n",
    "\n",
    "В табличке `prices.tsv` лежат данные о том, как менялась цена на акции из индексов [S&P-500](https://ru.wikipedia.org/wiki/S%26P_500), [NASDAQ-100](https://ru.wikipedia.org/wiki/Nasdaq-100) и [DJI](https://ru.wikipedia.org/wiki/Промышленный_индекс_Доу_—_Джонса) в течение последних $10$ лет. В табличке `information.tsv` лежит дополнительная полезная информация по ценным бумагам. Подгрузим эти таблицы и посмотрим на них. "
   ]
  },
  {
   "cell_type": "code",
   "execution_count": 135,
   "id": "681f64c7",
   "metadata": {},
   "outputs": [
    {
     "name": "stdout",
     "output_type": "stream",
     "text": [
      "(2518, 521)\n"
     ]
    },
    {
     "data": {
      "text/html": [
       "<div>\n",
       "<style scoped>\n",
       "    .dataframe tbody tr th:only-of-type {\n",
       "        vertical-align: middle;\n",
       "    }\n",
       "\n",
       "    .dataframe tbody tr th {\n",
       "        vertical-align: top;\n",
       "    }\n",
       "\n",
       "    .dataframe thead th {\n",
       "        text-align: right;\n",
       "    }\n",
       "</style>\n",
       "<table border=\"1\" class=\"dataframe\">\n",
       "  <thead>\n",
       "    <tr style=\"text-align: right;\">\n",
       "      <th></th>\n",
       "      <th>Date</th>\n",
       "      <th>A</th>\n",
       "      <th>AAL</th>\n",
       "      <th>AAP</th>\n",
       "      <th>AAPL</th>\n",
       "      <th>ABBV</th>\n",
       "      <th>ABC</th>\n",
       "      <th>ABNB</th>\n",
       "      <th>ABT</th>\n",
       "      <th>ACGL</th>\n",
       "      <th>...</th>\n",
       "      <th>XOM</th>\n",
       "      <th>XRAY</th>\n",
       "      <th>XYL</th>\n",
       "      <th>YUM</th>\n",
       "      <th>ZBH</th>\n",
       "      <th>ZBRA</th>\n",
       "      <th>ZION</th>\n",
       "      <th>ZM</th>\n",
       "      <th>ZS</th>\n",
       "      <th>ZTS</th>\n",
       "    </tr>\n",
       "  </thead>\n",
       "  <tbody>\n",
       "    <tr>\n",
       "      <th>0</th>\n",
       "      <td>2013-03-05 00:00:00</td>\n",
       "      <td>27.946215</td>\n",
       "      <td>13.245518</td>\n",
       "      <td>71.640678</td>\n",
       "      <td>13.298839</td>\n",
       "      <td>24.972109</td>\n",
       "      <td>41.335518</td>\n",
       "      <td>NaN</td>\n",
       "      <td>28.678448</td>\n",
       "      <td>16.563334</td>\n",
       "      <td>...</td>\n",
       "      <td>58.596577</td>\n",
       "      <td>39.023003</td>\n",
       "      <td>24.914204</td>\n",
       "      <td>39.376095</td>\n",
       "      <td>67.826096</td>\n",
       "      <td>44.869999</td>\n",
       "      <td>20.423979</td>\n",
       "      <td>NaN</td>\n",
       "      <td>NaN</td>\n",
       "      <td>31.940346</td>\n",
       "    </tr>\n",
       "    <tr>\n",
       "      <th>1</th>\n",
       "      <td>2013-03-06 00:00:00</td>\n",
       "      <td>28.326160</td>\n",
       "      <td>13.735741</td>\n",
       "      <td>70.923820</td>\n",
       "      <td>13.129805</td>\n",
       "      <td>25.125229</td>\n",
       "      <td>41.515339</td>\n",
       "      <td>NaN</td>\n",
       "      <td>28.347576</td>\n",
       "      <td>16.583332</td>\n",
       "      <td>...</td>\n",
       "      <td>58.563908</td>\n",
       "      <td>39.283100</td>\n",
       "      <td>25.693598</td>\n",
       "      <td>39.738384</td>\n",
       "      <td>67.343094</td>\n",
       "      <td>44.790001</td>\n",
       "      <td>20.907482</td>\n",
       "      <td>NaN</td>\n",
       "      <td>NaN</td>\n",
       "      <td>31.530493</td>\n",
       "    </tr>\n",
       "    <tr>\n",
       "      <th>2</th>\n",
       "      <td>2013-03-07 00:00:00</td>\n",
       "      <td>28.332716</td>\n",
       "      <td>13.971428</td>\n",
       "      <td>70.961044</td>\n",
       "      <td>13.281566</td>\n",
       "      <td>24.958796</td>\n",
       "      <td>41.172813</td>\n",
       "      <td>NaN</td>\n",
       "      <td>28.479918</td>\n",
       "      <td>16.813334</td>\n",
       "      <td>...</td>\n",
       "      <td>58.008087</td>\n",
       "      <td>39.515335</td>\n",
       "      <td>24.870417</td>\n",
       "      <td>39.940308</td>\n",
       "      <td>66.985306</td>\n",
       "      <td>44.619999</td>\n",
       "      <td>21.057535</td>\n",
       "      <td>NaN</td>\n",
       "      <td>NaN</td>\n",
       "      <td>32.191845</td>\n",
       "    </tr>\n",
       "    <tr>\n",
       "      <th>3</th>\n",
       "      <td>2013-03-08 00:00:00</td>\n",
       "      <td>28.188597</td>\n",
       "      <td>14.065701</td>\n",
       "      <td>71.538284</td>\n",
       "      <td>13.316731</td>\n",
       "      <td>24.858923</td>\n",
       "      <td>41.515339</td>\n",
       "      <td>NaN</td>\n",
       "      <td>28.686729</td>\n",
       "      <td>16.879999</td>\n",
       "      <td>...</td>\n",
       "      <td>58.178085</td>\n",
       "      <td>39.701115</td>\n",
       "      <td>24.896696</td>\n",
       "      <td>40.219440</td>\n",
       "      <td>67.441467</td>\n",
       "      <td>45.040001</td>\n",
       "      <td>21.090885</td>\n",
       "      <td>NaN</td>\n",
       "      <td>NaN</td>\n",
       "      <td>31.754053</td>\n",
       "    </tr>\n",
       "    <tr>\n",
       "      <th>4</th>\n",
       "      <td>2013-03-11 00:00:00</td>\n",
       "      <td>28.044483</td>\n",
       "      <td>14.263680</td>\n",
       "      <td>72.180695</td>\n",
       "      <td>13.506428</td>\n",
       "      <td>25.078619</td>\n",
       "      <td>41.575287</td>\n",
       "      <td>NaN</td>\n",
       "      <td>28.893517</td>\n",
       "      <td>16.940001</td>\n",
       "      <td>...</td>\n",
       "      <td>58.302341</td>\n",
       "      <td>39.812572</td>\n",
       "      <td>25.185684</td>\n",
       "      <td>40.290707</td>\n",
       "      <td>67.745613</td>\n",
       "      <td>45.470001</td>\n",
       "      <td>21.365984</td>\n",
       "      <td>NaN</td>\n",
       "      <td>NaN</td>\n",
       "      <td>31.837889</td>\n",
       "    </tr>\n",
       "  </tbody>\n",
       "</table>\n",
       "<p>5 rows × 521 columns</p>\n",
       "</div>"
      ],
      "text/plain": [
       "                  Date          A        AAL        AAP       AAPL       ABBV  \\\n",
       "0  2013-03-05 00:00:00  27.946215  13.245518  71.640678  13.298839  24.972109   \n",
       "1  2013-03-06 00:00:00  28.326160  13.735741  70.923820  13.129805  25.125229   \n",
       "2  2013-03-07 00:00:00  28.332716  13.971428  70.961044  13.281566  24.958796   \n",
       "3  2013-03-08 00:00:00  28.188597  14.065701  71.538284  13.316731  24.858923   \n",
       "4  2013-03-11 00:00:00  28.044483  14.263680  72.180695  13.506428  25.078619   \n",
       "\n",
       "         ABC  ABNB        ABT       ACGL  ...        XOM       XRAY  \\\n",
       "0  41.335518   NaN  28.678448  16.563334  ...  58.596577  39.023003   \n",
       "1  41.515339   NaN  28.347576  16.583332  ...  58.563908  39.283100   \n",
       "2  41.172813   NaN  28.479918  16.813334  ...  58.008087  39.515335   \n",
       "3  41.515339   NaN  28.686729  16.879999  ...  58.178085  39.701115   \n",
       "4  41.575287   NaN  28.893517  16.940001  ...  58.302341  39.812572   \n",
       "\n",
       "         XYL        YUM        ZBH       ZBRA       ZION  ZM  ZS        ZTS  \n",
       "0  24.914204  39.376095  67.826096  44.869999  20.423979 NaN NaN  31.940346  \n",
       "1  25.693598  39.738384  67.343094  44.790001  20.907482 NaN NaN  31.530493  \n",
       "2  24.870417  39.940308  66.985306  44.619999  21.057535 NaN NaN  32.191845  \n",
       "3  24.896696  40.219440  67.441467  45.040001  21.090885 NaN NaN  31.754053  \n",
       "4  25.185684  40.290707  67.745613  45.470001  21.365984 NaN NaN  31.837889  \n",
       "\n",
       "[5 rows x 521 columns]"
      ]
     },
     "execution_count": 135,
     "metadata": {},
     "output_type": "execute_result"
    }
   ],
   "source": [
    "df_prices = pd.read_csv(r'D:\\python_main\\training_env\\data\\price.tsv', sep='\\t')\n",
    "df_prices = df_prices.drop('GEHC', axis=1) # сликом молодая компания\n",
    "print(df_prices.shape)\n",
    "df_prices.head()"
   ]
  },
  {
   "cell_type": "code",
   "execution_count": 136,
   "id": "9fb3f7ab",
   "metadata": {},
   "outputs": [
    {
     "name": "stdout",
     "output_type": "stream",
     "text": [
      "(525, 12)\n"
     ]
    },
    {
     "data": {
      "text/html": [
       "<div>\n",
       "<style scoped>\n",
       "    .dataframe tbody tr th:only-of-type {\n",
       "        vertical-align: middle;\n",
       "    }\n",
       "\n",
       "    .dataframe tbody tr th {\n",
       "        vertical-align: top;\n",
       "    }\n",
       "\n",
       "    .dataframe thead th {\n",
       "        text-align: right;\n",
       "    }\n",
       "</style>\n",
       "<table border=\"1\" class=\"dataframe\">\n",
       "  <thead>\n",
       "    <tr style=\"text-align: right;\">\n",
       "      <th></th>\n",
       "      <th>Symbol</th>\n",
       "      <th>Security</th>\n",
       "      <th>SEC filings</th>\n",
       "      <th>GICS Sector</th>\n",
       "      <th>GICS Sub Industry</th>\n",
       "      <th>Headquarters Location</th>\n",
       "      <th>Date first added</th>\n",
       "      <th>CIK</th>\n",
       "      <th>Founded</th>\n",
       "      <th>S&amp;P-500</th>\n",
       "      <th>NASDAQ</th>\n",
       "      <th>DJI</th>\n",
       "    </tr>\n",
       "  </thead>\n",
       "  <tbody>\n",
       "    <tr>\n",
       "      <th>0</th>\n",
       "      <td>A</td>\n",
       "      <td>Agilent Technologies Inc</td>\n",
       "      <td>reports</td>\n",
       "      <td>Health Care</td>\n",
       "      <td>Health Care Equipment</td>\n",
       "      <td>Santa Clara, California</td>\n",
       "      <td>05.06.00</td>\n",
       "      <td>1090872.0</td>\n",
       "      <td>1999.0</td>\n",
       "      <td>True</td>\n",
       "      <td>False</td>\n",
       "      <td>False</td>\n",
       "    </tr>\n",
       "    <tr>\n",
       "      <th>1</th>\n",
       "      <td>AAL</td>\n",
       "      <td>American Airlines Group</td>\n",
       "      <td>reports</td>\n",
       "      <td>Industrials</td>\n",
       "      <td>Airlines</td>\n",
       "      <td>Fort Worth, Texas</td>\n",
       "      <td>23.03.15</td>\n",
       "      <td>6201.0</td>\n",
       "      <td>1934.0</td>\n",
       "      <td>True</td>\n",
       "      <td>False</td>\n",
       "      <td>False</td>\n",
       "    </tr>\n",
       "    <tr>\n",
       "      <th>2</th>\n",
       "      <td>AAP</td>\n",
       "      <td>Advance Auto Parts</td>\n",
       "      <td>reports</td>\n",
       "      <td>Consumer Discretionary</td>\n",
       "      <td>Automotive Retail</td>\n",
       "      <td>Raleigh, North Carolina</td>\n",
       "      <td>09.07.15</td>\n",
       "      <td>1158449.0</td>\n",
       "      <td>1932.0</td>\n",
       "      <td>True</td>\n",
       "      <td>False</td>\n",
       "      <td>False</td>\n",
       "    </tr>\n",
       "    <tr>\n",
       "      <th>3</th>\n",
       "      <td>AAPL</td>\n",
       "      <td>Apple Inc.</td>\n",
       "      <td>reports</td>\n",
       "      <td>Information Technology</td>\n",
       "      <td>Technology Hardware, Storage &amp; Peripherals</td>\n",
       "      <td>Cupertino, California</td>\n",
       "      <td>30.11.82</td>\n",
       "      <td>320193.0</td>\n",
       "      <td>1977.0</td>\n",
       "      <td>True</td>\n",
       "      <td>True</td>\n",
       "      <td>True</td>\n",
       "    </tr>\n",
       "    <tr>\n",
       "      <th>4</th>\n",
       "      <td>ABBV</td>\n",
       "      <td>AbbVie Inc.</td>\n",
       "      <td>reports</td>\n",
       "      <td>Health Care</td>\n",
       "      <td>Pharmaceuticals</td>\n",
       "      <td>North Chicago, Illinois</td>\n",
       "      <td>31.12.12</td>\n",
       "      <td>1551152.0</td>\n",
       "      <td>1888.0</td>\n",
       "      <td>True</td>\n",
       "      <td>False</td>\n",
       "      <td>False</td>\n",
       "    </tr>\n",
       "  </tbody>\n",
       "</table>\n",
       "</div>"
      ],
      "text/plain": [
       "  Symbol                  Security SEC filings             GICS Sector  \\\n",
       "0      A  Agilent Technologies Inc     reports             Health Care   \n",
       "1    AAL   American Airlines Group     reports             Industrials   \n",
       "2    AAP        Advance Auto Parts     reports  Consumer Discretionary   \n",
       "3   AAPL                Apple Inc.     reports  Information Technology   \n",
       "4   ABBV               AbbVie Inc.     reports             Health Care   \n",
       "\n",
       "                            GICS Sub Industry    Headquarters Location  \\\n",
       "0                       Health Care Equipment  Santa Clara, California   \n",
       "1                                    Airlines        Fort Worth, Texas   \n",
       "2                           Automotive Retail  Raleigh, North Carolina   \n",
       "3  Technology Hardware, Storage & Peripherals    Cupertino, California   \n",
       "4                             Pharmaceuticals  North Chicago, Illinois   \n",
       "\n",
       "  Date first added        CIK  Founded  S&P-500  NASDAQ    DJI  \n",
       "0         05.06.00  1090872.0   1999.0     True   False  False  \n",
       "1         23.03.15     6201.0   1934.0     True   False  False  \n",
       "2         09.07.15  1158449.0   1932.0     True   False  False  \n",
       "3         30.11.82   320193.0   1977.0     True    True   True  \n",
       "4         31.12.12  1551152.0   1888.0     True   False  False  "
      ]
     },
     "execution_count": 136,
     "metadata": {},
     "output_type": "execute_result"
    }
   ],
   "source": [
    "df_inf = pd.read_csv(r'D:\\python_main\\training_env\\data\\information.tsv', sep='\\t')\n",
    "print(df_inf.shape)\n",
    "df_inf.head()"
   ]
  },
  {
   "cell_type": "markdown",
   "id": "1c9df382",
   "metadata": {},
   "source": [
    "## 1.1 Разогреваемся\n",
    "\n",
    "__а) [5 баллов]__ В колонке `Date` лежит день, когда торговалась бумага. Сейчас у неё тип `string`. Превратите её в `datetime` и сделайте индексом таблицы."
   ]
  },
  {
   "cell_type": "code",
   "execution_count": 137,
   "id": "44c5e995",
   "metadata": {},
   "outputs": [
    {
     "data": {
      "text/plain": [
       "dtype('O')"
      ]
     },
     "execution_count": 137,
     "metadata": {},
     "output_type": "execute_result"
    }
   ],
   "source": [
    "df_prices['Date'].dtype"
   ]
  },
  {
   "cell_type": "code",
   "execution_count": 138,
   "id": "4345d548",
   "metadata": {},
   "outputs": [],
   "source": [
    "df_prices['Date'] = pd.to_datetime(df_prices['Date'])"
   ]
  },
  {
   "cell_type": "code",
   "execution_count": 139,
   "id": "c2ebba89",
   "metadata": {},
   "outputs": [
    {
     "data": {
      "text/plain": [
       "dtype('<M8[ns]')"
      ]
     },
     "execution_count": 139,
     "metadata": {},
     "output_type": "execute_result"
    }
   ],
   "source": [
    "df_prices['Date'].dtype"
   ]
  },
  {
   "cell_type": "code",
   "execution_count": 140,
   "id": "4c0271f6",
   "metadata": {},
   "outputs": [],
   "source": [
    "df_prices.set_index('Date', inplace=True)"
   ]
  },
  {
   "cell_type": "code",
   "execution_count": 141,
   "id": "b885544d",
   "metadata": {},
   "outputs": [
    {
     "data": {
      "text/html": [
       "<div>\n",
       "<style scoped>\n",
       "    .dataframe tbody tr th:only-of-type {\n",
       "        vertical-align: middle;\n",
       "    }\n",
       "\n",
       "    .dataframe tbody tr th {\n",
       "        vertical-align: top;\n",
       "    }\n",
       "\n",
       "    .dataframe thead th {\n",
       "        text-align: right;\n",
       "    }\n",
       "</style>\n",
       "<table border=\"1\" class=\"dataframe\">\n",
       "  <thead>\n",
       "    <tr style=\"text-align: right;\">\n",
       "      <th></th>\n",
       "      <th>A</th>\n",
       "      <th>AAL</th>\n",
       "      <th>AAP</th>\n",
       "      <th>AAPL</th>\n",
       "      <th>ABBV</th>\n",
       "      <th>ABC</th>\n",
       "      <th>ABNB</th>\n",
       "      <th>ABT</th>\n",
       "      <th>ACGL</th>\n",
       "      <th>ACN</th>\n",
       "      <th>...</th>\n",
       "      <th>XOM</th>\n",
       "      <th>XRAY</th>\n",
       "      <th>XYL</th>\n",
       "      <th>YUM</th>\n",
       "      <th>ZBH</th>\n",
       "      <th>ZBRA</th>\n",
       "      <th>ZION</th>\n",
       "      <th>ZM</th>\n",
       "      <th>ZS</th>\n",
       "      <th>ZTS</th>\n",
       "    </tr>\n",
       "    <tr>\n",
       "      <th>Date</th>\n",
       "      <th></th>\n",
       "      <th></th>\n",
       "      <th></th>\n",
       "      <th></th>\n",
       "      <th></th>\n",
       "      <th></th>\n",
       "      <th></th>\n",
       "      <th></th>\n",
       "      <th></th>\n",
       "      <th></th>\n",
       "      <th></th>\n",
       "      <th></th>\n",
       "      <th></th>\n",
       "      <th></th>\n",
       "      <th></th>\n",
       "      <th></th>\n",
       "      <th></th>\n",
       "      <th></th>\n",
       "      <th></th>\n",
       "      <th></th>\n",
       "      <th></th>\n",
       "    </tr>\n",
       "  </thead>\n",
       "  <tbody>\n",
       "    <tr>\n",
       "      <th>2013-03-05</th>\n",
       "      <td>27.946215</td>\n",
       "      <td>13.245518</td>\n",
       "      <td>71.640678</td>\n",
       "      <td>13.298839</td>\n",
       "      <td>24.972109</td>\n",
       "      <td>41.335518</td>\n",
       "      <td>NaN</td>\n",
       "      <td>28.678448</td>\n",
       "      <td>16.563334</td>\n",
       "      <td>63.810726</td>\n",
       "      <td>...</td>\n",
       "      <td>58.596577</td>\n",
       "      <td>39.023003</td>\n",
       "      <td>24.914204</td>\n",
       "      <td>39.376095</td>\n",
       "      <td>67.826096</td>\n",
       "      <td>44.869999</td>\n",
       "      <td>20.423979</td>\n",
       "      <td>NaN</td>\n",
       "      <td>NaN</td>\n",
       "      <td>31.940346</td>\n",
       "    </tr>\n",
       "    <tr>\n",
       "      <th>2013-03-06</th>\n",
       "      <td>28.326160</td>\n",
       "      <td>13.735741</td>\n",
       "      <td>70.923820</td>\n",
       "      <td>13.129805</td>\n",
       "      <td>25.125229</td>\n",
       "      <td>41.515339</td>\n",
       "      <td>NaN</td>\n",
       "      <td>28.347576</td>\n",
       "      <td>16.583332</td>\n",
       "      <td>64.217216</td>\n",
       "      <td>...</td>\n",
       "      <td>58.563908</td>\n",
       "      <td>39.283100</td>\n",
       "      <td>25.693598</td>\n",
       "      <td>39.738384</td>\n",
       "      <td>67.343094</td>\n",
       "      <td>44.790001</td>\n",
       "      <td>20.907482</td>\n",
       "      <td>NaN</td>\n",
       "      <td>NaN</td>\n",
       "      <td>31.530493</td>\n",
       "    </tr>\n",
       "    <tr>\n",
       "      <th>2013-03-07</th>\n",
       "      <td>28.332716</td>\n",
       "      <td>13.971428</td>\n",
       "      <td>70.961044</td>\n",
       "      <td>13.281566</td>\n",
       "      <td>24.958796</td>\n",
       "      <td>41.172813</td>\n",
       "      <td>NaN</td>\n",
       "      <td>28.479918</td>\n",
       "      <td>16.813334</td>\n",
       "      <td>64.349945</td>\n",
       "      <td>...</td>\n",
       "      <td>58.008087</td>\n",
       "      <td>39.515335</td>\n",
       "      <td>24.870417</td>\n",
       "      <td>39.940308</td>\n",
       "      <td>66.985306</td>\n",
       "      <td>44.619999</td>\n",
       "      <td>21.057535</td>\n",
       "      <td>NaN</td>\n",
       "      <td>NaN</td>\n",
       "      <td>32.191845</td>\n",
       "    </tr>\n",
       "    <tr>\n",
       "      <th>2013-03-08</th>\n",
       "      <td>28.188597</td>\n",
       "      <td>14.065701</td>\n",
       "      <td>71.538284</td>\n",
       "      <td>13.316731</td>\n",
       "      <td>24.858923</td>\n",
       "      <td>41.515339</td>\n",
       "      <td>NaN</td>\n",
       "      <td>28.686729</td>\n",
       "      <td>16.879999</td>\n",
       "      <td>64.997017</td>\n",
       "      <td>...</td>\n",
       "      <td>58.178085</td>\n",
       "      <td>39.701115</td>\n",
       "      <td>24.896696</td>\n",
       "      <td>40.219440</td>\n",
       "      <td>67.441467</td>\n",
       "      <td>45.040001</td>\n",
       "      <td>21.090885</td>\n",
       "      <td>NaN</td>\n",
       "      <td>NaN</td>\n",
       "      <td>31.754053</td>\n",
       "    </tr>\n",
       "    <tr>\n",
       "      <th>2013-03-11</th>\n",
       "      <td>28.044483</td>\n",
       "      <td>14.263680</td>\n",
       "      <td>72.180695</td>\n",
       "      <td>13.506428</td>\n",
       "      <td>25.078619</td>\n",
       "      <td>41.575287</td>\n",
       "      <td>NaN</td>\n",
       "      <td>28.893517</td>\n",
       "      <td>16.940001</td>\n",
       "      <td>64.955536</td>\n",
       "      <td>...</td>\n",
       "      <td>58.302341</td>\n",
       "      <td>39.812572</td>\n",
       "      <td>25.185684</td>\n",
       "      <td>40.290707</td>\n",
       "      <td>67.745613</td>\n",
       "      <td>45.470001</td>\n",
       "      <td>21.365984</td>\n",
       "      <td>NaN</td>\n",
       "      <td>NaN</td>\n",
       "      <td>31.837889</td>\n",
       "    </tr>\n",
       "  </tbody>\n",
       "</table>\n",
       "<p>5 rows × 520 columns</p>\n",
       "</div>"
      ],
      "text/plain": [
       "                    A        AAL        AAP       AAPL       ABBV        ABC  \\\n",
       "Date                                                                           \n",
       "2013-03-05  27.946215  13.245518  71.640678  13.298839  24.972109  41.335518   \n",
       "2013-03-06  28.326160  13.735741  70.923820  13.129805  25.125229  41.515339   \n",
       "2013-03-07  28.332716  13.971428  70.961044  13.281566  24.958796  41.172813   \n",
       "2013-03-08  28.188597  14.065701  71.538284  13.316731  24.858923  41.515339   \n",
       "2013-03-11  28.044483  14.263680  72.180695  13.506428  25.078619  41.575287   \n",
       "\n",
       "            ABNB        ABT       ACGL        ACN  ...        XOM       XRAY  \\\n",
       "Date                                               ...                         \n",
       "2013-03-05   NaN  28.678448  16.563334  63.810726  ...  58.596577  39.023003   \n",
       "2013-03-06   NaN  28.347576  16.583332  64.217216  ...  58.563908  39.283100   \n",
       "2013-03-07   NaN  28.479918  16.813334  64.349945  ...  58.008087  39.515335   \n",
       "2013-03-08   NaN  28.686729  16.879999  64.997017  ...  58.178085  39.701115   \n",
       "2013-03-11   NaN  28.893517  16.940001  64.955536  ...  58.302341  39.812572   \n",
       "\n",
       "                  XYL        YUM        ZBH       ZBRA       ZION  ZM  ZS  \\\n",
       "Date                                                                        \n",
       "2013-03-05  24.914204  39.376095  67.826096  44.869999  20.423979 NaN NaN   \n",
       "2013-03-06  25.693598  39.738384  67.343094  44.790001  20.907482 NaN NaN   \n",
       "2013-03-07  24.870417  39.940308  66.985306  44.619999  21.057535 NaN NaN   \n",
       "2013-03-08  24.896696  40.219440  67.441467  45.040001  21.090885 NaN NaN   \n",
       "2013-03-11  25.185684  40.290707  67.745613  45.470001  21.365984 NaN NaN   \n",
       "\n",
       "                  ZTS  \n",
       "Date                   \n",
       "2013-03-05  31.940346  \n",
       "2013-03-06  31.530493  \n",
       "2013-03-07  32.191845  \n",
       "2013-03-08  31.754053  \n",
       "2013-03-11  31.837889  \n",
       "\n",
       "[5 rows x 520 columns]"
      ]
     },
     "execution_count": 141,
     "metadata": {},
     "output_type": "execute_result"
    }
   ],
   "source": [
    "df_prices.head()"
   ]
  },
  {
   "cell_type": "markdown",
   "id": "306cf4ef",
   "metadata": {},
   "source": [
    "__б) [5 баллов]__ В колонках `'S&P-500', 'NASDAQ', 'DJI'` лежит True, если ценная бумага входит в соотвествующий индекс. Сколько ценных бумаг из таблицы входили в индекс NASDAQ? "
   ]
  },
  {
   "cell_type": "code",
   "execution_count": 142,
   "id": "cf3f7df1",
   "metadata": {},
   "outputs": [
    {
     "data": {
      "text/plain": [
       "103"
      ]
     },
     "execution_count": 142,
     "metadata": {},
     "output_type": "execute_result"
    }
   ],
   "source": [
    "df_inf[df_inf['NASDAQ'] == True].shape[0]"
   ]
  },
  {
   "cell_type": "markdown",
   "id": "c49bb006",
   "metadata": {},
   "source": [
    "Ответ: 103"
   ]
  },
  {
   "cell_type": "markdown",
   "id": "fc68686e",
   "metadata": {},
   "source": [
    "Сколько ценных бумаг входят во все три индекса сразу?"
   ]
  },
  {
   "cell_type": "code",
   "execution_count": 97,
   "id": "64f10e94",
   "metadata": {},
   "outputs": [
    {
     "data": {
      "text/plain": [
       "5"
      ]
     },
     "execution_count": 97,
     "metadata": {},
     "output_type": "execute_result"
    }
   ],
   "source": [
    "df_inf[(df_inf['NASDAQ'] == True) & (df_inf['S&P-500'] == True) & (df_inf['DJI'] == True)].shape[0]"
   ]
  },
  {
   "cell_type": "markdown",
   "id": "5deb24f4",
   "metadata": {},
   "source": [
    "Ответ: 5"
   ]
  },
  {
   "cell_type": "code",
   "execution_count": 143,
   "id": "6c363016",
   "metadata": {},
   "outputs": [
    {
     "data": {
      "text/html": [
       "<div>\n",
       "<style scoped>\n",
       "    .dataframe tbody tr th:only-of-type {\n",
       "        vertical-align: middle;\n",
       "    }\n",
       "\n",
       "    .dataframe tbody tr th {\n",
       "        vertical-align: top;\n",
       "    }\n",
       "\n",
       "    .dataframe thead th {\n",
       "        text-align: right;\n",
       "    }\n",
       "</style>\n",
       "<table border=\"1\" class=\"dataframe\">\n",
       "  <thead>\n",
       "    <tr style=\"text-align: right;\">\n",
       "      <th></th>\n",
       "      <th>Symbol</th>\n",
       "      <th>Security</th>\n",
       "      <th>SEC filings</th>\n",
       "      <th>GICS Sector</th>\n",
       "      <th>GICS Sub Industry</th>\n",
       "      <th>Headquarters Location</th>\n",
       "      <th>Date first added</th>\n",
       "      <th>CIK</th>\n",
       "      <th>Founded</th>\n",
       "      <th>S&amp;P-500</th>\n",
       "      <th>NASDAQ</th>\n",
       "      <th>DJI</th>\n",
       "    </tr>\n",
       "  </thead>\n",
       "  <tbody>\n",
       "    <tr>\n",
       "      <th>3</th>\n",
       "      <td>AAPL</td>\n",
       "      <td>Apple Inc.</td>\n",
       "      <td>reports</td>\n",
       "      <td>Information Technology</td>\n",
       "      <td>Technology Hardware, Storage &amp; Peripherals</td>\n",
       "      <td>Cupertino, California</td>\n",
       "      <td>30.11.82</td>\n",
       "      <td>320193.0</td>\n",
       "      <td>1977.0</td>\n",
       "      <td>True</td>\n",
       "      <td>True</td>\n",
       "      <td>True</td>\n",
       "    </tr>\n",
       "    <tr>\n",
       "      <th>119</th>\n",
       "      <td>CSCO</td>\n",
       "      <td>Cisco Systems</td>\n",
       "      <td>reports</td>\n",
       "      <td>Information Technology</td>\n",
       "      <td>Communications Equipment</td>\n",
       "      <td>San Jose, California</td>\n",
       "      <td>01.12.93</td>\n",
       "      <td>858877.0</td>\n",
       "      <td>1984.0</td>\n",
       "      <td>True</td>\n",
       "      <td>True</td>\n",
       "      <td>True</td>\n",
       "    </tr>\n",
       "    <tr>\n",
       "      <th>247</th>\n",
       "      <td>INTC</td>\n",
       "      <td>Intel Corp.</td>\n",
       "      <td>reports</td>\n",
       "      <td>Information Technology</td>\n",
       "      <td>Semiconductors</td>\n",
       "      <td>Santa Clara, California</td>\n",
       "      <td>31.12.76</td>\n",
       "      <td>50863.0</td>\n",
       "      <td>1968.0</td>\n",
       "      <td>True</td>\n",
       "      <td>True</td>\n",
       "      <td>True</td>\n",
       "    </tr>\n",
       "    <tr>\n",
       "      <th>331</th>\n",
       "      <td>MSFT</td>\n",
       "      <td>Microsoft Corp.</td>\n",
       "      <td>reports</td>\n",
       "      <td>Information Technology</td>\n",
       "      <td>Systems Software</td>\n",
       "      <td>Redmond, Washington</td>\n",
       "      <td>01.06.94</td>\n",
       "      <td>789019.0</td>\n",
       "      <td>1975.0</td>\n",
       "      <td>True</td>\n",
       "      <td>True</td>\n",
       "      <td>True</td>\n",
       "    </tr>\n",
       "    <tr>\n",
       "      <th>496</th>\n",
       "      <td>WBA</td>\n",
       "      <td>Walgreens Boots Alliance</td>\n",
       "      <td>reports</td>\n",
       "      <td>Consumer Staples</td>\n",
       "      <td>Drug Retail</td>\n",
       "      <td>Deerfield, Illinois</td>\n",
       "      <td>31.12.79</td>\n",
       "      <td>1618921.0</td>\n",
       "      <td>2014.0</td>\n",
       "      <td>True</td>\n",
       "      <td>True</td>\n",
       "      <td>True</td>\n",
       "    </tr>\n",
       "  </tbody>\n",
       "</table>\n",
       "</div>"
      ],
      "text/plain": [
       "    Symbol                  Security SEC filings             GICS Sector  \\\n",
       "3     AAPL                Apple Inc.     reports  Information Technology   \n",
       "119   CSCO             Cisco Systems     reports  Information Technology   \n",
       "247   INTC               Intel Corp.     reports  Information Technology   \n",
       "331   MSFT           Microsoft Corp.     reports  Information Technology   \n",
       "496    WBA  Walgreens Boots Alliance     reports        Consumer Staples   \n",
       "\n",
       "                              GICS Sub Industry    Headquarters Location  \\\n",
       "3    Technology Hardware, Storage & Peripherals    Cupertino, California   \n",
       "119                    Communications Equipment     San Jose, California   \n",
       "247                              Semiconductors  Santa Clara, California   \n",
       "331                            Systems Software      Redmond, Washington   \n",
       "496                                 Drug Retail      Deerfield, Illinois   \n",
       "\n",
       "    Date first added        CIK  Founded  S&P-500  NASDAQ   DJI  \n",
       "3           30.11.82   320193.0   1977.0     True    True  True  \n",
       "119         01.12.93   858877.0   1984.0     True    True  True  \n",
       "247         31.12.76    50863.0   1968.0     True    True  True  \n",
       "331         01.06.94   789019.0   1975.0     True    True  True  \n",
       "496         31.12.79  1618921.0   2014.0     True    True  True  "
      ]
     },
     "execution_count": 143,
     "metadata": {},
     "output_type": "execute_result"
    }
   ],
   "source": [
    "df_inf[(df_inf['NASDAQ'] == True) & (df_inf['S&P-500'] == True) & (df_inf['DJI'] == True)]"
   ]
  },
  {
   "cell_type": "markdown",
   "id": "105505b2",
   "metadata": {},
   "source": [
    "В колонке `Founded` записан год основания компании. Сколько компаний из индекса S&P-500 были основаны в 19 веке (1900 год относится к 20 веку)? "
   ]
  },
  {
   "cell_type": "code",
   "execution_count": 99,
   "id": "a7906564",
   "metadata": {},
   "outputs": [
    {
     "data": {
      "text/plain": [
       "95"
      ]
     },
     "execution_count": 99,
     "metadata": {},
     "output_type": "execute_result"
    }
   ],
   "source": [
    "df_inf[(df_inf['S&P-500'] == True) & (df_inf['Founded'] < 1900) & (df_inf['Founded'] >= 1800)].shape[0]"
   ]
  },
  {
   "cell_type": "markdown",
   "id": "24905706",
   "metadata": {},
   "source": [
    "Ответ: 95"
   ]
  },
  {
   "cell_type": "markdown",
   "id": "eddcf9e5",
   "metadata": {},
   "source": [
    "В колонке `GICS Sector` находится сектор экономики, в котором работает компания. Сколько всего уникальных секторов представлено в данных?"
   ]
  },
  {
   "cell_type": "code",
   "execution_count": 100,
   "id": "0faf612f",
   "metadata": {},
   "outputs": [
    {
     "data": {
      "text/plain": [
       "11"
      ]
     },
     "execution_count": 100,
     "metadata": {},
     "output_type": "execute_result"
    }
   ],
   "source": [
    "df_inf['GICS Sector'].nunique()"
   ]
  },
  {
   "cell_type": "markdown",
   "id": "6a69f83b",
   "metadata": {},
   "source": [
    "Я забыл уже как выглядит таблиська"
   ]
  },
  {
   "cell_type": "code",
   "execution_count": 101,
   "id": "b8da1088",
   "metadata": {},
   "outputs": [
    {
     "data": {
      "text/html": [
       "<div>\n",
       "<style scoped>\n",
       "    .dataframe tbody tr th:only-of-type {\n",
       "        vertical-align: middle;\n",
       "    }\n",
       "\n",
       "    .dataframe tbody tr th {\n",
       "        vertical-align: top;\n",
       "    }\n",
       "\n",
       "    .dataframe thead th {\n",
       "        text-align: right;\n",
       "    }\n",
       "</style>\n",
       "<table border=\"1\" class=\"dataframe\">\n",
       "  <thead>\n",
       "    <tr style=\"text-align: right;\">\n",
       "      <th></th>\n",
       "      <th>Symbol</th>\n",
       "      <th>Security</th>\n",
       "      <th>SEC filings</th>\n",
       "      <th>GICS Sector</th>\n",
       "      <th>GICS Sub Industry</th>\n",
       "      <th>Headquarters Location</th>\n",
       "      <th>Date first added</th>\n",
       "      <th>CIK</th>\n",
       "      <th>Founded</th>\n",
       "      <th>S&amp;P-500</th>\n",
       "      <th>NASDAQ</th>\n",
       "      <th>DJI</th>\n",
       "    </tr>\n",
       "  </thead>\n",
       "  <tbody>\n",
       "    <tr>\n",
       "      <th>0</th>\n",
       "      <td>A</td>\n",
       "      <td>Agilent Technologies Inc</td>\n",
       "      <td>reports</td>\n",
       "      <td>Health Care</td>\n",
       "      <td>Health Care Equipment</td>\n",
       "      <td>Santa Clara, California</td>\n",
       "      <td>05.06.00</td>\n",
       "      <td>1090872.0</td>\n",
       "      <td>1999.0</td>\n",
       "      <td>True</td>\n",
       "      <td>False</td>\n",
       "      <td>False</td>\n",
       "    </tr>\n",
       "    <tr>\n",
       "      <th>1</th>\n",
       "      <td>AAL</td>\n",
       "      <td>American Airlines Group</td>\n",
       "      <td>reports</td>\n",
       "      <td>Industrials</td>\n",
       "      <td>Airlines</td>\n",
       "      <td>Fort Worth, Texas</td>\n",
       "      <td>23.03.15</td>\n",
       "      <td>6201.0</td>\n",
       "      <td>1934.0</td>\n",
       "      <td>True</td>\n",
       "      <td>False</td>\n",
       "      <td>False</td>\n",
       "    </tr>\n",
       "    <tr>\n",
       "      <th>2</th>\n",
       "      <td>AAP</td>\n",
       "      <td>Advance Auto Parts</td>\n",
       "      <td>reports</td>\n",
       "      <td>Consumer Discretionary</td>\n",
       "      <td>Automotive Retail</td>\n",
       "      <td>Raleigh, North Carolina</td>\n",
       "      <td>09.07.15</td>\n",
       "      <td>1158449.0</td>\n",
       "      <td>1932.0</td>\n",
       "      <td>True</td>\n",
       "      <td>False</td>\n",
       "      <td>False</td>\n",
       "    </tr>\n",
       "  </tbody>\n",
       "</table>\n",
       "</div>"
      ],
      "text/plain": [
       "  Symbol                  Security SEC filings             GICS Sector  \\\n",
       "0      A  Agilent Technologies Inc     reports             Health Care   \n",
       "1    AAL   American Airlines Group     reports             Industrials   \n",
       "2    AAP        Advance Auto Parts     reports  Consumer Discretionary   \n",
       "\n",
       "       GICS Sub Industry    Headquarters Location Date first added        CIK  \\\n",
       "0  Health Care Equipment  Santa Clara, California         05.06.00  1090872.0   \n",
       "1               Airlines        Fort Worth, Texas         23.03.15     6201.0   \n",
       "2      Automotive Retail  Raleigh, North Carolina         09.07.15  1158449.0   \n",
       "\n",
       "   Founded  S&P-500  NASDAQ    DJI  \n",
       "0   1999.0     True   False  False  \n",
       "1   1934.0     True   False  False  \n",
       "2   1932.0     True   False  False  "
      ]
     },
     "execution_count": 101,
     "metadata": {},
     "output_type": "execute_result"
    }
   ],
   "source": [
    "df_inf.head(3)"
   ]
  },
  {
   "cell_type": "markdown",
   "id": "029a7255",
   "metadata": {},
   "source": [
    "Ответ: 11"
   ]
  },
  {
   "cell_type": "markdown",
   "id": "312b8df5",
   "metadata": {},
   "source": [
    "Таблица с информацией устаревшая. Есть тикеры, которые попали в таблицу с ценами, но не попали в таблицу с информацией. Сколько таких тикеров? "
   ]
  },
  {
   "cell_type": "code",
   "execution_count": 102,
   "id": "1fa5d64f",
   "metadata": {},
   "outputs": [
    {
     "data": {
      "text/plain": [
       "np.int64(461)"
      ]
     },
     "execution_count": 102,
     "metadata": {},
     "output_type": "execute_result"
    }
   ],
   "source": [
    "df_prices.columns[1:].isin(df_inf['Symbol']).sum()"
   ]
  },
  {
   "cell_type": "markdown",
   "id": "23df37bf",
   "metadata": {},
   "source": [
    "__в) [5 баллов]__ Сколько компаний из индекса S&P-500 в сумме приходится на $3$ самых крупных сектора?"
   ]
  },
  {
   "cell_type": "code",
   "execution_count": 103,
   "id": "a7ed06d1",
   "metadata": {},
   "outputs": [
    {
     "data": {
      "text/html": [
       "<div>\n",
       "<style scoped>\n",
       "    .dataframe tbody tr th:only-of-type {\n",
       "        vertical-align: middle;\n",
       "    }\n",
       "\n",
       "    .dataframe tbody tr th {\n",
       "        vertical-align: top;\n",
       "    }\n",
       "\n",
       "    .dataframe thead th {\n",
       "        text-align: right;\n",
       "    }\n",
       "</style>\n",
       "<table border=\"1\" class=\"dataframe\">\n",
       "  <thead>\n",
       "    <tr style=\"text-align: right;\">\n",
       "      <th></th>\n",
       "      <th>proportion</th>\n",
       "    </tr>\n",
       "    <tr>\n",
       "      <th>GICS Sector</th>\n",
       "      <th></th>\n",
       "    </tr>\n",
       "  </thead>\n",
       "  <tbody>\n",
       "    <tr>\n",
       "      <th>Industrials</th>\n",
       "      <td>14.455446</td>\n",
       "    </tr>\n",
       "    <tr>\n",
       "      <th>Information Technology</th>\n",
       "      <td>14.059406</td>\n",
       "    </tr>\n",
       "    <tr>\n",
       "      <th>Financials</th>\n",
       "      <td>13.069307</td>\n",
       "    </tr>\n",
       "  </tbody>\n",
       "</table>\n",
       "</div>"
      ],
      "text/plain": [
       "                        proportion\n",
       "GICS Sector                       \n",
       "Industrials              14.455446\n",
       "Information Technology   14.059406\n",
       "Financials               13.069307"
      ]
     },
     "execution_count": 103,
     "metadata": {},
     "output_type": "execute_result"
    }
   ],
   "source": [
    "df_inf['GICS Sector'].value_counts(normalize=True).head(3).to_frame() * 100\n",
    "\n",
    "# т.е. три самые крупные секторы это вот такие"
   ]
  },
  {
   "cell_type": "code",
   "execution_count": 104,
   "id": "52b72fdd",
   "metadata": {},
   "outputs": [
    {
     "data": {
      "text/plain": [
       "210"
      ]
     },
     "execution_count": 104,
     "metadata": {},
     "output_type": "execute_result"
    }
   ],
   "source": [
    "df_inf[((df_inf['GICS Sector'] == 'Industrials') | (df_inf['GICS Sector'] == 'Information Technology') \n",
    "        | (df_inf['GICS Sector'] == 'Financials')) & df_inf['S&P-500'] == True].shape[0]"
   ]
  },
  {
   "cell_type": "markdown",
   "id": "5a1cb335",
   "metadata": {},
   "source": [
    "__г) [5 баллов]__ Теперь поработаем со стоимостью акций. \n",
    "\n",
    "Выберите 5 случайных тикеров и постройте для них картинки с динамикой цен и гистограммы. Дайте ответы на вопросы:\n",
    "\n",
    "- Распределение стоимости акций похоже на нормальное?\n",
    "- Что происходило с финансовыми рынками в течение последних $10$ лет? Они росли? Они падали? Видно ли, что были кризисы? \n",
    "\n",
    "__Ответ:__ 1) Не похоже, ну типо очень отдалённо с явной правосторонней ассиметрией в основном и экцессами\n",
    "2)"
   ]
  },
  {
   "cell_type": "code",
   "execution_count": 105,
   "id": "7325420c",
   "metadata": {},
   "outputs": [],
   "source": [
    "# получим 5 случайных тикеров\n",
    "from random import randint\n",
    "\n",
    "df_sample = df_prices.iloc[:, [randint(2, 521) for _ in range(5)]]"
   ]
  },
  {
   "cell_type": "code",
   "execution_count": 106,
   "id": "8b0ed2c5",
   "metadata": {},
   "outputs": [
    {
     "data": {
      "text/html": [
       "<div>\n",
       "<style scoped>\n",
       "    .dataframe tbody tr th:only-of-type {\n",
       "        vertical-align: middle;\n",
       "    }\n",
       "\n",
       "    .dataframe tbody tr th {\n",
       "        vertical-align: top;\n",
       "    }\n",
       "\n",
       "    .dataframe thead th {\n",
       "        text-align: right;\n",
       "    }\n",
       "</style>\n",
       "<table border=\"1\" class=\"dataframe\">\n",
       "  <thead>\n",
       "    <tr style=\"text-align: right;\">\n",
       "      <th></th>\n",
       "      <th>NTAP</th>\n",
       "      <th>TSN</th>\n",
       "      <th>WY</th>\n",
       "      <th>AVGO</th>\n",
       "      <th>TMO</th>\n",
       "    </tr>\n",
       "    <tr>\n",
       "      <th>Date</th>\n",
       "      <th></th>\n",
       "      <th></th>\n",
       "      <th></th>\n",
       "      <th></th>\n",
       "      <th></th>\n",
       "    </tr>\n",
       "  </thead>\n",
       "  <tbody>\n",
       "    <tr>\n",
       "      <th>2013-03-05</th>\n",
       "      <td>26.879070</td>\n",
       "      <td>19.683670</td>\n",
       "      <td>20.322916</td>\n",
       "      <td>26.128017</td>\n",
       "      <td>73.721527</td>\n",
       "    </tr>\n",
       "    <tr>\n",
       "      <th>2013-03-06</th>\n",
       "      <td>27.201864</td>\n",
       "      <td>19.886162</td>\n",
       "      <td>20.242641</td>\n",
       "      <td>26.417223</td>\n",
       "      <td>73.953003</td>\n",
       "    </tr>\n",
       "    <tr>\n",
       "      <th>2013-03-07</th>\n",
       "      <td>26.989283</td>\n",
       "      <td>20.054907</td>\n",
       "      <td>20.189125</td>\n",
       "      <td>26.615107</td>\n",
       "      <td>73.779366</td>\n",
       "    </tr>\n",
       "    <tr>\n",
       "      <th>2013-03-08</th>\n",
       "      <td>26.934172</td>\n",
       "      <td>20.248953</td>\n",
       "      <td>20.229265</td>\n",
       "      <td>26.843430</td>\n",
       "      <td>74.309898</td>\n",
       "    </tr>\n",
       "    <tr>\n",
       "      <th>2013-03-11</th>\n",
       "      <td>27.304209</td>\n",
       "      <td>20.071775</td>\n",
       "      <td>20.409882</td>\n",
       "      <td>26.835819</td>\n",
       "      <td>74.483513</td>\n",
       "    </tr>\n",
       "    <tr>\n",
       "      <th>...</th>\n",
       "      <td>...</td>\n",
       "      <td>...</td>\n",
       "      <td>...</td>\n",
       "      <td>...</td>\n",
       "      <td>...</td>\n",
       "    </tr>\n",
       "    <tr>\n",
       "      <th>2023-02-27</th>\n",
       "      <td>64.769997</td>\n",
       "      <td>59.930000</td>\n",
       "      <td>30.714678</td>\n",
       "      <td>585.450012</td>\n",
       "      <td>541.349976</td>\n",
       "    </tr>\n",
       "    <tr>\n",
       "      <th>2023-02-28</th>\n",
       "      <td>64.550003</td>\n",
       "      <td>59.240002</td>\n",
       "      <td>31.062578</td>\n",
       "      <td>594.289978</td>\n",
       "      <td>541.760010</td>\n",
       "    </tr>\n",
       "    <tr>\n",
       "      <th>2023-03-01</th>\n",
       "      <td>64.599998</td>\n",
       "      <td>59.290001</td>\n",
       "      <td>31.490000</td>\n",
       "      <td>593.570007</td>\n",
       "      <td>538.520020</td>\n",
       "    </tr>\n",
       "    <tr>\n",
       "      <th>2023-03-02</th>\n",
       "      <td>65.139999</td>\n",
       "      <td>59.060001</td>\n",
       "      <td>31.350000</td>\n",
       "      <td>598.650024</td>\n",
       "      <td>548.750000</td>\n",
       "    </tr>\n",
       "    <tr>\n",
       "      <th>2023-03-03</th>\n",
       "      <td>65.779999</td>\n",
       "      <td>59.230000</td>\n",
       "      <td>31.660000</td>\n",
       "      <td>632.760010</td>\n",
       "      <td>559.440002</td>\n",
       "    </tr>\n",
       "  </tbody>\n",
       "</table>\n",
       "<p>2518 rows × 5 columns</p>\n",
       "</div>"
      ],
      "text/plain": [
       "                 NTAP        TSN         WY        AVGO         TMO\n",
       "Date                                                               \n",
       "2013-03-05  26.879070  19.683670  20.322916   26.128017   73.721527\n",
       "2013-03-06  27.201864  19.886162  20.242641   26.417223   73.953003\n",
       "2013-03-07  26.989283  20.054907  20.189125   26.615107   73.779366\n",
       "2013-03-08  26.934172  20.248953  20.229265   26.843430   74.309898\n",
       "2013-03-11  27.304209  20.071775  20.409882   26.835819   74.483513\n",
       "...               ...        ...        ...         ...         ...\n",
       "2023-02-27  64.769997  59.930000  30.714678  585.450012  541.349976\n",
       "2023-02-28  64.550003  59.240002  31.062578  594.289978  541.760010\n",
       "2023-03-01  64.599998  59.290001  31.490000  593.570007  538.520020\n",
       "2023-03-02  65.139999  59.060001  31.350000  598.650024  548.750000\n",
       "2023-03-03  65.779999  59.230000  31.660000  632.760010  559.440002\n",
       "\n",
       "[2518 rows x 5 columns]"
      ]
     },
     "execution_count": 106,
     "metadata": {},
     "output_type": "execute_result"
    }
   ],
   "source": [
    "df_sample"
   ]
  },
  {
   "cell_type": "code",
   "execution_count": 107,
   "id": "03bab971",
   "metadata": {},
   "outputs": [
    {
     "ename": "ValueError",
     "evalue": "Could not interpret value `MCK` for `x`. An entry with this name does not appear in `data`.",
     "output_type": "error",
     "traceback": [
      "\u001b[1;31m---------------------------------------------------------------------------\u001b[0m",
      "\u001b[1;31mValueError\u001b[0m                                Traceback (most recent call last)",
      "Cell \u001b[1;32mIn[107], line 6\u001b[0m\n\u001b[0;32m      1\u001b[0m \u001b[38;5;66;03m# plt.figure(figsize=(10, 6))\u001b[39;00m\n\u001b[0;32m      2\u001b[0m \u001b[38;5;66;03m# plt.title('Ядерная оценка плотности распределения цен акций')\u001b[39;00m\n\u001b[0;32m      5\u001b[0m plt\u001b[38;5;241m.\u001b[39msubplot(\u001b[38;5;241m2\u001b[39m, \u001b[38;5;241m2\u001b[39m, \u001b[38;5;241m1\u001b[39m)\n\u001b[1;32m----> 6\u001b[0m \u001b[43msns\u001b[49m\u001b[38;5;241;43m.\u001b[39;49m\u001b[43mkdeplot\u001b[49m\u001b[43m(\u001b[49m\u001b[43mdata\u001b[49m\u001b[38;5;241;43m=\u001b[39;49m\u001b[43mdf_sample\u001b[49m\u001b[43m,\u001b[49m\u001b[43m \u001b[49m\u001b[43mx\u001b[49m\u001b[38;5;241;43m=\u001b[39;49m\u001b[38;5;124;43m'\u001b[39;49m\u001b[38;5;124;43mMCK\u001b[39;49m\u001b[38;5;124;43m'\u001b[39;49m\u001b[43m,\u001b[49m\u001b[43m \u001b[49m\u001b[43mfill\u001b[49m\u001b[38;5;241;43m=\u001b[39;49m\u001b[38;5;28;43;01mTrue\u001b[39;49;00m\u001b[43m)\u001b[49m\n\u001b[0;32m      8\u001b[0m plt\u001b[38;5;241m.\u001b[39msubplot(\u001b[38;5;241m2\u001b[39m, \u001b[38;5;241m2\u001b[39m, \u001b[38;5;241m2\u001b[39m)\n\u001b[0;32m      9\u001b[0m sns\u001b[38;5;241m.\u001b[39mkdeplot(data\u001b[38;5;241m=\u001b[39mdf_sample, x\u001b[38;5;241m=\u001b[39m\u001b[38;5;124m'\u001b[39m\u001b[38;5;124mXEL\u001b[39m\u001b[38;5;124m'\u001b[39m, fill\u001b[38;5;241m=\u001b[39m\u001b[38;5;28;01mTrue\u001b[39;00m)\n",
      "File \u001b[1;32md:\\python_main\\training_env\\.venv\\Lib\\site-packages\\seaborn\\distributions.py:1669\u001b[0m, in \u001b[0;36mkdeplot\u001b[1;34m(data, x, y, hue, weights, palette, hue_order, hue_norm, color, fill, multiple, common_norm, common_grid, cumulative, bw_method, bw_adjust, warn_singular, log_scale, levels, thresh, gridsize, cut, clip, legend, cbar, cbar_ax, cbar_kws, ax, **kwargs)\u001b[0m\n\u001b[0;32m   1665\u001b[0m levels \u001b[38;5;241m=\u001b[39m kwargs\u001b[38;5;241m.\u001b[39mpop(\u001b[38;5;124m\"\u001b[39m\u001b[38;5;124mn_levels\u001b[39m\u001b[38;5;124m\"\u001b[39m, levels)\n\u001b[0;32m   1667\u001b[0m \u001b[38;5;66;03m# - - - - - - - - - - - - - - - - - - - - - - - - - - - - - - - - - - - - #\u001b[39;00m\n\u001b[1;32m-> 1669\u001b[0m p \u001b[38;5;241m=\u001b[39m \u001b[43m_DistributionPlotter\u001b[49m\u001b[43m(\u001b[49m\n\u001b[0;32m   1670\u001b[0m \u001b[43m    \u001b[49m\u001b[43mdata\u001b[49m\u001b[38;5;241;43m=\u001b[39;49m\u001b[43mdata\u001b[49m\u001b[43m,\u001b[49m\n\u001b[0;32m   1671\u001b[0m \u001b[43m    \u001b[49m\u001b[43mvariables\u001b[49m\u001b[38;5;241;43m=\u001b[39;49m\u001b[38;5;28;43mdict\u001b[39;49m\u001b[43m(\u001b[49m\u001b[43mx\u001b[49m\u001b[38;5;241;43m=\u001b[39;49m\u001b[43mx\u001b[49m\u001b[43m,\u001b[49m\u001b[43m \u001b[49m\u001b[43my\u001b[49m\u001b[38;5;241;43m=\u001b[39;49m\u001b[43my\u001b[49m\u001b[43m,\u001b[49m\u001b[43m \u001b[49m\u001b[43mhue\u001b[49m\u001b[38;5;241;43m=\u001b[39;49m\u001b[43mhue\u001b[49m\u001b[43m,\u001b[49m\u001b[43m \u001b[49m\u001b[43mweights\u001b[49m\u001b[38;5;241;43m=\u001b[39;49m\u001b[43mweights\u001b[49m\u001b[43m)\u001b[49m\u001b[43m,\u001b[49m\n\u001b[0;32m   1672\u001b[0m \u001b[43m\u001b[49m\u001b[43m)\u001b[49m\n\u001b[0;32m   1674\u001b[0m p\u001b[38;5;241m.\u001b[39mmap_hue(palette\u001b[38;5;241m=\u001b[39mpalette, order\u001b[38;5;241m=\u001b[39mhue_order, norm\u001b[38;5;241m=\u001b[39mhue_norm)\n\u001b[0;32m   1676\u001b[0m \u001b[38;5;28;01mif\u001b[39;00m ax \u001b[38;5;129;01mis\u001b[39;00m \u001b[38;5;28;01mNone\u001b[39;00m:\n",
      "File \u001b[1;32md:\\python_main\\training_env\\.venv\\Lib\\site-packages\\seaborn\\distributions.py:110\u001b[0m, in \u001b[0;36m_DistributionPlotter.__init__\u001b[1;34m(self, data, variables)\u001b[0m\n\u001b[0;32m    104\u001b[0m \u001b[38;5;28;01mdef\u001b[39;00m\u001b[38;5;250m \u001b[39m\u001b[38;5;21m__init__\u001b[39m(\n\u001b[0;32m    105\u001b[0m     \u001b[38;5;28mself\u001b[39m,\n\u001b[0;32m    106\u001b[0m     data\u001b[38;5;241m=\u001b[39m\u001b[38;5;28;01mNone\u001b[39;00m,\n\u001b[0;32m    107\u001b[0m     variables\u001b[38;5;241m=\u001b[39m{},\n\u001b[0;32m    108\u001b[0m ):\n\u001b[1;32m--> 110\u001b[0m     \u001b[38;5;28;43msuper\u001b[39;49m\u001b[43m(\u001b[49m\u001b[43m)\u001b[49m\u001b[38;5;241;43m.\u001b[39;49m\u001b[38;5;21;43m__init__\u001b[39;49m\u001b[43m(\u001b[49m\u001b[43mdata\u001b[49m\u001b[38;5;241;43m=\u001b[39;49m\u001b[43mdata\u001b[49m\u001b[43m,\u001b[49m\u001b[43m \u001b[49m\u001b[43mvariables\u001b[49m\u001b[38;5;241;43m=\u001b[39;49m\u001b[43mvariables\u001b[49m\u001b[43m)\u001b[49m\n",
      "File \u001b[1;32md:\\python_main\\training_env\\.venv\\Lib\\site-packages\\seaborn\\_base.py:634\u001b[0m, in \u001b[0;36mVectorPlotter.__init__\u001b[1;34m(self, data, variables)\u001b[0m\n\u001b[0;32m    629\u001b[0m \u001b[38;5;66;03m# var_ordered is relevant only for categorical axis variables, and may\u001b[39;00m\n\u001b[0;32m    630\u001b[0m \u001b[38;5;66;03m# be better handled by an internal axis information object that tracks\u001b[39;00m\n\u001b[0;32m    631\u001b[0m \u001b[38;5;66;03m# such information and is set up by the scale_* methods. The analogous\u001b[39;00m\n\u001b[0;32m    632\u001b[0m \u001b[38;5;66;03m# information for numeric axes would be information about log scales.\u001b[39;00m\n\u001b[0;32m    633\u001b[0m \u001b[38;5;28mself\u001b[39m\u001b[38;5;241m.\u001b[39m_var_ordered \u001b[38;5;241m=\u001b[39m {\u001b[38;5;124m\"\u001b[39m\u001b[38;5;124mx\u001b[39m\u001b[38;5;124m\"\u001b[39m: \u001b[38;5;28;01mFalse\u001b[39;00m, \u001b[38;5;124m\"\u001b[39m\u001b[38;5;124my\u001b[39m\u001b[38;5;124m\"\u001b[39m: \u001b[38;5;28;01mFalse\u001b[39;00m}  \u001b[38;5;66;03m# alt., used DefaultDict\u001b[39;00m\n\u001b[1;32m--> 634\u001b[0m \u001b[38;5;28;43mself\u001b[39;49m\u001b[38;5;241;43m.\u001b[39;49m\u001b[43massign_variables\u001b[49m\u001b[43m(\u001b[49m\u001b[43mdata\u001b[49m\u001b[43m,\u001b[49m\u001b[43m \u001b[49m\u001b[43mvariables\u001b[49m\u001b[43m)\u001b[49m\n\u001b[0;32m    636\u001b[0m \u001b[38;5;66;03m# TODO Lots of tests assume that these are called to initialize the\u001b[39;00m\n\u001b[0;32m    637\u001b[0m \u001b[38;5;66;03m# mappings to default values on class initialization. I'd prefer to\u001b[39;00m\n\u001b[0;32m    638\u001b[0m \u001b[38;5;66;03m# move away from that and only have a mapping when explicitly called.\u001b[39;00m\n\u001b[0;32m    639\u001b[0m \u001b[38;5;28;01mfor\u001b[39;00m var \u001b[38;5;129;01min\u001b[39;00m [\u001b[38;5;124m\"\u001b[39m\u001b[38;5;124mhue\u001b[39m\u001b[38;5;124m\"\u001b[39m, \u001b[38;5;124m\"\u001b[39m\u001b[38;5;124msize\u001b[39m\u001b[38;5;124m\"\u001b[39m, \u001b[38;5;124m\"\u001b[39m\u001b[38;5;124mstyle\u001b[39m\u001b[38;5;124m\"\u001b[39m]:\n",
      "File \u001b[1;32md:\\python_main\\training_env\\.venv\\Lib\\site-packages\\seaborn\\_base.py:679\u001b[0m, in \u001b[0;36mVectorPlotter.assign_variables\u001b[1;34m(self, data, variables)\u001b[0m\n\u001b[0;32m    674\u001b[0m \u001b[38;5;28;01melse\u001b[39;00m:\n\u001b[0;32m    675\u001b[0m     \u001b[38;5;66;03m# When dealing with long-form input, use the newer PlotData\u001b[39;00m\n\u001b[0;32m    676\u001b[0m     \u001b[38;5;66;03m# object (internal but introduced for the objects interface)\u001b[39;00m\n\u001b[0;32m    677\u001b[0m     \u001b[38;5;66;03m# to centralize / standardize data consumption logic.\u001b[39;00m\n\u001b[0;32m    678\u001b[0m     \u001b[38;5;28mself\u001b[39m\u001b[38;5;241m.\u001b[39minput_format \u001b[38;5;241m=\u001b[39m \u001b[38;5;124m\"\u001b[39m\u001b[38;5;124mlong\u001b[39m\u001b[38;5;124m\"\u001b[39m\n\u001b[1;32m--> 679\u001b[0m     plot_data \u001b[38;5;241m=\u001b[39m \u001b[43mPlotData\u001b[49m\u001b[43m(\u001b[49m\u001b[43mdata\u001b[49m\u001b[43m,\u001b[49m\u001b[43m \u001b[49m\u001b[43mvariables\u001b[49m\u001b[43m)\u001b[49m\n\u001b[0;32m    680\u001b[0m     frame \u001b[38;5;241m=\u001b[39m plot_data\u001b[38;5;241m.\u001b[39mframe\n\u001b[0;32m    681\u001b[0m     names \u001b[38;5;241m=\u001b[39m plot_data\u001b[38;5;241m.\u001b[39mnames\n",
      "File \u001b[1;32md:\\python_main\\training_env\\.venv\\Lib\\site-packages\\seaborn\\_core\\data.py:58\u001b[0m, in \u001b[0;36mPlotData.__init__\u001b[1;34m(self, data, variables)\u001b[0m\n\u001b[0;32m     51\u001b[0m \u001b[38;5;28;01mdef\u001b[39;00m\u001b[38;5;250m \u001b[39m\u001b[38;5;21m__init__\u001b[39m(\n\u001b[0;32m     52\u001b[0m     \u001b[38;5;28mself\u001b[39m,\n\u001b[0;32m     53\u001b[0m     data: DataSource,\n\u001b[0;32m     54\u001b[0m     variables: \u001b[38;5;28mdict\u001b[39m[\u001b[38;5;28mstr\u001b[39m, VariableSpec],\n\u001b[0;32m     55\u001b[0m ):\n\u001b[0;32m     57\u001b[0m     data \u001b[38;5;241m=\u001b[39m handle_data_source(data)\n\u001b[1;32m---> 58\u001b[0m     frame, names, ids \u001b[38;5;241m=\u001b[39m \u001b[38;5;28;43mself\u001b[39;49m\u001b[38;5;241;43m.\u001b[39;49m\u001b[43m_assign_variables\u001b[49m\u001b[43m(\u001b[49m\u001b[43mdata\u001b[49m\u001b[43m,\u001b[49m\u001b[43m \u001b[49m\u001b[43mvariables\u001b[49m\u001b[43m)\u001b[49m\n\u001b[0;32m     60\u001b[0m     \u001b[38;5;28mself\u001b[39m\u001b[38;5;241m.\u001b[39mframe \u001b[38;5;241m=\u001b[39m frame\n\u001b[0;32m     61\u001b[0m     \u001b[38;5;28mself\u001b[39m\u001b[38;5;241m.\u001b[39mnames \u001b[38;5;241m=\u001b[39m names\n",
      "File \u001b[1;32md:\\python_main\\training_env\\.venv\\Lib\\site-packages\\seaborn\\_core\\data.py:232\u001b[0m, in \u001b[0;36mPlotData._assign_variables\u001b[1;34m(self, data, variables)\u001b[0m\n\u001b[0;32m    230\u001b[0m     \u001b[38;5;28;01melse\u001b[39;00m:\n\u001b[0;32m    231\u001b[0m         err \u001b[38;5;241m+\u001b[39m\u001b[38;5;241m=\u001b[39m \u001b[38;5;124m\"\u001b[39m\u001b[38;5;124mAn entry with this name does not appear in `data`.\u001b[39m\u001b[38;5;124m\"\u001b[39m\n\u001b[1;32m--> 232\u001b[0m     \u001b[38;5;28;01mraise\u001b[39;00m \u001b[38;5;167;01mValueError\u001b[39;00m(err)\n\u001b[0;32m    234\u001b[0m \u001b[38;5;28;01melse\u001b[39;00m:\n\u001b[0;32m    235\u001b[0m \n\u001b[0;32m    236\u001b[0m     \u001b[38;5;66;03m# Otherwise, assume the value somehow represents data\u001b[39;00m\n\u001b[0;32m    237\u001b[0m \n\u001b[0;32m    238\u001b[0m     \u001b[38;5;66;03m# Ignore empty data structures\u001b[39;00m\n\u001b[0;32m    239\u001b[0m     \u001b[38;5;28;01mif\u001b[39;00m \u001b[38;5;28misinstance\u001b[39m(val, Sized) \u001b[38;5;129;01mand\u001b[39;00m \u001b[38;5;28mlen\u001b[39m(val) \u001b[38;5;241m==\u001b[39m \u001b[38;5;241m0\u001b[39m:\n",
      "\u001b[1;31mValueError\u001b[0m: Could not interpret value `MCK` for `x`. An entry with this name does not appear in `data`."
     ]
    },
    {
     "data": {
      "image/png": "[encoded data removed]",
      "text/plain": [
       "<Figure size 640x480 with 1 Axes>"
      ]
     },
     "metadata": {},
     "output_type": "display_data"
    }
   ],
   "source": [
    "# plt.figure(figsize=(10, 6))\n",
    "# plt.title('Ядерная оценка плотности распределения цен акций')\n",
    "\n",
    "\n",
    "plt.subplot(2, 2, 1)\n",
    "sns.kdeplot(data=df_sample, x='MCK', fill=True)\n",
    "\n",
    "plt.subplot(2, 2, 2)\n",
    "sns.kdeplot(data=df_sample, x='XEL', fill=True)\n",
    "\n",
    "\n",
    "plt.subplot(2, 2, 3)\n",
    "sns.kdeplot(data=df_sample, x='COF', fill=True)\n",
    "\n",
    "\n",
    "plt.subplot(2, 2, 4)\n",
    "sns.kdeplot(data=df_sample, x='HUM', fill=True)\n",
    "\n",
    "\n",
    "\n",
    "plt.tight_layout()\n",
    "plt.show()"
   ]
  },
  {
   "cell_type": "markdown",
   "id": "4388cd4f",
   "metadata": {},
   "source": [
    "__д) [5 баллов]__ Найдите медианную цену акций за прошедший год (НЕ 10 лет) для каждого тикера. Сделайте `left join` таблицы с медианными ценами и таблицы с секторами экономики. Найдите для каждого сектора $95\\%$ квантиль медианной цены."
   ]
  },
  {
   "cell_type": "code",
   "execution_count": 14,
   "id": "c344400e",
   "metadata": {},
   "outputs": [],
   "source": [
    "first_time = df_prices.reset_index()['Date'].max() - pd.DateOffset(years=1)\n",
    "\n",
    "# нашёл первую дату, от которой будем отчитывать год как разницу между максимальной датой, которая есть в таблиське, и одним годом"
   ]
  },
  {
   "cell_type": "code",
   "execution_count": 15,
   "id": "e696392a",
   "metadata": {},
   "outputs": [],
   "source": [
    "last_time = df_prices.reset_index()['Date'].max()"
   ]
  },
  {
   "cell_type": "code",
   "execution_count": 16,
   "id": "fa803727",
   "metadata": {},
   "outputs": [],
   "source": [
    "df_prices = df_prices.sort_index()\n",
    "\n",
    "# вкуснейше отсортировал, чтобы по возрастанию было"
   ]
  },
  {
   "cell_type": "code",
   "execution_count": 17,
   "id": "f078f0a3",
   "metadata": {},
   "outputs": [],
   "source": [
    "df_one_year_median = df_prices[first_time:last_time]"
   ]
  },
  {
   "cell_type": "code",
   "execution_count": 18,
   "id": "bb2d10f9",
   "metadata": {},
   "outputs": [],
   "source": [
    "df_one_year_median = df_one_year_median.median().to_frame().rename(columns={0:'Median'})"
   ]
  },
  {
   "cell_type": "code",
   "execution_count": 19,
   "id": "3a768aa4",
   "metadata": {},
   "outputs": [
    {
     "data": {
      "text/html": [
       "<div>\n",
       "<style scoped>\n",
       "    .dataframe tbody tr th:only-of-type {\n",
       "        vertical-align: middle;\n",
       "    }\n",
       "\n",
       "    .dataframe tbody tr th {\n",
       "        vertical-align: top;\n",
       "    }\n",
       "\n",
       "    .dataframe thead th {\n",
       "        text-align: right;\n",
       "    }\n",
       "</style>\n",
       "<table border=\"1\" class=\"dataframe\">\n",
       "  <thead>\n",
       "    <tr style=\"text-align: right;\">\n",
       "      <th></th>\n",
       "      <th>Median</th>\n",
       "    </tr>\n",
       "  </thead>\n",
       "  <tbody>\n",
       "    <tr>\n",
       "      <th>A</th>\n",
       "      <td>132.664391</td>\n",
       "    </tr>\n",
       "    <tr>\n",
       "      <th>AAL</th>\n",
       "      <td>14.425000</td>\n",
       "    </tr>\n",
       "    <tr>\n",
       "      <th>AAP</th>\n",
       "      <td>175.889549</td>\n",
       "    </tr>\n",
       "    <tr>\n",
       "      <th>AAPL</th>\n",
       "      <td>148.966270</td>\n",
       "    </tr>\n",
       "    <tr>\n",
       "      <th>ABBV</th>\n",
       "      <td>147.720001</td>\n",
       "    </tr>\n",
       "    <tr>\n",
       "      <th>...</th>\n",
       "      <td>...</td>\n",
       "    </tr>\n",
       "    <tr>\n",
       "      <th>ZBRA</th>\n",
       "      <td>307.419998</td>\n",
       "    </tr>\n",
       "    <tr>\n",
       "      <th>ZION</th>\n",
       "      <td>52.102430</td>\n",
       "    </tr>\n",
       "    <tr>\n",
       "      <th>ZM</th>\n",
       "      <td>84.084999</td>\n",
       "    </tr>\n",
       "    <tr>\n",
       "      <th>ZS</th>\n",
       "      <td>150.974998</td>\n",
       "    </tr>\n",
       "    <tr>\n",
       "      <th>ZTS</th>\n",
       "      <td>164.382065</td>\n",
       "    </tr>\n",
       "  </tbody>\n",
       "</table>\n",
       "<p>520 rows × 1 columns</p>\n",
       "</div>"
      ],
      "text/plain": [
       "          Median\n",
       "A     132.664391\n",
       "AAL    14.425000\n",
       "AAP   175.889549\n",
       "AAPL  148.966270\n",
       "ABBV  147.720001\n",
       "...          ...\n",
       "ZBRA  307.419998\n",
       "ZION   52.102430\n",
       "ZM     84.084999\n",
       "ZS    150.974998\n",
       "ZTS   164.382065\n",
       "\n",
       "[520 rows x 1 columns]"
      ]
     },
     "execution_count": 19,
     "metadata": {},
     "output_type": "execute_result"
    }
   ],
   "source": [
    "df_one_year_median"
   ]
  },
  {
   "cell_type": "code",
   "execution_count": 20,
   "id": "82d7d88a",
   "metadata": {},
   "outputs": [],
   "source": [
    "df_info_merge = df_one_year_median.merge(right=df_inf, how='left', left_index=True, right_on='Symbol')"
   ]
  },
  {
   "cell_type": "code",
   "execution_count": 21,
   "id": "3ed410aa",
   "metadata": {},
   "outputs": [
    {
     "data": {
      "text/html": [
       "<div>\n",
       "<style scoped>\n",
       "    .dataframe tbody tr th:only-of-type {\n",
       "        vertical-align: middle;\n",
       "    }\n",
       "\n",
       "    .dataframe tbody tr th {\n",
       "        vertical-align: top;\n",
       "    }\n",
       "\n",
       "    .dataframe thead th {\n",
       "        text-align: right;\n",
       "    }\n",
       "</style>\n",
       "<table border=\"1\" class=\"dataframe\">\n",
       "  <thead>\n",
       "    <tr style=\"text-align: right;\">\n",
       "      <th></th>\n",
       "      <th>Median</th>\n",
       "      <th>Symbol</th>\n",
       "      <th>Security</th>\n",
       "      <th>SEC filings</th>\n",
       "      <th>GICS Sector</th>\n",
       "      <th>GICS Sub Industry</th>\n",
       "      <th>Headquarters Location</th>\n",
       "      <th>Date first added</th>\n",
       "      <th>CIK</th>\n",
       "      <th>Founded</th>\n",
       "      <th>S&amp;P-500</th>\n",
       "      <th>NASDAQ</th>\n",
       "      <th>DJI</th>\n",
       "    </tr>\n",
       "  </thead>\n",
       "  <tbody>\n",
       "    <tr>\n",
       "      <th>0.0</th>\n",
       "      <td>132.664391</td>\n",
       "      <td>A</td>\n",
       "      <td>Agilent Technologies Inc</td>\n",
       "      <td>reports</td>\n",
       "      <td>Health Care</td>\n",
       "      <td>Health Care Equipment</td>\n",
       "      <td>Santa Clara, California</td>\n",
       "      <td>05.06.00</td>\n",
       "      <td>1090872.0</td>\n",
       "      <td>1999.0</td>\n",
       "      <td>True</td>\n",
       "      <td>False</td>\n",
       "      <td>False</td>\n",
       "    </tr>\n",
       "    <tr>\n",
       "      <th>1.0</th>\n",
       "      <td>14.425000</td>\n",
       "      <td>AAL</td>\n",
       "      <td>American Airlines Group</td>\n",
       "      <td>reports</td>\n",
       "      <td>Industrials</td>\n",
       "      <td>Airlines</td>\n",
       "      <td>Fort Worth, Texas</td>\n",
       "      <td>23.03.15</td>\n",
       "      <td>6201.0</td>\n",
       "      <td>1934.0</td>\n",
       "      <td>True</td>\n",
       "      <td>False</td>\n",
       "      <td>False</td>\n",
       "    </tr>\n",
       "    <tr>\n",
       "      <th>2.0</th>\n",
       "      <td>175.889549</td>\n",
       "      <td>AAP</td>\n",
       "      <td>Advance Auto Parts</td>\n",
       "      <td>reports</td>\n",
       "      <td>Consumer Discretionary</td>\n",
       "      <td>Automotive Retail</td>\n",
       "      <td>Raleigh, North Carolina</td>\n",
       "      <td>09.07.15</td>\n",
       "      <td>1158449.0</td>\n",
       "      <td>1932.0</td>\n",
       "      <td>True</td>\n",
       "      <td>False</td>\n",
       "      <td>False</td>\n",
       "    </tr>\n",
       "    <tr>\n",
       "      <th>3.0</th>\n",
       "      <td>148.966270</td>\n",
       "      <td>AAPL</td>\n",
       "      <td>Apple Inc.</td>\n",
       "      <td>reports</td>\n",
       "      <td>Information Technology</td>\n",
       "      <td>Technology Hardware, Storage &amp; Peripherals</td>\n",
       "      <td>Cupertino, California</td>\n",
       "      <td>30.11.82</td>\n",
       "      <td>320193.0</td>\n",
       "      <td>1977.0</td>\n",
       "      <td>True</td>\n",
       "      <td>True</td>\n",
       "      <td>True</td>\n",
       "    </tr>\n",
       "    <tr>\n",
       "      <th>4.0</th>\n",
       "      <td>147.720001</td>\n",
       "      <td>ABBV</td>\n",
       "      <td>AbbVie Inc.</td>\n",
       "      <td>reports</td>\n",
       "      <td>Health Care</td>\n",
       "      <td>Pharmaceuticals</td>\n",
       "      <td>North Chicago, Illinois</td>\n",
       "      <td>31.12.12</td>\n",
       "      <td>1551152.0</td>\n",
       "      <td>1888.0</td>\n",
       "      <td>True</td>\n",
       "      <td>False</td>\n",
       "      <td>False</td>\n",
       "    </tr>\n",
       "  </tbody>\n",
       "</table>\n",
       "</div>"
      ],
      "text/plain": [
       "         Median Symbol                  Security SEC filings  \\\n",
       "0.0  132.664391      A  Agilent Technologies Inc     reports   \n",
       "1.0   14.425000    AAL   American Airlines Group     reports   \n",
       "2.0  175.889549    AAP        Advance Auto Parts     reports   \n",
       "3.0  148.966270   AAPL                Apple Inc.     reports   \n",
       "4.0  147.720001   ABBV               AbbVie Inc.     reports   \n",
       "\n",
       "                GICS Sector                           GICS Sub Industry  \\\n",
       "0.0             Health Care                       Health Care Equipment   \n",
       "1.0             Industrials                                    Airlines   \n",
       "2.0  Consumer Discretionary                           Automotive Retail   \n",
       "3.0  Information Technology  Technology Hardware, Storage & Peripherals   \n",
       "4.0             Health Care                             Pharmaceuticals   \n",
       "\n",
       "       Headquarters Location Date first added        CIK  Founded S&P-500  \\\n",
       "0.0  Santa Clara, California         05.06.00  1090872.0   1999.0    True   \n",
       "1.0        Fort Worth, Texas         23.03.15     6201.0   1934.0    True   \n",
       "2.0  Raleigh, North Carolina         09.07.15  1158449.0   1932.0    True   \n",
       "3.0    Cupertino, California         30.11.82   320193.0   1977.0    True   \n",
       "4.0  North Chicago, Illinois         31.12.12  1551152.0   1888.0    True   \n",
       "\n",
       "    NASDAQ    DJI  \n",
       "0.0  False  False  \n",
       "1.0  False  False  \n",
       "2.0  False  False  \n",
       "3.0   True   True  \n",
       "4.0  False  False  "
      ]
     },
     "execution_count": 21,
     "metadata": {},
     "output_type": "execute_result"
    }
   ],
   "source": [
    "df_info_merge.head()"
   ]
  },
  {
   "cell_type": "code",
   "execution_count": 22,
   "id": "9ebcdc00",
   "metadata": {},
   "outputs": [
    {
     "data": {
      "text/html": [
       "<div>\n",
       "<style scoped>\n",
       "    .dataframe tbody tr th:only-of-type {\n",
       "        vertical-align: middle;\n",
       "    }\n",
       "\n",
       "    .dataframe tbody tr th {\n",
       "        vertical-align: top;\n",
       "    }\n",
       "\n",
       "    .dataframe thead tr th {\n",
       "        text-align: left;\n",
       "    }\n",
       "\n",
       "    .dataframe thead tr:last-of-type th {\n",
       "        text-align: right;\n",
       "    }\n",
       "</style>\n",
       "<table border=\"1\" class=\"dataframe\">\n",
       "  <thead>\n",
       "    <tr>\n",
       "      <th></th>\n",
       "      <th colspan=\"8\" halign=\"left\">Median</th>\n",
       "      <th colspan=\"5\" halign=\"left\">CIK</th>\n",
       "      <th colspan=\"8\" halign=\"left\">Founded</th>\n",
       "    </tr>\n",
       "    <tr>\n",
       "      <th></th>\n",
       "      <th>count</th>\n",
       "      <th>mean</th>\n",
       "      <th>std</th>\n",
       "      <th>min</th>\n",
       "      <th>25%</th>\n",
       "      <th>50%</th>\n",
       "      <th>75%</th>\n",
       "      <th>max</th>\n",
       "      <th>count</th>\n",
       "      <th>mean</th>\n",
       "      <th>...</th>\n",
       "      <th>75%</th>\n",
       "      <th>max</th>\n",
       "      <th>count</th>\n",
       "      <th>mean</th>\n",
       "      <th>std</th>\n",
       "      <th>min</th>\n",
       "      <th>25%</th>\n",
       "      <th>50%</th>\n",
       "      <th>75%</th>\n",
       "      <th>max</th>\n",
       "    </tr>\n",
       "    <tr>\n",
       "      <th>GICS Sector</th>\n",
       "      <th></th>\n",
       "      <th></th>\n",
       "      <th></th>\n",
       "      <th></th>\n",
       "      <th></th>\n",
       "      <th></th>\n",
       "      <th></th>\n",
       "      <th></th>\n",
       "      <th></th>\n",
       "      <th></th>\n",
       "      <th></th>\n",
       "      <th></th>\n",
       "      <th></th>\n",
       "      <th></th>\n",
       "      <th></th>\n",
       "      <th></th>\n",
       "      <th></th>\n",
       "      <th></th>\n",
       "      <th></th>\n",
       "      <th></th>\n",
       "      <th></th>\n",
       "    </tr>\n",
       "  </thead>\n",
       "  <tbody>\n",
       "    <tr>\n",
       "      <th>Communication Services</th>\n",
       "      <td>20.0</td>\n",
       "      <td>92.577479</td>\n",
       "      <td>95.196309</td>\n",
       "      <td>17.165000</td>\n",
       "      <td>30.909680</td>\n",
       "      <td>75.418552</td>\n",
       "      <td>111.476251</td>\n",
       "      <td>412.440002</td>\n",
       "      <td>20.0</td>\n",
       "      <td>1.045979e+06</td>\n",
       "      <td>...</td>\n",
       "      <td>1314935.25</td>\n",
       "      <td>1652044.0</td>\n",
       "      <td>18.0</td>\n",
       "      <td>1970.944444</td>\n",
       "      <td>40.140155</td>\n",
       "      <td>1877.0</td>\n",
       "      <td>1967.25</td>\n",
       "      <td>1984.0</td>\n",
       "      <td>1996.25</td>\n",
       "      <td>2010.0</td>\n",
       "    </tr>\n",
       "    <tr>\n",
       "      <th>Consumer Discretionary</th>\n",
       "      <td>51.0</td>\n",
       "      <td>314.982219</td>\n",
       "      <td>733.035239</td>\n",
       "      <td>10.305000</td>\n",
       "      <td>53.625759</td>\n",
       "      <td>99.805000</td>\n",
       "      <td>168.970669</td>\n",
       "      <td>4392.844971</td>\n",
       "      <td>51.0</td>\n",
       "      <td>8.303676e+05</td>\n",
       "      <td>...</td>\n",
       "      <td>1095831.50</td>\n",
       "      <td>1585689.0</td>\n",
       "      <td>51.0</td>\n",
       "      <td>1958.764706</td>\n",
       "      <td>36.685468</td>\n",
       "      <td>1878.0</td>\n",
       "      <td>1929.50</td>\n",
       "      <td>1967.0</td>\n",
       "      <td>1989.50</td>\n",
       "      <td>2017.0</td>\n",
       "    </tr>\n",
       "    <tr>\n",
       "      <th>Consumer Staples</th>\n",
       "      <td>31.0</td>\n",
       "      <td>110.952828</td>\n",
       "      <td>92.765672</td>\n",
       "      <td>34.138945</td>\n",
       "      <td>56.437150</td>\n",
       "      <td>80.990864</td>\n",
       "      <td>139.223671</td>\n",
       "      <td>500.309250</td>\n",
       "      <td>31.0</td>\n",
       "      <td>3.992983e+05</td>\n",
       "      <td>...</td>\n",
       "      <td>814966.00</td>\n",
       "      <td>1679273.0</td>\n",
       "      <td>31.0</td>\n",
       "      <td>1913.387097</td>\n",
       "      <td>53.565335</td>\n",
       "      <td>1806.0</td>\n",
       "      <td>1877.50</td>\n",
       "      <td>1902.0</td>\n",
       "      <td>1948.00</td>\n",
       "      <td>2014.0</td>\n",
       "    </tr>\n",
       "    <tr>\n",
       "      <th>Energy</th>\n",
       "      <td>20.0</td>\n",
       "      <td>83.792959</td>\n",
       "      <td>52.820782</td>\n",
       "      <td>17.735842</td>\n",
       "      <td>39.567142</td>\n",
       "      <td>77.332082</td>\n",
       "      <td>117.862645</td>\n",
       "      <td>223.584633</td>\n",
       "      <td>20.0</td>\n",
       "      <td>7.628868e+05</td>\n",
       "      <td>...</td>\n",
       "      <td>1248950.50</td>\n",
       "      <td>1701605.0</td>\n",
       "      <td>20.0</td>\n",
       "      <td>1949.550000</td>\n",
       "      <td>47.117407</td>\n",
       "      <td>1879.0</td>\n",
       "      <td>1914.75</td>\n",
       "      <td>1940.0</td>\n",
       "      <td>1997.50</td>\n",
       "      <td>2017.0</td>\n",
       "    </tr>\n",
       "    <tr>\n",
       "      <th>Financials</th>\n",
       "      <td>61.0</td>\n",
       "      <td>133.351201</td>\n",
       "      <td>122.627604</td>\n",
       "      <td>13.738251</td>\n",
       "      <td>52.102430</td>\n",
       "      <td>101.714882</td>\n",
       "      <td>161.949997</td>\n",
       "      <td>679.549896</td>\n",
       "      <td>61.0</td>\n",
       "      <td>6.138741e+05</td>\n",
       "      <td>...</td>\n",
       "      <td>1113169.00</td>\n",
       "      <td>1601712.0</td>\n",
       "      <td>59.0</td>\n",
       "      <td>1912.135593</td>\n",
       "      <td>57.804503</td>\n",
       "      <td>1784.0</td>\n",
       "      <td>1868.50</td>\n",
       "      <td>1917.0</td>\n",
       "      <td>1967.50</td>\n",
       "      <td>2003.0</td>\n",
       "    </tr>\n",
       "    <tr>\n",
       "      <th>Health Care</th>\n",
       "      <td>55.0</td>\n",
       "      <td>227.941366</td>\n",
       "      <td>207.345088</td>\n",
       "      <td>35.560440</td>\n",
       "      <td>90.207724</td>\n",
       "      <td>203.901154</td>\n",
       "      <td>274.717758</td>\n",
       "      <td>1325.094971</td>\n",
       "      <td>55.0</td>\n",
       "      <td>7.200080e+05</td>\n",
       "      <td>...</td>\n",
       "      <td>1036456.50</td>\n",
       "      <td>1757898.0</td>\n",
       "      <td>54.0</td>\n",
       "      <td>1955.648148</td>\n",
       "      <td>40.800091</td>\n",
       "      <td>1833.0</td>\n",
       "      <td>1938.00</td>\n",
       "      <td>1970.0</td>\n",
       "      <td>1985.00</td>\n",
       "      <td>1999.0</td>\n",
       "    </tr>\n",
       "    <tr>\n",
       "      <th>Industrials</th>\n",
       "      <td>68.0</td>\n",
       "      <td>167.145552</td>\n",
       "      <td>131.586234</td>\n",
       "      <td>14.425000</td>\n",
       "      <td>60.908687</td>\n",
       "      <td>132.177475</td>\n",
       "      <td>214.721842</td>\n",
       "      <td>609.790009</td>\n",
       "      <td>68.0</td>\n",
       "      <td>6.365123e+05</td>\n",
       "      <td>...</td>\n",
       "      <td>1049412.00</td>\n",
       "      <td>1783180.0</td>\n",
       "      <td>67.0</td>\n",
       "      <td>1933.507463</td>\n",
       "      <td>44.454053</td>\n",
       "      <td>1837.0</td>\n",
       "      <td>1905.00</td>\n",
       "      <td>1929.0</td>\n",
       "      <td>1967.50</td>\n",
       "      <td>2016.0</td>\n",
       "    </tr>\n",
       "    <tr>\n",
       "      <th>Information Technology</th>\n",
       "      <td>63.0</td>\n",
       "      <td>170.808138</td>\n",
       "      <td>121.375352</td>\n",
       "      <td>15.108828</td>\n",
       "      <td>78.848261</td>\n",
       "      <td>144.911598</td>\n",
       "      <td>232.708843</td>\n",
       "      <td>541.822968</td>\n",
       "      <td>63.0</td>\n",
       "      <td>8.916613e+05</td>\n",
       "      <td>...</td>\n",
       "      <td>1299479.50</td>\n",
       "      <td>1730168.0</td>\n",
       "      <td>63.0</td>\n",
       "      <td>1979.079365</td>\n",
       "      <td>27.079513</td>\n",
       "      <td>1851.0</td>\n",
       "      <td>1969.00</td>\n",
       "      <td>1982.0</td>\n",
       "      <td>1997.00</td>\n",
       "      <td>2017.0</td>\n",
       "    </tr>\n",
       "    <tr>\n",
       "      <th>Materials</th>\n",
       "      <td>27.0</td>\n",
       "      <td>124.863856</td>\n",
       "      <td>87.656672</td>\n",
       "      <td>11.744599</td>\n",
       "      <td>53.594492</td>\n",
       "      <td>113.026287</td>\n",
       "      <td>164.038559</td>\n",
       "      <td>348.331329</td>\n",
       "      <td>27.0</td>\n",
       "      <td>8.639692e+05</td>\n",
       "      <td>...</td>\n",
       "      <td>1442701.00</td>\n",
       "      <td>1755672.0</td>\n",
       "      <td>27.0</td>\n",
       "      <td>1937.962963</td>\n",
       "      <td>52.914649</td>\n",
       "      <td>1860.0</td>\n",
       "      <td>1893.50</td>\n",
       "      <td>1923.0</td>\n",
       "      <td>1991.50</td>\n",
       "      <td>2019.0</td>\n",
       "    </tr>\n",
       "    <tr>\n",
       "      <th>Real Estate</th>\n",
       "      <td>27.0</td>\n",
       "      <td>138.917062</td>\n",
       "      <td>134.999728</td>\n",
       "      <td>17.479450</td>\n",
       "      <td>57.101746</td>\n",
       "      <td>106.035961</td>\n",
       "      <td>167.718719</td>\n",
       "      <td>672.146820</td>\n",
       "      <td>27.0</td>\n",
       "      <td>8.997377e+05</td>\n",
       "      <td>...</td>\n",
       "      <td>1058634.00</td>\n",
       "      <td>1393311.0</td>\n",
       "      <td>25.0</td>\n",
       "      <td>1974.160000</td>\n",
       "      <td>25.595703</td>\n",
       "      <td>1900.0</td>\n",
       "      <td>1969.00</td>\n",
       "      <td>1977.0</td>\n",
       "      <td>1994.00</td>\n",
       "      <td>2004.0</td>\n",
       "    </tr>\n",
       "    <tr>\n",
       "      <th>Utilities</th>\n",
       "      <td>28.0</td>\n",
       "      <td>75.599602</td>\n",
       "      <td>34.949914</td>\n",
       "      <td>24.622866</td>\n",
       "      <td>52.956595</td>\n",
       "      <td>71.222116</td>\n",
       "      <td>94.375098</td>\n",
       "      <td>157.445152</td>\n",
       "      <td>28.0</td>\n",
       "      <td>8.035041e+05</td>\n",
       "      <td>...</td>\n",
       "      <td>1036121.50</td>\n",
       "      <td>1711269.0</td>\n",
       "      <td>28.0</td>\n",
       "      <td>1929.535714</td>\n",
       "      <td>46.299734</td>\n",
       "      <td>1823.0</td>\n",
       "      <td>1902.75</td>\n",
       "      <td>1912.5</td>\n",
       "      <td>1981.50</td>\n",
       "      <td>2000.0</td>\n",
       "    </tr>\n",
       "  </tbody>\n",
       "</table>\n",
       "<p>11 rows × 24 columns</p>\n",
       "</div>"
      ],
      "text/plain": [
       "                       Median                                                \\\n",
       "                        count        mean         std        min        25%   \n",
       "GICS Sector                                                                   \n",
       "Communication Services   20.0   92.577479   95.196309  17.165000  30.909680   \n",
       "Consumer Discretionary   51.0  314.982219  733.035239  10.305000  53.625759   \n",
       "Consumer Staples         31.0  110.952828   92.765672  34.138945  56.437150   \n",
       "Energy                   20.0   83.792959   52.820782  17.735842  39.567142   \n",
       "Financials               61.0  133.351201  122.627604  13.738251  52.102430   \n",
       "Health Care              55.0  227.941366  207.345088  35.560440  90.207724   \n",
       "Industrials              68.0  167.145552  131.586234  14.425000  60.908687   \n",
       "Information Technology   63.0  170.808138  121.375352  15.108828  78.848261   \n",
       "Materials                27.0  124.863856   87.656672  11.744599  53.594492   \n",
       "Real Estate              27.0  138.917062  134.999728  17.479450  57.101746   \n",
       "Utilities                28.0   75.599602   34.949914  24.622866  52.956595   \n",
       "\n",
       "                                                              CIK  \\\n",
       "                               50%         75%          max count   \n",
       "GICS Sector                                                         \n",
       "Communication Services   75.418552  111.476251   412.440002  20.0   \n",
       "Consumer Discretionary   99.805000  168.970669  4392.844971  51.0   \n",
       "Consumer Staples         80.990864  139.223671   500.309250  31.0   \n",
       "Energy                   77.332082  117.862645   223.584633  20.0   \n",
       "Financials              101.714882  161.949997   679.549896  61.0   \n",
       "Health Care             203.901154  274.717758  1325.094971  55.0   \n",
       "Industrials             132.177475  214.721842   609.790009  68.0   \n",
       "Information Technology  144.911598  232.708843   541.822968  63.0   \n",
       "Materials               113.026287  164.038559   348.331329  27.0   \n",
       "Real Estate             106.035961  167.718719   672.146820  27.0   \n",
       "Utilities                71.222116   94.375098   157.445152  28.0   \n",
       "\n",
       "                                      ...                        Founded  \\\n",
       "                                mean  ...         75%        max   count   \n",
       "GICS Sector                           ...                                  \n",
       "Communication Services  1.045979e+06  ...  1314935.25  1652044.0    18.0   \n",
       "Consumer Discretionary  8.303676e+05  ...  1095831.50  1585689.0    51.0   \n",
       "Consumer Staples        3.992983e+05  ...   814966.00  1679273.0    31.0   \n",
       "Energy                  7.628868e+05  ...  1248950.50  1701605.0    20.0   \n",
       "Financials              6.138741e+05  ...  1113169.00  1601712.0    59.0   \n",
       "Health Care             7.200080e+05  ...  1036456.50  1757898.0    54.0   \n",
       "Industrials             6.365123e+05  ...  1049412.00  1783180.0    67.0   \n",
       "Information Technology  8.916613e+05  ...  1299479.50  1730168.0    63.0   \n",
       "Materials               8.639692e+05  ...  1442701.00  1755672.0    27.0   \n",
       "Real Estate             8.997377e+05  ...  1058634.00  1393311.0    25.0   \n",
       "Utilities               8.035041e+05  ...  1036121.50  1711269.0    28.0   \n",
       "\n",
       "                                                                         \\\n",
       "                               mean        std     min      25%     50%   \n",
       "GICS Sector                                                               \n",
       "Communication Services  1970.944444  40.140155  1877.0  1967.25  1984.0   \n",
       "Consumer Discretionary  1958.764706  36.685468  1878.0  1929.50  1967.0   \n",
       "Consumer Staples        1913.387097  53.565335  1806.0  1877.50  1902.0   \n",
       "Energy                  1949.550000  47.117407  1879.0  1914.75  1940.0   \n",
       "Financials              1912.135593  57.804503  1784.0  1868.50  1917.0   \n",
       "Health Care             1955.648148  40.800091  1833.0  1938.00  1970.0   \n",
       "Industrials             1933.507463  44.454053  1837.0  1905.00  1929.0   \n",
       "Information Technology  1979.079365  27.079513  1851.0  1969.00  1982.0   \n",
       "Materials               1937.962963  52.914649  1860.0  1893.50  1923.0   \n",
       "Real Estate             1974.160000  25.595703  1900.0  1969.00  1977.0   \n",
       "Utilities               1929.535714  46.299734  1823.0  1902.75  1912.5   \n",
       "\n",
       "                                         \n",
       "                            75%     max  \n",
       "GICS Sector                              \n",
       "Communication Services  1996.25  2010.0  \n",
       "Consumer Discretionary  1989.50  2017.0  \n",
       "Consumer Staples        1948.00  2014.0  \n",
       "Energy                  1997.50  2017.0  \n",
       "Financials              1967.50  2003.0  \n",
       "Health Care             1985.00  1999.0  \n",
       "Industrials             1967.50  2016.0  \n",
       "Information Technology  1997.00  2017.0  \n",
       "Materials               1991.50  2019.0  \n",
       "Real Estate             1994.00  2004.0  \n",
       "Utilities               1981.50  2000.0  \n",
       "\n",
       "[11 rows x 24 columns]"
      ]
     },
     "execution_count": 22,
     "metadata": {},
     "output_type": "execute_result"
    }
   ],
   "source": [
    "df_info_merge.groupby(by='GICS Sector').describe()"
   ]
  },
  {
   "cell_type": "code",
   "execution_count": 23,
   "id": "7186a072",
   "metadata": {},
   "outputs": [
    {
     "data": {
      "text/html": [
       "<div>\n",
       "<style scoped>\n",
       "    .dataframe tbody tr th:only-of-type {\n",
       "        vertical-align: middle;\n",
       "    }\n",
       "\n",
       "    .dataframe tbody tr th {\n",
       "        vertical-align: top;\n",
       "    }\n",
       "\n",
       "    .dataframe thead th {\n",
       "        text-align: right;\n",
       "    }\n",
       "</style>\n",
       "<table border=\"1\" class=\"dataframe\">\n",
       "  <thead>\n",
       "    <tr style=\"text-align: right;\">\n",
       "      <th></th>\n",
       "      <th>0.95 quantile</th>\n",
       "    </tr>\n",
       "    <tr>\n",
       "      <th>GICS Sector</th>\n",
       "      <th></th>\n",
       "    </tr>\n",
       "  </thead>\n",
       "  <tbody>\n",
       "    <tr>\n",
       "      <th>Communication Services</th>\n",
       "      <td>260.003003</td>\n",
       "    </tr>\n",
       "    <tr>\n",
       "      <th>Consumer Discretionary</th>\n",
       "      <td>1763.130005</td>\n",
       "    </tr>\n",
       "    <tr>\n",
       "      <th>Consumer Staples</th>\n",
       "      <td>243.992062</td>\n",
       "    </tr>\n",
       "    <tr>\n",
       "      <th>Energy</th>\n",
       "      <td>165.014986</td>\n",
       "    </tr>\n",
       "    <tr>\n",
       "      <th>Financials</th>\n",
       "      <td>350.159805</td>\n",
       "    </tr>\n",
       "    <tr>\n",
       "      <th>Health Care</th>\n",
       "      <td>523.568919</td>\n",
       "    </tr>\n",
       "    <tr>\n",
       "      <th>Industrials</th>\n",
       "      <td>432.061172</td>\n",
       "    </tr>\n",
       "    <tr>\n",
       "      <th>Information Technology</th>\n",
       "      <td>406.481459</td>\n",
       "    </tr>\n",
       "    <tr>\n",
       "      <th>Materials</th>\n",
       "      <td>289.814917</td>\n",
       "    </tr>\n",
       "    <tr>\n",
       "      <th>Real Estate</th>\n",
       "      <td>308.903888</td>\n",
       "    </tr>\n",
       "    <tr>\n",
       "      <th>Utilities</th>\n",
       "      <td>140.342722</td>\n",
       "    </tr>\n",
       "  </tbody>\n",
       "</table>\n",
       "</div>"
      ],
      "text/plain": [
       "                        0.95 quantile\n",
       "GICS Sector                          \n",
       "Communication Services     260.003003\n",
       "Consumer Discretionary    1763.130005\n",
       "Consumer Staples           243.992062\n",
       "Energy                     165.014986\n",
       "Financials                 350.159805\n",
       "Health Care                523.568919\n",
       "Industrials                432.061172\n",
       "Information Technology     406.481459\n",
       "Materials                  289.814917\n",
       "Real Estate                308.903888\n",
       "Utilities                  140.342722"
      ]
     },
     "execution_count": 23,
     "metadata": {},
     "output_type": "execute_result"
    }
   ],
   "source": [
    "df_info_merge.groupby(by='GICS Sector')['Median'].quantile(0.95).to_frame().rename(columns={'Median':'0.95 quantile'})"
   ]
  },
  {
   "cell_type": "markdown",
   "id": "040041e8",
   "metadata": {},
   "source": [
    "## 1.2 Риск и доходность\n",
    "\n",
    "__е) [10 баллов]__ Финансовые продукты описываются двумя характеристикам – __доходностью__ и __риском.__ Доходность – это процентное изменение стоимости за некоторый промежуток времени. Мы будем работать с доходностями за день: \n",
    "\n",
    "$$\n",
    "R_t = \\frac{P_t - P_{t-1}}{P_{t-1}}\n",
    "$$\n",
    "\n",
    "Перейдите к доходностям для всей таблицы `df_prices`. Для того, чтобы посчитать разность между каждой строкой таблицы и предыдущей строкой, используйте команду `.diff()`. Чтобы сдвинуть все строки на одну вниз, используйте команду `shift(1)`.  \n",
    "\n",
    "Поделите результат работы команды `diff` на результат работы команды `shift`. Обратите внимание, что в первой колонке теперь все значения `NaN`, так как мы не можем посчитать доходность для самого первого дня. Удалите из таблицы эту строку. "
   ]
  },
  {
   "cell_type": "code",
   "execution_count": 144,
   "id": "ef44034a",
   "metadata": {},
   "outputs": [],
   "source": [
    "df_r = df_prices.diff(periods=1) / df_prices.shift()"
   ]
  },
  {
   "cell_type": "code",
   "execution_count": 145,
   "id": "cd5bbafa",
   "metadata": {},
   "outputs": [
    {
     "data": {
      "text/html": [
       "<div>\n",
       "<style scoped>\n",
       "    .dataframe tbody tr th:only-of-type {\n",
       "        vertical-align: middle;\n",
       "    }\n",
       "\n",
       "    .dataframe tbody tr th {\n",
       "        vertical-align: top;\n",
       "    }\n",
       "\n",
       "    .dataframe thead th {\n",
       "        text-align: right;\n",
       "    }\n",
       "</style>\n",
       "<table border=\"1\" class=\"dataframe\">\n",
       "  <thead>\n",
       "    <tr style=\"text-align: right;\">\n",
       "      <th></th>\n",
       "      <th>A</th>\n",
       "      <th>AAL</th>\n",
       "      <th>AAP</th>\n",
       "      <th>AAPL</th>\n",
       "      <th>ABBV</th>\n",
       "      <th>ABC</th>\n",
       "      <th>ABNB</th>\n",
       "      <th>ABT</th>\n",
       "      <th>ACGL</th>\n",
       "      <th>ACN</th>\n",
       "      <th>...</th>\n",
       "      <th>XOM</th>\n",
       "      <th>XRAY</th>\n",
       "      <th>XYL</th>\n",
       "      <th>YUM</th>\n",
       "      <th>ZBH</th>\n",
       "      <th>ZBRA</th>\n",
       "      <th>ZION</th>\n",
       "      <th>ZM</th>\n",
       "      <th>ZS</th>\n",
       "      <th>ZTS</th>\n",
       "    </tr>\n",
       "    <tr>\n",
       "      <th>Date</th>\n",
       "      <th></th>\n",
       "      <th></th>\n",
       "      <th></th>\n",
       "      <th></th>\n",
       "      <th></th>\n",
       "      <th></th>\n",
       "      <th></th>\n",
       "      <th></th>\n",
       "      <th></th>\n",
       "      <th></th>\n",
       "      <th></th>\n",
       "      <th></th>\n",
       "      <th></th>\n",
       "      <th></th>\n",
       "      <th></th>\n",
       "      <th></th>\n",
       "      <th></th>\n",
       "      <th></th>\n",
       "      <th></th>\n",
       "      <th></th>\n",
       "      <th></th>\n",
       "    </tr>\n",
       "  </thead>\n",
       "  <tbody>\n",
       "    <tr>\n",
       "      <th>2013-03-05</th>\n",
       "      <td>NaN</td>\n",
       "      <td>NaN</td>\n",
       "      <td>NaN</td>\n",
       "      <td>NaN</td>\n",
       "      <td>NaN</td>\n",
       "      <td>NaN</td>\n",
       "      <td>NaN</td>\n",
       "      <td>NaN</td>\n",
       "      <td>NaN</td>\n",
       "      <td>NaN</td>\n",
       "      <td>...</td>\n",
       "      <td>NaN</td>\n",
       "      <td>NaN</td>\n",
       "      <td>NaN</td>\n",
       "      <td>NaN</td>\n",
       "      <td>NaN</td>\n",
       "      <td>NaN</td>\n",
       "      <td>NaN</td>\n",
       "      <td>NaN</td>\n",
       "      <td>NaN</td>\n",
       "      <td>NaN</td>\n",
       "    </tr>\n",
       "    <tr>\n",
       "      <th>2013-03-06</th>\n",
       "      <td>0.013596</td>\n",
       "      <td>0.037010</td>\n",
       "      <td>-0.010006</td>\n",
       "      <td>-0.012710</td>\n",
       "      <td>0.006132</td>\n",
       "      <td>0.004350</td>\n",
       "      <td>NaN</td>\n",
       "      <td>-0.011537</td>\n",
       "      <td>0.001207</td>\n",
       "      <td>0.006370</td>\n",
       "      <td>...</td>\n",
       "      <td>-0.000558</td>\n",
       "      <td>0.006665</td>\n",
       "      <td>0.031283</td>\n",
       "      <td>0.009201</td>\n",
       "      <td>-0.007121</td>\n",
       "      <td>-0.001783</td>\n",
       "      <td>0.023673</td>\n",
       "      <td>NaN</td>\n",
       "      <td>NaN</td>\n",
       "      <td>-0.012832</td>\n",
       "    </tr>\n",
       "    <tr>\n",
       "      <th>2013-03-07</th>\n",
       "      <td>0.000231</td>\n",
       "      <td>0.017159</td>\n",
       "      <td>0.000525</td>\n",
       "      <td>0.011559</td>\n",
       "      <td>-0.006624</td>\n",
       "      <td>-0.008251</td>\n",
       "      <td>NaN</td>\n",
       "      <td>0.004669</td>\n",
       "      <td>0.013869</td>\n",
       "      <td>0.002067</td>\n",
       "      <td>...</td>\n",
       "      <td>-0.009491</td>\n",
       "      <td>0.005912</td>\n",
       "      <td>-0.032038</td>\n",
       "      <td>0.005081</td>\n",
       "      <td>-0.005313</td>\n",
       "      <td>-0.003796</td>\n",
       "      <td>0.007177</td>\n",
       "      <td>NaN</td>\n",
       "      <td>NaN</td>\n",
       "      <td>0.020975</td>\n",
       "    </tr>\n",
       "    <tr>\n",
       "      <th>2013-03-08</th>\n",
       "      <td>-0.005087</td>\n",
       "      <td>0.006748</td>\n",
       "      <td>0.008135</td>\n",
       "      <td>0.002648</td>\n",
       "      <td>-0.004001</td>\n",
       "      <td>0.008319</td>\n",
       "      <td>NaN</td>\n",
       "      <td>0.007262</td>\n",
       "      <td>0.003965</td>\n",
       "      <td>0.010056</td>\n",
       "      <td>...</td>\n",
       "      <td>0.002931</td>\n",
       "      <td>0.004701</td>\n",
       "      <td>0.001057</td>\n",
       "      <td>0.006989</td>\n",
       "      <td>0.006810</td>\n",
       "      <td>0.009413</td>\n",
       "      <td>0.001584</td>\n",
       "      <td>NaN</td>\n",
       "      <td>NaN</td>\n",
       "      <td>-0.013599</td>\n",
       "    </tr>\n",
       "    <tr>\n",
       "      <th>2013-03-11</th>\n",
       "      <td>-0.005112</td>\n",
       "      <td>0.014075</td>\n",
       "      <td>0.008980</td>\n",
       "      <td>0.014245</td>\n",
       "      <td>0.008838</td>\n",
       "      <td>0.001444</td>\n",
       "      <td>NaN</td>\n",
       "      <td>0.007208</td>\n",
       "      <td>0.003555</td>\n",
       "      <td>-0.000638</td>\n",
       "      <td>...</td>\n",
       "      <td>0.002136</td>\n",
       "      <td>0.002807</td>\n",
       "      <td>0.011607</td>\n",
       "      <td>0.001772</td>\n",
       "      <td>0.004510</td>\n",
       "      <td>0.009547</td>\n",
       "      <td>0.013043</td>\n",
       "      <td>NaN</td>\n",
       "      <td>NaN</td>\n",
       "      <td>0.002640</td>\n",
       "    </tr>\n",
       "  </tbody>\n",
       "</table>\n",
       "<p>5 rows × 520 columns</p>\n",
       "</div>"
      ],
      "text/plain": [
       "                   A       AAL       AAP      AAPL      ABBV       ABC  ABNB  \\\n",
       "Date                                                                           \n",
       "2013-03-05       NaN       NaN       NaN       NaN       NaN       NaN   NaN   \n",
       "2013-03-06  0.013596  0.037010 -0.010006 -0.012710  0.006132  0.004350   NaN   \n",
       "2013-03-07  0.000231  0.017159  0.000525  0.011559 -0.006624 -0.008251   NaN   \n",
       "2013-03-08 -0.005087  0.006748  0.008135  0.002648 -0.004001  0.008319   NaN   \n",
       "2013-03-11 -0.005112  0.014075  0.008980  0.014245  0.008838  0.001444   NaN   \n",
       "\n",
       "                 ABT      ACGL       ACN  ...       XOM      XRAY       XYL  \\\n",
       "Date                                      ...                                 \n",
       "2013-03-05       NaN       NaN       NaN  ...       NaN       NaN       NaN   \n",
       "2013-03-06 -0.011537  0.001207  0.006370  ... -0.000558  0.006665  0.031283   \n",
       "2013-03-07  0.004669  0.013869  0.002067  ... -0.009491  0.005912 -0.032038   \n",
       "2013-03-08  0.007262  0.003965  0.010056  ...  0.002931  0.004701  0.001057   \n",
       "2013-03-11  0.007208  0.003555 -0.000638  ...  0.002136  0.002807  0.011607   \n",
       "\n",
       "                 YUM       ZBH      ZBRA      ZION  ZM  ZS       ZTS  \n",
       "Date                                                                  \n",
       "2013-03-05       NaN       NaN       NaN       NaN NaN NaN       NaN  \n",
       "2013-03-06  0.009201 -0.007121 -0.001783  0.023673 NaN NaN -0.012832  \n",
       "2013-03-07  0.005081 -0.005313 -0.003796  0.007177 NaN NaN  0.020975  \n",
       "2013-03-08  0.006989  0.006810  0.009413  0.001584 NaN NaN -0.013599  \n",
       "2013-03-11  0.001772  0.004510  0.009547  0.013043 NaN NaN  0.002640  \n",
       "\n",
       "[5 rows x 520 columns]"
      ]
     },
     "execution_count": 145,
     "metadata": {},
     "output_type": "execute_result"
    }
   ],
   "source": [
    "df_r.sort_index().head()"
   ]
  },
  {
   "cell_type": "code",
   "execution_count": 150,
   "id": "9aab7ee0",
   "metadata": {},
   "outputs": [
    {
     "data": {
      "text/plain": [
       "(2517, 520)"
      ]
     },
     "execution_count": 150,
     "metadata": {},
     "output_type": "execute_result"
    }
   ],
   "source": [
    "df_r.shape"
   ]
  },
  {
   "cell_type": "code",
   "execution_count": 146,
   "id": "5dadb9e3",
   "metadata": {},
   "outputs": [],
   "source": [
    "df_r = df_r.dropna(how='all', )"
   ]
  },
  {
   "cell_type": "markdown",
   "id": "d33dc906",
   "metadata": {},
   "source": [
    "Постройте для 5 случайно выбранных тикеров картинку с динамикой доходностей, гистограмму доходностей и ящики с усами. Ответьте на следующие вопроcы:\n",
    "\n",
    "- Имеют ли доходности по акциям нормальное распределение? \n",
    "- Видно ли по ящику с усами, что в данных довольно много выбросов? \n",
    "\n",
    "__Ответ:__ 1). Да, доходности имеют +- нормальное распределение. 2) Так точно, это ж хайповая амеро-фонда, там без выбросов никуда"
   ]
  },
  {
   "cell_type": "code",
   "execution_count": 147,
   "id": "b666bae5",
   "metadata": {},
   "outputs": [
    {
     "data": {
      "text/plain": [
       "array([351, 294, 424, 144,  50])"
      ]
     },
     "execution_count": 147,
     "metadata": {},
     "output_type": "execute_result"
    }
   ],
   "source": [
    "# вытащим рандомные 5 индексов для колонок (тикеров)\n",
    "\n",
    "random_massive = np.random.choice(np.arange(1, 521), size=5)\n",
    "random_massive"
   ]
  },
  {
   "cell_type": "code",
   "execution_count": 148,
   "id": "2178d135",
   "metadata": {},
   "outputs": [],
   "source": [
    "df_sample_r  = df_r.iloc[:, random_massive]"
   ]
  },
  {
   "cell_type": "code",
   "execution_count": 149,
   "id": "eed4070d",
   "metadata": {},
   "outputs": [
    {
     "data": {
      "text/html": [
       "<div>\n",
       "<style scoped>\n",
       "    .dataframe tbody tr th:only-of-type {\n",
       "        vertical-align: middle;\n",
       "    }\n",
       "\n",
       "    .dataframe tbody tr th {\n",
       "        vertical-align: top;\n",
       "    }\n",
       "\n",
       "    .dataframe thead th {\n",
       "        text-align: right;\n",
       "    }\n",
       "</style>\n",
       "<table border=\"1\" class=\"dataframe\">\n",
       "  <thead>\n",
       "    <tr style=\"text-align: right;\">\n",
       "      <th></th>\n",
       "      <th>NWS</th>\n",
       "      <th>LYV</th>\n",
       "      <th>SIVB</th>\n",
       "      <th>DPZ</th>\n",
       "      <th>AVY</th>\n",
       "    </tr>\n",
       "    <tr>\n",
       "      <th>Date</th>\n",
       "      <th></th>\n",
       "      <th></th>\n",
       "      <th></th>\n",
       "      <th></th>\n",
       "      <th></th>\n",
       "    </tr>\n",
       "  </thead>\n",
       "  <tbody>\n",
       "    <tr>\n",
       "      <th>2013-03-06</th>\n",
       "      <td>NaN</td>\n",
       "      <td>0.012797</td>\n",
       "      <td>-0.003409</td>\n",
       "      <td>0.003628</td>\n",
       "      <td>-0.002392</td>\n",
       "    </tr>\n",
       "    <tr>\n",
       "      <th>2013-03-07</th>\n",
       "      <td>NaN</td>\n",
       "      <td>0.000903</td>\n",
       "      <td>0.010411</td>\n",
       "      <td>-0.002811</td>\n",
       "      <td>0.001918</td>\n",
       "    </tr>\n",
       "    <tr>\n",
       "      <th>2013-03-08</th>\n",
       "      <td>NaN</td>\n",
       "      <td>0.015329</td>\n",
       "      <td>0.010450</td>\n",
       "      <td>0.001611</td>\n",
       "      <td>0.009096</td>\n",
       "    </tr>\n",
       "    <tr>\n",
       "      <th>2013-03-11</th>\n",
       "      <td>NaN</td>\n",
       "      <td>0.032860</td>\n",
       "      <td>0.003642</td>\n",
       "      <td>0.002815</td>\n",
       "      <td>0.011147</td>\n",
       "    </tr>\n",
       "    <tr>\n",
       "      <th>2013-03-12</th>\n",
       "      <td>NaN</td>\n",
       "      <td>0.001720</td>\n",
       "      <td>-0.008853</td>\n",
       "      <td>-0.004009</td>\n",
       "      <td>0.005865</td>\n",
       "    </tr>\n",
       "    <tr>\n",
       "      <th>...</th>\n",
       "      <td>...</td>\n",
       "      <td>...</td>\n",
       "      <td>...</td>\n",
       "      <td>...</td>\n",
       "      <td>...</td>\n",
       "    </tr>\n",
       "    <tr>\n",
       "      <th>2023-02-27</th>\n",
       "      <td>-0.009086</td>\n",
       "      <td>0.044344</td>\n",
       "      <td>0.010639</td>\n",
       "      <td>-0.006185</td>\n",
       "      <td>0.001211</td>\n",
       "    </tr>\n",
       "    <tr>\n",
       "      <th>2023-02-28</th>\n",
       "      <td>-0.010888</td>\n",
       "      <td>0.003202</td>\n",
       "      <td>0.007624</td>\n",
       "      <td>-0.005480</td>\n",
       "      <td>0.005908</td>\n",
       "    </tr>\n",
       "    <tr>\n",
       "      <th>2023-03-01</th>\n",
       "      <td>-0.009270</td>\n",
       "      <td>-0.000694</td>\n",
       "      <td>-0.017632</td>\n",
       "      <td>0.026258</td>\n",
       "      <td>-0.005873</td>\n",
       "    </tr>\n",
       "    <tr>\n",
       "      <th>2023-03-02</th>\n",
       "      <td>0.016959</td>\n",
       "      <td>0.006249</td>\n",
       "      <td>-0.020704</td>\n",
       "      <td>0.011898</td>\n",
       "      <td>0.002485</td>\n",
       "    </tr>\n",
       "    <tr>\n",
       "      <th>2023-03-03</th>\n",
       "      <td>0.002300</td>\n",
       "      <td>0.007038</td>\n",
       "      <td>0.026121</td>\n",
       "      <td>-0.001834</td>\n",
       "      <td>0.009693</td>\n",
       "    </tr>\n",
       "  </tbody>\n",
       "</table>\n",
       "<p>2517 rows × 5 columns</p>\n",
       "</div>"
      ],
      "text/plain": [
       "                 NWS       LYV      SIVB       DPZ       AVY\n",
       "Date                                                        \n",
       "2013-03-06       NaN  0.012797 -0.003409  0.003628 -0.002392\n",
       "2013-03-07       NaN  0.000903  0.010411 -0.002811  0.001918\n",
       "2013-03-08       NaN  0.015329  0.010450  0.001611  0.009096\n",
       "2013-03-11       NaN  0.032860  0.003642  0.002815  0.011147\n",
       "2013-03-12       NaN  0.001720 -0.008853 -0.004009  0.005865\n",
       "...              ...       ...       ...       ...       ...\n",
       "2023-02-27 -0.009086  0.044344  0.010639 -0.006185  0.001211\n",
       "2023-02-28 -0.010888  0.003202  0.007624 -0.005480  0.005908\n",
       "2023-03-01 -0.009270 -0.000694 -0.017632  0.026258 -0.005873\n",
       "2023-03-02  0.016959  0.006249 -0.020704  0.011898  0.002485\n",
       "2023-03-03  0.002300  0.007038  0.026121 -0.001834  0.009693\n",
       "\n",
       "[2517 rows x 5 columns]"
      ]
     },
     "execution_count": 149,
     "metadata": {},
     "output_type": "execute_result"
    }
   ],
   "source": [
    "df_sample_r"
   ]
  },
  {
   "cell_type": "code",
   "execution_count": 151,
   "id": "d32ffa6c",
   "metadata": {},
   "outputs": [
    {
     "data": {
      "image/png": "[encoded data removed]",
      "text/plain": [
       "<Figure size 640x480 with 1 Axes>"
      ]
     },
     "metadata": {},
     "output_type": "display_data"
    }
   ],
   "source": [
    "df_sample_r.plot()\n",
    "\n",
    "\n",
    "\n",
    "plt.title('Динамика ежедневной доходности по годам 5 рандомных тикеров')\n",
    "plt.tight_layout()\n",
    "plt.ylabel('Доходность')\n",
    "plt.show()"
   ]
  },
  {
   "cell_type": "code",
   "execution_count": 152,
   "id": "c7871cb1",
   "metadata": {},
   "outputs": [],
   "source": [
    "from scipy.stats import norm"
   ]
  },
  {
   "cell_type": "code",
   "execution_count": 153,
   "id": "72c923bc",
   "metadata": {},
   "outputs": [
    {
     "data": {
      "image/png": "[encoded data removed]",
      "text/plain": [
       "<Figure size 1000x800 with 4 Axes>"
      ]
     },
     "metadata": {},
     "output_type": "display_data"
    }
   ],
   "source": [
    "fig, ax = plt.subplots(2, 2, figsize=(10, 8))\n",
    "\n",
    "\n",
    "sns.histplot(data=df_sample_r, x='TSLA', color='red', ax=ax[0, 0])\n",
    "\n",
    "sns.histplot(data=df_sample_r, x='IRM', color='green', ax=ax[0,1], binrange=(-0.1, 0.1))\n",
    "\n",
    "sns.histplot(data=df_sample_r, x='VRTX', color='purple', ax=ax[1, 0], binrange=(-0.15, 0.2))\n",
    "\n",
    "sns.histplot(data=df_sample_r, x='CDNS', color='blue', ax=ax[1, 1])\n",
    "\n",
    "plt.tight_layout()\n",
    "plt.show()"
   ]
  },
  {
   "cell_type": "code",
   "execution_count": 171,
   "id": "d169844e",
   "metadata": {},
   "outputs": [
    {
     "data": {
      "image/png": "[encoded data removed]",
      "text/plain": [
       "<Figure size 1000x800 with 4 Axes>"
      ]
     },
     "metadata": {},
     "output_type": "display_data"
    }
   ],
   "source": [
    "fig, ax = plt.subplots(2, 2, figsize=(10, 8))\n",
    "\n",
    "\n",
    "sns.boxplot(data=df_sample_r, y='TSLA', color='red', ax=ax[0, 0])\n",
    "\n",
    "sns.boxplot(data=df_sample_r, y='IRM', color='green', ax=ax[0,1])\n",
    "\n",
    "sns.boxplot(data=df_sample_r, y='VRTX', color='purple', ax=ax[1, 0])\n",
    "\n",
    "sns.boxplot(data=df_sample_r, y='CDNS', color='blue', ax=ax[1, 1])\n",
    "\n",
    "plt.tight_layout()\n",
    "plt.show()"
   ]
  },
  {
   "cell_type": "markdown",
   "id": "9d8cf646",
   "metadata": {},
   "source": [
    "Чтобы посмотреть, насколько сильно распределение отличается от нормального, можно вспользоваться диаграммой квантиль-квантиль. На картинке ниже видно, что центр распределения похож на нормальное, а квантили на хвостах отличаются от нормальных в более тяжёлую сторону. "
   ]
  },
  {
   "cell_type": "code",
   "execution_count": 153,
   "id": "3fea5a15",
   "metadata": {},
   "outputs": [
    {
     "data": {
      "image/png": "[encoded data removed]",
      "text/plain": [
       "<Figure size 640x480 with 1 Axes>"
      ]
     },
     "metadata": {},
     "output_type": "display_data"
    }
   ],
   "source": [
    "ax = plt.subplot(111)\n",
    "x = df_r['TSLA'].values\n",
    "sts.probplot(x, dist=\"norm\", sparams=(x.mean(), x.std()), plot=ax);"
   ]
  },
  {
   "cell_type": "markdown",
   "id": "5f1eeed9",
   "metadata": {},
   "source": [
    "__ё) [10 баллов]__  Без буквы `ё` никуда, скажут нам [Пафнутий Чебышёв](https://ru.wikipedia.org/wiki/%D0%A7%D0%B5%D0%B1%D1%8B%D1%88%D1%91%D0%B2,_%D0%9F%D0%B0%D1%84%D0%BD%D1%83%D1%82%D0%B8%D0%B9_%D0%9B%D1%8C%D0%B2%D0%BE%D0%B2%D0%B8%D1%87) и [Лёв Толстой](https://arzamas.academy/special/ruslit/writers/tolstoy).  \n",
    "\n",
    "Разобьём выборку на обучающую и тестовую. Первые 4 года войдут в обучающую выборку, последний год в тестовую. Мы будем оценивать рискованность и доходность разных активов на обучающей выборке, а затем смотреть, насколько хорошо мы это сделали на тестовой."
   ]
  },
  {
   "cell_type": "code",
   "execution_count": 154,
   "id": "22a60841",
   "metadata": {},
   "outputs": [],
   "source": [
    "df_train = df_r[df_r.index  < '2022-03-03']\n",
    "df_test = df_r[df_r.index  >= '2022-03-03']"
   ]
  },
  {
   "cell_type": "code",
   "execution_count": 155,
   "id": "2c699c10",
   "metadata": {},
   "outputs": [
    {
     "data": {
      "text/html": [
       "<div>\n",
       "<style scoped>\n",
       "    .dataframe tbody tr th:only-of-type {\n",
       "        vertical-align: middle;\n",
       "    }\n",
       "\n",
       "    .dataframe tbody tr th {\n",
       "        vertical-align: top;\n",
       "    }\n",
       "\n",
       "    .dataframe thead th {\n",
       "        text-align: right;\n",
       "    }\n",
       "</style>\n",
       "<table border=\"1\" class=\"dataframe\">\n",
       "  <thead>\n",
       "    <tr style=\"text-align: right;\">\n",
       "      <th></th>\n",
       "      <th>A</th>\n",
       "      <th>AAL</th>\n",
       "      <th>AAP</th>\n",
       "      <th>AAPL</th>\n",
       "      <th>ABBV</th>\n",
       "      <th>ABC</th>\n",
       "      <th>ABNB</th>\n",
       "      <th>ABT</th>\n",
       "      <th>ACGL</th>\n",
       "      <th>ACN</th>\n",
       "      <th>...</th>\n",
       "      <th>XOM</th>\n",
       "      <th>XRAY</th>\n",
       "      <th>XYL</th>\n",
       "      <th>YUM</th>\n",
       "      <th>ZBH</th>\n",
       "      <th>ZBRA</th>\n",
       "      <th>ZION</th>\n",
       "      <th>ZM</th>\n",
       "      <th>ZS</th>\n",
       "      <th>ZTS</th>\n",
       "    </tr>\n",
       "    <tr>\n",
       "      <th>Date</th>\n",
       "      <th></th>\n",
       "      <th></th>\n",
       "      <th></th>\n",
       "      <th></th>\n",
       "      <th></th>\n",
       "      <th></th>\n",
       "      <th></th>\n",
       "      <th></th>\n",
       "      <th></th>\n",
       "      <th></th>\n",
       "      <th></th>\n",
       "      <th></th>\n",
       "      <th></th>\n",
       "      <th></th>\n",
       "      <th></th>\n",
       "      <th></th>\n",
       "      <th></th>\n",
       "      <th></th>\n",
       "      <th></th>\n",
       "      <th></th>\n",
       "      <th></th>\n",
       "    </tr>\n",
       "  </thead>\n",
       "  <tbody>\n",
       "    <tr>\n",
       "      <th>2013-03-06</th>\n",
       "      <td>0.013596</td>\n",
       "      <td>0.037010</td>\n",
       "      <td>-0.010006</td>\n",
       "      <td>-0.012710</td>\n",
       "      <td>0.006132</td>\n",
       "      <td>0.004350</td>\n",
       "      <td>NaN</td>\n",
       "      <td>-0.011537</td>\n",
       "      <td>0.001207</td>\n",
       "      <td>0.006370</td>\n",
       "      <td>...</td>\n",
       "      <td>-0.000558</td>\n",
       "      <td>0.006665</td>\n",
       "      <td>0.031283</td>\n",
       "      <td>0.009201</td>\n",
       "      <td>-0.007121</td>\n",
       "      <td>-0.001783</td>\n",
       "      <td>0.023673</td>\n",
       "      <td>NaN</td>\n",
       "      <td>NaN</td>\n",
       "      <td>-0.012832</td>\n",
       "    </tr>\n",
       "    <tr>\n",
       "      <th>2013-03-07</th>\n",
       "      <td>0.000231</td>\n",
       "      <td>0.017159</td>\n",
       "      <td>0.000525</td>\n",
       "      <td>0.011559</td>\n",
       "      <td>-0.006624</td>\n",
       "      <td>-0.008251</td>\n",
       "      <td>NaN</td>\n",
       "      <td>0.004669</td>\n",
       "      <td>0.013869</td>\n",
       "      <td>0.002067</td>\n",
       "      <td>...</td>\n",
       "      <td>-0.009491</td>\n",
       "      <td>0.005912</td>\n",
       "      <td>-0.032038</td>\n",
       "      <td>0.005081</td>\n",
       "      <td>-0.005313</td>\n",
       "      <td>-0.003796</td>\n",
       "      <td>0.007177</td>\n",
       "      <td>NaN</td>\n",
       "      <td>NaN</td>\n",
       "      <td>0.020975</td>\n",
       "    </tr>\n",
       "    <tr>\n",
       "      <th>2013-03-08</th>\n",
       "      <td>-0.005087</td>\n",
       "      <td>0.006748</td>\n",
       "      <td>0.008135</td>\n",
       "      <td>0.002648</td>\n",
       "      <td>-0.004001</td>\n",
       "      <td>0.008319</td>\n",
       "      <td>NaN</td>\n",
       "      <td>0.007262</td>\n",
       "      <td>0.003965</td>\n",
       "      <td>0.010056</td>\n",
       "      <td>...</td>\n",
       "      <td>0.002931</td>\n",
       "      <td>0.004701</td>\n",
       "      <td>0.001057</td>\n",
       "      <td>0.006989</td>\n",
       "      <td>0.006810</td>\n",
       "      <td>0.009413</td>\n",
       "      <td>0.001584</td>\n",
       "      <td>NaN</td>\n",
       "      <td>NaN</td>\n",
       "      <td>-0.013599</td>\n",
       "    </tr>\n",
       "    <tr>\n",
       "      <th>2013-03-11</th>\n",
       "      <td>-0.005112</td>\n",
       "      <td>0.014075</td>\n",
       "      <td>0.008980</td>\n",
       "      <td>0.014245</td>\n",
       "      <td>0.008838</td>\n",
       "      <td>0.001444</td>\n",
       "      <td>NaN</td>\n",
       "      <td>0.007208</td>\n",
       "      <td>0.003555</td>\n",
       "      <td>-0.000638</td>\n",
       "      <td>...</td>\n",
       "      <td>0.002136</td>\n",
       "      <td>0.002807</td>\n",
       "      <td>0.011607</td>\n",
       "      <td>0.001772</td>\n",
       "      <td>0.004510</td>\n",
       "      <td>0.009547</td>\n",
       "      <td>0.013043</td>\n",
       "      <td>NaN</td>\n",
       "      <td>NaN</td>\n",
       "      <td>0.002640</td>\n",
       "    </tr>\n",
       "    <tr>\n",
       "      <th>2013-03-12</th>\n",
       "      <td>-0.004439</td>\n",
       "      <td>0.024455</td>\n",
       "      <td>-0.002193</td>\n",
       "      <td>-0.021559</td>\n",
       "      <td>-0.013273</td>\n",
       "      <td>0.002060</td>\n",
       "      <td>NaN</td>\n",
       "      <td>0.001432</td>\n",
       "      <td>-0.000197</td>\n",
       "      <td>-0.003576</td>\n",
       "      <td>...</td>\n",
       "      <td>0.000000</td>\n",
       "      <td>-0.002567</td>\n",
       "      <td>-0.007998</td>\n",
       "      <td>0.013119</td>\n",
       "      <td>0.006073</td>\n",
       "      <td>0.001100</td>\n",
       "      <td>-0.006243</td>\n",
       "      <td>NaN</td>\n",
       "      <td>NaN</td>\n",
       "      <td>-0.010533</td>\n",
       "    </tr>\n",
       "  </tbody>\n",
       "</table>\n",
       "<p>5 rows × 520 columns</p>\n",
       "</div>"
      ],
      "text/plain": [
       "                   A       AAL       AAP      AAPL      ABBV       ABC  ABNB  \\\n",
       "Date                                                                           \n",
       "2013-03-06  0.013596  0.037010 -0.010006 -0.012710  0.006132  0.004350   NaN   \n",
       "2013-03-07  0.000231  0.017159  0.000525  0.011559 -0.006624 -0.008251   NaN   \n",
       "2013-03-08 -0.005087  0.006748  0.008135  0.002648 -0.004001  0.008319   NaN   \n",
       "2013-03-11 -0.005112  0.014075  0.008980  0.014245  0.008838  0.001444   NaN   \n",
       "2013-03-12 -0.004439  0.024455 -0.002193 -0.021559 -0.013273  0.002060   NaN   \n",
       "\n",
       "                 ABT      ACGL       ACN  ...       XOM      XRAY       XYL  \\\n",
       "Date                                      ...                                 \n",
       "2013-03-06 -0.011537  0.001207  0.006370  ... -0.000558  0.006665  0.031283   \n",
       "2013-03-07  0.004669  0.013869  0.002067  ... -0.009491  0.005912 -0.032038   \n",
       "2013-03-08  0.007262  0.003965  0.010056  ...  0.002931  0.004701  0.001057   \n",
       "2013-03-11  0.007208  0.003555 -0.000638  ...  0.002136  0.002807  0.011607   \n",
       "2013-03-12  0.001432 -0.000197 -0.003576  ...  0.000000 -0.002567 -0.007998   \n",
       "\n",
       "                 YUM       ZBH      ZBRA      ZION  ZM  ZS       ZTS  \n",
       "Date                                                                  \n",
       "2013-03-06  0.009201 -0.007121 -0.001783  0.023673 NaN NaN -0.012832  \n",
       "2013-03-07  0.005081 -0.005313 -0.003796  0.007177 NaN NaN  0.020975  \n",
       "2013-03-08  0.006989  0.006810  0.009413  0.001584 NaN NaN -0.013599  \n",
       "2013-03-11  0.001772  0.004510  0.009547  0.013043 NaN NaN  0.002640  \n",
       "2013-03-12  0.013119  0.006073  0.001100 -0.006243 NaN NaN -0.010533  \n",
       "\n",
       "[5 rows x 520 columns]"
      ]
     },
     "execution_count": 155,
     "metadata": {},
     "output_type": "execute_result"
    }
   ],
   "source": [
    "df_train.head()"
   ]
  },
  {
   "cell_type": "markdown",
   "id": "9442d933",
   "metadata": {},
   "source": [
    "__Все расчёты ниже делайте по обучающей выборке.__ \n",
    "\n",
    "Посчитайте для всех компаний на обучающей выборке среднюю доходность (просто сделайте `.mean()` за весь период). Найдите 10 самых доходных компаний и 10 самых убыточных.  Есть ли среди самых доходных компаний Тесла? :) "
   ]
  },
  {
   "cell_type": "code",
   "execution_count": 156,
   "id": "0e146431",
   "metadata": {},
   "outputs": [],
   "source": [
    "# your code here\n",
    "# C (・_・)ノ\n",
    "\n",
    "R = df_train.mean()"
   ]
  },
  {
   "cell_type": "code",
   "execution_count": 158,
   "id": "0d93ab5a",
   "metadata": {},
   "outputs": [],
   "source": [
    "low_profit = R.sort_values().head(10)\n",
    "top_profit = R.sort_values().tail(10)"
   ]
  },
  {
   "cell_type": "code",
   "execution_count": 159,
   "id": "9ac999cf",
   "metadata": {},
   "outputs": [
    {
     "data": {
      "text/plain": [
       "np.float64(0.2746322032889245)"
      ]
     },
     "execution_count": 159,
     "metadata": {},
     "output_type": "execute_result"
    }
   ],
   "source": [
    "top_profit['TSLA'] * 100"
   ]
  },
  {
   "cell_type": "markdown",
   "id": "c41d4457",
   "metadata": {},
   "source": [
    "**ОТВЕТ**: есть, дневная доха около 0.3%"
   ]
  },
  {
   "cell_type": "markdown",
   "id": "5b42af29",
   "metadata": {},
   "source": [
    "Один из способов измерить, насколько ценная бумага рискованная -  использовать стандартное отклонение. Посчитайте для всех компаний стандартное отклонение доходности. Найдите 10 самых рискованных компаний и 10 самых безрисковых.  Есть ли среди самых рискованных компаний Тесла? :) "
   ]
  },
  {
   "cell_type": "code",
   "execution_count": 160,
   "id": "caf8e5c9",
   "metadata": {},
   "outputs": [],
   "source": [
    "# your code here\n",
    "# ٩(ˊ〇ˋ*)و\n",
    "\n",
    "STD = df_train.std()\n",
    "\n",
    "\n",
    "low_risk = STD.sort_values().head(10)\n",
    "top_risk = STD.sort_values().tail(10)"
   ]
  },
  {
   "cell_type": "code",
   "execution_count": 161,
   "id": "b29d08ff",
   "metadata": {},
   "outputs": [
    {
     "data": {
      "text/plain": [
       "VZ      0.011099\n",
       "JNJ     0.011255\n",
       "KO      0.011309\n",
       "PG      0.011339\n",
       "RSG     0.011408\n",
       "WM      0.011432\n",
       "PEP     0.011443\n",
       "CL      0.011778\n",
       "MMC     0.012117\n",
       "COST    0.012303\n",
       "dtype: float64"
      ]
     },
     "execution_count": 161,
     "metadata": {},
     "output_type": "execute_result"
    }
   ],
   "source": [
    "low_risk"
   ]
  },
  {
   "cell_type": "code",
   "execution_count": 162,
   "id": "3a98c8ac",
   "metadata": {},
   "outputs": [
    {
     "name": "stdout",
     "output_type": "stream",
     "text": [
      "топ самых безрисковых акций: VZ, JNJ, KO, PG, RSG, WM, PEP, CL, MMC, COST\n"
     ]
    }
   ],
   "source": [
    "print(f'топ самых безрисковых акций: {', '.join(list(low_risk.to_frame().index))}')"
   ]
  },
  {
   "cell_type": "code",
   "execution_count": 163,
   "id": "30af2484",
   "metadata": {},
   "outputs": [
    {
     "data": {
      "text/plain": [
       "DDOG    0.039034\n",
       "CRWD    0.039878\n",
       "SEDG    0.040310\n",
       "GFS     0.041315\n",
       "ZM      0.042788\n",
       "PDD     0.045639\n",
       "MRNA    0.052030\n",
       "ENPH    0.052601\n",
       "LCID    0.066841\n",
       "RIVN    0.072406\n",
       "dtype: float64"
      ]
     },
     "execution_count": 163,
     "metadata": {},
     "output_type": "execute_result"
    }
   ],
   "source": [
    "top_risk"
   ]
  },
  {
   "cell_type": "code",
   "execution_count": 164,
   "id": "4112918a",
   "metadata": {},
   "outputs": [
    {
     "name": "stdout",
     "output_type": "stream",
     "text": [
      "топ самых рисковых акций: DDOG, CRWD, SEDG, GFS, ZM, PDD, MRNA, ENPH, LCID, RIVN. На удивление, теслы нет\n"
     ]
    }
   ],
   "source": [
    "print(f'топ самых рисковых акций: {', '.join(list(top_risk.to_frame().index))}. На удивление, теслы нет')"
   ]
  },
  {
   "cell_type": "markdown",
   "id": "5501075c",
   "metadata": {},
   "source": [
    "Обычно инвесторы принимают решение покупать бумагу к себе в портфель, отталкиваясь от того какие соотношения доходность/риск существуют на рынке. Создайте таблицу `df_result`. Запищите туда три колонки: тикер, доходность и стандартное отклонение."
   ]
  },
  {
   "cell_type": "code",
   "execution_count": 165,
   "id": "629baf44",
   "metadata": {},
   "outputs": [
    {
     "data": {
      "text/html": [
       "<div>\n",
       "<style scoped>\n",
       "    .dataframe tbody tr th:only-of-type {\n",
       "        vertical-align: middle;\n",
       "    }\n",
       "\n",
       "    .dataframe tbody tr th {\n",
       "        vertical-align: top;\n",
       "    }\n",
       "\n",
       "    .dataframe thead th {\n",
       "        text-align: right;\n",
       "    }\n",
       "</style>\n",
       "<table border=\"1\" class=\"dataframe\">\n",
       "  <thead>\n",
       "    <tr style=\"text-align: right;\">\n",
       "      <th></th>\n",
       "      <th>std</th>\n",
       "      <th>mean</th>\n",
       "    </tr>\n",
       "  </thead>\n",
       "  <tbody>\n",
       "    <tr>\n",
       "      <th>A</th>\n",
       "      <td>0.015556</td>\n",
       "      <td>0.000808</td>\n",
       "    </tr>\n",
       "    <tr>\n",
       "      <th>AAL</th>\n",
       "      <td>0.031476</td>\n",
       "      <td>0.000579</td>\n",
       "    </tr>\n",
       "    <tr>\n",
       "      <th>AAP</th>\n",
       "      <td>0.020050</td>\n",
       "      <td>0.000659</td>\n",
       "    </tr>\n",
       "    <tr>\n",
       "      <th>AAPL</th>\n",
       "      <td>0.017579</td>\n",
       "      <td>0.001268</td>\n",
       "    </tr>\n",
       "    <tr>\n",
       "      <th>ABBV</th>\n",
       "      <td>0.017331</td>\n",
       "      <td>0.000925</td>\n",
       "    </tr>\n",
       "  </tbody>\n",
       "</table>\n",
       "</div>"
      ],
      "text/plain": [
       "           std      mean\n",
       "A     0.015556  0.000808\n",
       "AAL   0.031476  0.000579\n",
       "AAP   0.020050  0.000659\n",
       "AAPL  0.017579  0.001268\n",
       "ABBV  0.017331  0.000925"
      ]
     },
     "execution_count": 165,
     "metadata": {},
     "output_type": "execute_result"
    }
   ],
   "source": [
    "df_result = df_train.agg(['std', 'mean']).T\n",
    "df_result.head()"
   ]
  },
  {
   "cell_type": "code",
   "execution_count": 166,
   "id": "f031d035",
   "metadata": {},
   "outputs": [
    {
     "data": {
      "text/plain": [
       "(520, 2)"
      ]
     },
     "execution_count": 166,
     "metadata": {},
     "output_type": "execute_result"
    }
   ],
   "source": [
    "df_result.shape"
   ]
  },
  {
   "cell_type": "code",
   "execution_count": 167,
   "id": "cb4a25e5",
   "metadata": {},
   "outputs": [
    {
     "data": {
      "text/html": [
       "<div>\n",
       "<style scoped>\n",
       "    .dataframe tbody tr th:only-of-type {\n",
       "        vertical-align: middle;\n",
       "    }\n",
       "\n",
       "    .dataframe tbody tr th {\n",
       "        vertical-align: top;\n",
       "    }\n",
       "\n",
       "    .dataframe thead th {\n",
       "        text-align: right;\n",
       "    }\n",
       "</style>\n",
       "<table border=\"1\" class=\"dataframe\">\n",
       "  <thead>\n",
       "    <tr style=\"text-align: right;\">\n",
       "      <th></th>\n",
       "      <th>std</th>\n",
       "      <th>mean</th>\n",
       "    </tr>\n",
       "  </thead>\n",
       "  <tbody>\n",
       "    <tr>\n",
       "      <th>A</th>\n",
       "      <td>0.015556</td>\n",
       "      <td>0.000808</td>\n",
       "    </tr>\n",
       "    <tr>\n",
       "      <th>AAL</th>\n",
       "      <td>0.031476</td>\n",
       "      <td>0.000579</td>\n",
       "    </tr>\n",
       "    <tr>\n",
       "      <th>AAP</th>\n",
       "      <td>0.020050</td>\n",
       "      <td>0.000659</td>\n",
       "    </tr>\n",
       "    <tr>\n",
       "      <th>AAPL</th>\n",
       "      <td>0.017579</td>\n",
       "      <td>0.001268</td>\n",
       "    </tr>\n",
       "    <tr>\n",
       "      <th>ABBV</th>\n",
       "      <td>0.017331</td>\n",
       "      <td>0.000925</td>\n",
       "    </tr>\n",
       "  </tbody>\n",
       "</table>\n",
       "</div>"
      ],
      "text/plain": [
       "           std      mean\n",
       "A     0.015556  0.000808\n",
       "AAL   0.031476  0.000579\n",
       "AAP   0.020050  0.000659\n",
       "AAPL  0.017579  0.001268\n",
       "ABBV  0.017331  0.000925"
      ]
     },
     "execution_count": 167,
     "metadata": {},
     "output_type": "execute_result"
    }
   ],
   "source": [
    "df_result.head()"
   ]
  },
  {
   "cell_type": "markdown",
   "id": "3fe0398f",
   "metadata": {},
   "source": [
    "Постройте для наших ценных бумаг диаграмму рассеивания, на которой будет видно, где по своей доходности и риску находится какая ценная бумага.\n",
    "\n",
    "Отдельно отметьте на картинке точку, соотвествующую Тесле так, чтобы её было видно. Можно ли купить какую-то другую бумагу, которая обладает примерно такой же доходностью как тесла, но при этом её риск меньше? \n",
    "\n",
    "__Ответ:__ Можно, например нвидию"
   ]
  },
  {
   "cell_type": "code",
   "execution_count": 168,
   "id": "a00e4251",
   "metadata": {},
   "outputs": [
    {
     "data": {
      "image/png": "[encoded data removed]",
      "text/plain": [
       "<Figure size 1000x600 with 1 Axes>"
      ]
     },
     "metadata": {},
     "output_type": "display_data"
    }
   ],
   "source": [
    "plt.figure(figsize=(10, 6))\n",
    "\n",
    "sns.scatterplot(data=df_result, y='mean', x='std', alpha=0.6)\n",
    "sns.scatterplot(x=[df_result.loc['TSLA', 'std']], y=[df_result.loc['TSLA', 'mean']], s=65)\n",
    "\n",
    "plt.text(x=df_result.loc['TSLA', 'std'], y=df_result.loc['TSLA', 'mean'], ha='right', s='Tesla', fontsize=12, color='black')\n",
    "\n",
    "for index, row in df_result.iterrows():\n",
    "    plt.text(x=row['std'], y=row['mean'], s=index, fontsize=3) # ну хз\n",
    "\n",
    "plt.xlabel('Стандартное отклонение', fontsize=13)\n",
    "plt.ylabel('Среднее доходности', fontsize=13)\n",
    "plt.title(\"Соотношение риска к доходности\", fontsize=14)\n",
    "\n",
    "plt.hlines(0.00183, 0.02, 0.03, alpha=0.5, color='brown')\n",
    "plt.hlines(0.0033, 0.02, 0.03, alpha=0.5, color='brown')\n",
    "\n",
    "plt.show()"
   ]
  },
  {
   "cell_type": "markdown",
   "id": "2807f310",
   "metadata": {},
   "source": [
    "Видим, что есть бумаги с +- такой же доходностью, но меньшим риском. На картинке я отметил это через коричневый коридорчик. Попробуем найти тикеры этих бумаг и подписать"
   ]
  },
  {
   "cell_type": "code",
   "execution_count": 171,
   "id": "5fb1f6ce",
   "metadata": {},
   "outputs": [
    {
     "data": {
      "text/html": [
       "<div>\n",
       "<style scoped>\n",
       "    .dataframe tbody tr th:only-of-type {\n",
       "        vertical-align: middle;\n",
       "    }\n",
       "\n",
       "    .dataframe tbody tr th {\n",
       "        vertical-align: top;\n",
       "    }\n",
       "\n",
       "    .dataframe thead th {\n",
       "        text-align: right;\n",
       "    }\n",
       "</style>\n",
       "<table border=\"1\" class=\"dataframe\">\n",
       "  <thead>\n",
       "    <tr style=\"text-align: right;\">\n",
       "      <th></th>\n",
       "      <th>std</th>\n",
       "      <th>mean</th>\n",
       "    </tr>\n",
       "  </thead>\n",
       "  <tbody>\n",
       "    <tr>\n",
       "      <th>CARR</th>\n",
       "      <td>0.029273</td>\n",
       "      <td>0.003140</td>\n",
       "    </tr>\n",
       "    <tr>\n",
       "      <th>DXCM</th>\n",
       "      <td>0.029908</td>\n",
       "      <td>0.001898</td>\n",
       "    </tr>\n",
       "    <tr>\n",
       "      <th>NVDA</th>\n",
       "      <td>0.026682</td>\n",
       "      <td>0.002297</td>\n",
       "    </tr>\n",
       "    <tr>\n",
       "      <th>PAYC</th>\n",
       "      <td>0.028860</td>\n",
       "      <td>0.001974</td>\n",
       "    </tr>\n",
       "    <tr>\n",
       "      <th>TEAM</th>\n",
       "      <td>0.028837</td>\n",
       "      <td>0.002125</td>\n",
       "    </tr>\n",
       "  </tbody>\n",
       "</table>\n",
       "</div>"
      ],
      "text/plain": [
       "           std      mean\n",
       "CARR  0.029273  0.003140\n",
       "DXCM  0.029908  0.001898\n",
       "NVDA  0.026682  0.002297\n",
       "PAYC  0.028860  0.001974\n",
       "TEAM  0.028837  0.002125"
      ]
     },
     "execution_count": 171,
     "metadata": {},
     "output_type": "execute_result"
    }
   ],
   "source": [
    "epsilon = 0.001 #попробуем зафиксировать некоторый эпсилон, подгоняя его под коричневый коридор\n",
    "\n",
    "df_result.loc[(df_result['std'] < df_result.loc['TSLA', 'std']) & (df_result['mean'] > df_result.loc['TSLA', 'mean'] - epsilon)]"
   ]
  },
  {
   "cell_type": "code",
   "execution_count": 176,
   "id": "2af8febf",
   "metadata": {},
   "outputs": [
    {
     "data": {
      "text/plain": [
       "std     0.038244\n",
       "mean    0.006477\n",
       "Name: CEG, dtype: float64"
      ]
     },
     "execution_count": 176,
     "metadata": {},
     "output_type": "execute_result"
    }
   ],
   "source": [
    "df_result.loc['CEG']"
   ]
  },
  {
   "cell_type": "markdown",
   "id": "cf550277",
   "metadata": {},
   "source": [
    "Вот мы нашли эти бумаги. Теперь отобразим их на графике"
   ]
  },
  {
   "cell_type": "code",
   "execution_count": 172,
   "id": "0a0a0dae",
   "metadata": {},
   "outputs": [],
   "source": [
    "df_no_risk_profit = df_result.loc[(df_result['std'] < df_result.loc['TSLA', 'std']) & (df_result['mean'] > df_result.loc['TSLA', 'mean'] - epsilon)]"
   ]
  },
  {
   "cell_type": "code",
   "execution_count": 178,
   "id": "7e46be91",
   "metadata": {},
   "outputs": [
    {
     "data": {
      "image/png": "[encoded data removed]",
      "text/plain": [
       "<Figure size 1000x600 with 1 Axes>"
      ]
     },
     "metadata": {},
     "output_type": "display_data"
    }
   ],
   "source": [
    "plt.figure(figsize=(10, 6))\n",
    "\n",
    "sns.scatterplot(data=df_result, y='mean', x='std', alpha=0.6)\n",
    "sns.scatterplot(x=[df_result.loc['TSLA', 'std']], y=[df_result.loc['TSLA', 'mean']], s=65)\n",
    "\n",
    "sns.scatterplot(data=df_no_risk_profit, x='std', y='mean', s=45)\n",
    "\n",
    "plt.text(x=df_result.loc['TSLA', 'std'], y=df_result.loc['TSLA', 'mean'], ha='right', s='Tesla', fontsize=12, color='black')\n",
    "\n",
    "plt.text(x=df_result.loc['CEG', 'std'], y=df_result.loc['CEG', 'mean'], fontsize=10, color='pink', s='CEG')\n",
    "\n",
    "for index, row in df_no_risk_profit.iterrows():\n",
    "    if index == 'DXCM':\n",
    "        plt.text(x=row['std'], y=row['mean'], s=index, fontsize=8,  ha='left')\n",
    "    elif index == 'PAYC':\n",
    "        plt.text(x=row['std'], y=row['mean'], s=index, fontsize=8, va='bottom')\n",
    "    elif index == 'CEG':\n",
    "        plt.text(x=row['std'], y=row['mean'], s=index, fontsize=18, va='bottom')\n",
    "    else:\n",
    "        plt.text(x=row['std'], y=row['mean'], s=index, fontsize=8,  ha='right')\n",
    "\n",
    "plt.xlabel('Стандартное отклонение', fontsize=13)\n",
    "plt.ylabel('Среднее доходности', fontsize=13)\n",
    "plt.title(\"Соотношение риска к доходности\", fontsize=14)\n",
    "\n",
    "# plt.hlines(0.00183, 0.02, 0.03, alpha=0.5, color='brown')\n",
    "# plt.hlines(0.0033, 0.02, 0.03, alpha=0.5, color='brown')\n",
    "\n",
    "plt.show()"
   ]
  },
  {
   "cell_type": "markdown",
   "id": "f62a0c95",
   "metadata": {},
   "source": [
    "Чем больше риск, тем выше потенциально может оказаться доходноcть. __Но при этом мы с более высокой вероятностью можем уйти в убыток.__ "
   ]
  },
  {
   "cell_type": "markdown",
   "id": "0aa06117",
   "metadata": {},
   "source": [
    "__ж) [10 баллов]__  Надо понимать, что стандартное отклонение чувствительно к выбросам. Поэтому в качестве меры риска часто рассматривают $\\text{VaR}$. \n",
    "\n",
    "__Value-at-Risk__ — одна из самых распространенных форм измерения финансовых рисков. Общепринято обозначается $\\text{VaR}$. Еще его часто называют статистика $16:15$, такое название он получил потому, что $16:15$ – это время, в которое он якобы должен лежать на столе главы правления банка JPMorgan. (В этом банке данный показатель был впервые введен с целью повышения эффективности работы с рисками).\n",
    "\n",
    "__Value-at-Risk__ на каком-либо уровне (скажем, $5\\%$) – это просто квантиль уровня $5\\%$. То есть это такая доходность, что в $95\\%$ случаев у нас дела будут лучше."
   ]
  },
  {
   "cell_type": "markdown",
   "id": "64ed05e7",
   "metadata": {},
   "source": [
    "Посчитайте $5\\%$ $\\text{VaR}$ по всем ценным бумагам. Для этого используйте метод `quantile()`. Найдите 10 самых рискованных компаний и 10 наименее рискованных компаний с точки зрения этого показателя. Запишите `VaR` в табличку `df_result` отдельной колонкой (нужно сделать `join`). Домножьте значения VaR на -1, чтобы интерпретировать числа как потери.  "
   ]
  },
  {
   "cell_type": "code",
   "execution_count": 182,
   "id": "cdce041e",
   "metadata": {},
   "outputs": [],
   "source": [
    "VaR = df_train.quantile(0.05).to_frame()"
   ]
  },
  {
   "cell_type": "code",
   "execution_count": 183,
   "id": "0fd20a24",
   "metadata": {},
   "outputs": [],
   "source": [
    "VaR.rename(columns={0.05: '5% VaR'}, inplace=True)"
   ]
  },
  {
   "cell_type": "code",
   "execution_count": 184,
   "id": "ca9650aa",
   "metadata": {},
   "outputs": [
    {
     "name": "stdout",
     "output_type": "stream",
     "text": [
      "Топ 10 наиболее рискованных контор в формате {тикер}: {5% VaR}:\n",
      "RIVN: -0.1068\n",
      "LCID: -0.0757\n",
      "ENPH: -0.0738\n",
      "MRNA: -0.0729\n",
      "PDD: -0.0658\n",
      "ZM: -0.062\n",
      "GFS: -0.0605\n",
      "CEG: -0.0585\n",
      "DDOG: -0.0569\n",
      "SEDG: -0.056\n"
     ]
    }
   ],
   "source": [
    "print('Топ 10 наиболее рискованных контор в формате {тикер}: {5% VaR}:')\n",
    "for index, row in VaR.sort_values(by='5% VaR').head(10).iterrows():\n",
    "    print(f'{index}: {round(row['5% VaR'], 4)}')"
   ]
  },
  {
   "cell_type": "code",
   "execution_count": 181,
   "id": "7c1a3d98",
   "metadata": {},
   "outputs": [
    {
     "name": "stdout",
     "output_type": "stream",
     "text": [
      "Топ 10 наименее рискованных контор в формате {тикер}: {5% VaR}:\n"
     ]
    },
    {
     "ename": "NameError",
     "evalue": "name 'VaR' is not defined",
     "output_type": "error",
     "traceback": [
      "\u001b[1;31m---------------------------------------------------------------------------\u001b[0m",
      "\u001b[1;31mNameError\u001b[0m                                 Traceback (most recent call last)",
      "Cell \u001b[1;32mIn[181], line 2\u001b[0m\n\u001b[0;32m      1\u001b[0m \u001b[38;5;28mprint\u001b[39m(\u001b[38;5;124m'\u001b[39m\u001b[38;5;124mТоп 10 наименее рискованных контор в формате \u001b[39m\u001b[38;5;132;01m{тикер}\u001b[39;00m\u001b[38;5;124m: \u001b[39m\u001b[38;5;124m{\u001b[39m\u001b[38;5;124m5\u001b[39m\u001b[38;5;124m%\u001b[39m\u001b[38;5;124m VaR}:\u001b[39m\u001b[38;5;124m'\u001b[39m)\n\u001b[1;32m----> 2\u001b[0m \u001b[38;5;28;01mfor\u001b[39;00m index, row \u001b[38;5;129;01min\u001b[39;00m \u001b[43mVaR\u001b[49m\u001b[38;5;241m.\u001b[39msort_values(by\u001b[38;5;241m=\u001b[39m\u001b[38;5;124m'\u001b[39m\u001b[38;5;124m5\u001b[39m\u001b[38;5;124m%\u001b[39m\u001b[38;5;124m VaR\u001b[39m\u001b[38;5;124m'\u001b[39m, ascending\u001b[38;5;241m=\u001b[39m\u001b[38;5;28;01mFalse\u001b[39;00m)\u001b[38;5;241m.\u001b[39mhead(\u001b[38;5;241m10\u001b[39m)\u001b[38;5;241m.\u001b[39miterrows():\n\u001b[0;32m      3\u001b[0m     \u001b[38;5;28mprint\u001b[39m(\u001b[38;5;124mf\u001b[39m\u001b[38;5;124m'\u001b[39m\u001b[38;5;132;01m{\u001b[39;00mindex\u001b[38;5;132;01m}\u001b[39;00m\u001b[38;5;124m: \u001b[39m\u001b[38;5;132;01m{\u001b[39;00m\u001b[38;5;28mround\u001b[39m(row[\u001b[38;5;124m'\u001b[39m\u001b[38;5;124m5\u001b[39m\u001b[38;5;124m%\u001b[39m\u001b[38;5;124m VaR\u001b[39m\u001b[38;5;124m'\u001b[39m],\u001b[38;5;250m \u001b[39m\u001b[38;5;241m4\u001b[39m)\u001b[38;5;132;01m}\u001b[39;00m\u001b[38;5;124m'\u001b[39m)\n",
      "\u001b[1;31mNameError\u001b[0m: name 'VaR' is not defined"
     ]
    }
   ],
   "source": [
    "print('Топ 10 наименее рискованных контор в формате {тикер}: {5% VaR}:')\n",
    "for index, row in VaR.sort_values(by='5% VaR', ascending=False).head(10).iterrows():\n",
    "    print(f'{index}: {round(row['5% VaR'], 4)}')"
   ]
  },
  {
   "cell_type": "code",
   "execution_count": 148,
   "id": "309a60d7",
   "metadata": {},
   "outputs": [],
   "source": [
    "VaR['5% VaR'] = VaR['5% VaR'].apply(lambda x: x*(-1))"
   ]
  },
  {
   "cell_type": "code",
   "execution_count": 185,
   "id": "5c9d8b1b",
   "metadata": {},
   "outputs": [
    {
     "data": {
      "text/html": [
       "<div>\n",
       "<style scoped>\n",
       "    .dataframe tbody tr th:only-of-type {\n",
       "        vertical-align: middle;\n",
       "    }\n",
       "\n",
       "    .dataframe tbody tr th {\n",
       "        vertical-align: top;\n",
       "    }\n",
       "\n",
       "    .dataframe thead th {\n",
       "        text-align: right;\n",
       "    }\n",
       "</style>\n",
       "<table border=\"1\" class=\"dataframe\">\n",
       "  <thead>\n",
       "    <tr style=\"text-align: right;\">\n",
       "      <th></th>\n",
       "      <th>std</th>\n",
       "      <th>r</th>\n",
       "      <th>5% VaR</th>\n",
       "    </tr>\n",
       "  </thead>\n",
       "  <tbody>\n",
       "    <tr>\n",
       "      <th>A</th>\n",
       "      <td>0.015556</td>\n",
       "      <td>0.000808</td>\n",
       "      <td>-0.025164</td>\n",
       "    </tr>\n",
       "    <tr>\n",
       "      <th>AAL</th>\n",
       "      <td>0.031476</td>\n",
       "      <td>0.000579</td>\n",
       "      <td>-0.044087</td>\n",
       "    </tr>\n",
       "    <tr>\n",
       "      <th>AAP</th>\n",
       "      <td>0.020050</td>\n",
       "      <td>0.000659</td>\n",
       "      <td>-0.026499</td>\n",
       "    </tr>\n",
       "    <tr>\n",
       "      <th>AAPL</th>\n",
       "      <td>0.017579</td>\n",
       "      <td>0.001268</td>\n",
       "      <td>-0.025629</td>\n",
       "    </tr>\n",
       "    <tr>\n",
       "      <th>ABBV</th>\n",
       "      <td>0.017331</td>\n",
       "      <td>0.000925</td>\n",
       "      <td>-0.024926</td>\n",
       "    </tr>\n",
       "  </tbody>\n",
       "</table>\n",
       "</div>"
      ],
      "text/plain": [
       "           std         r    5% VaR\n",
       "A     0.015556  0.000808 -0.025164\n",
       "AAL   0.031476  0.000579 -0.044087\n",
       "AAP   0.020050  0.000659 -0.026499\n",
       "AAPL  0.017579  0.001268 -0.025629\n",
       "ABBV  0.017331  0.000925 -0.024926"
      ]
     },
     "execution_count": 185,
     "metadata": {},
     "output_type": "execute_result"
    }
   ],
   "source": [
    "# добавим получившиеся значения в нашу таблицу\n",
    "VaR.name = 'VaR'\n",
    "df_result = df_result.join(VaR)\n",
    "df_result.rename(columns={'mean': 'r'}, inplace=True)\n",
    "df_result.head()"
   ]
  },
  {
   "cell_type": "code",
   "execution_count": 186,
   "id": "687728b3",
   "metadata": {},
   "outputs": [
    {
     "data": {
      "text/plain": [
       "std       0.038244\n",
       "r         0.006477\n",
       "5% VaR   -0.058496\n",
       "Name: CEG, dtype: float64"
      ]
     },
     "execution_count": 186,
     "metadata": {},
     "output_type": "execute_result"
    }
   ],
   "source": [
    "df_result.loc['CEG']"
   ]
  },
  {
   "cell_type": "code",
   "execution_count": 188,
   "id": "a20c7b00",
   "metadata": {},
   "outputs": [
    {
     "data": {
      "text/plain": [
       "std       0.026682\n",
       "r         0.002297\n",
       "5% VaR   -0.037858\n",
       "Name: NVDA, dtype: float64"
      ]
     },
     "execution_count": 188,
     "metadata": {},
     "output_type": "execute_result"
    }
   ],
   "source": [
    "df_result.loc['NVDA']"
   ]
  },
  {
   "cell_type": "markdown",
   "id": "63da9f24",
   "metadata": {},
   "source": [
    "Должно получиться вот так:\n",
    "\n",
    "<div>\n",
    "<style scoped>\n",
    "    .dataframe tbody tr th:only-of-type {\n",
    "        vertical-align: middle;\n",
    "    }\n",
    "\n",
    "    .dataframe tbody tr th {\n",
    "        vertical-align: top;\n",
    "    }\n",
    "\n",
    "    .dataframe thead th {\n",
    "        text-align: right;\n",
    "    }\n",
    "</style>\n",
    "<table border=\"1\" class=\"dataframe\">\n",
    "  <thead>\n",
    "    <tr style=\"text-align: right;\">\n",
    "      <th></th>\n",
    "      <th>std</th>\n",
    "      <th>r</th>\n",
    "      <th>VaR</th>\n",
    "    </tr>\n",
    "  </thead>\n",
    "  <tbody>\n",
    "    <tr>\n",
    "      <th>A</th>\n",
    "      <td>0.015556</td>\n",
    "      <td>0.000808</td>\n",
    "      <td>0.025164</td>\n",
    "    </tr>\n",
    "    <tr>\n",
    "      <th>AAL</th>\n",
    "      <td>0.031476</td>\n",
    "      <td>0.000579</td>\n",
    "      <td>0.044087</td>\n",
    "    </tr>\n",
    "    <tr>\n",
    "      <th>AAP</th>\n",
    "      <td>0.020050</td>\n",
    "      <td>0.000659</td>\n",
    "      <td>0.026499</td>\n",
    "    </tr>\n",
    "    <tr>\n",
    "      <th>AAPL</th>\n",
    "      <td>0.017579</td>\n",
    "      <td>0.001268</td>\n",
    "      <td>0.025629</td>\n",
    "    </tr>\n",
    "    <tr>\n",
    "      <th>ABBV</th>\n",
    "      <td>0.017331</td>\n",
    "      <td>0.000925</td>\n",
    "      <td>0.024926</td>\n",
    "    </tr>\n",
    "  </tbody>\n",
    "</table>\n",
    "</div>"
   ]
  },
  {
   "cell_type": "markdown",
   "id": "85b20ac0",
   "metadata": {},
   "source": [
    "Постройте для наших ценных бумаг диаграмму рассеивания, на которой будет видно, где по своей доходности и риску находится какая ценная бумага. Отдельно отметьте теслу. В качестве меры риска используйте $\\text{VaR}.$"
   ]
  },
  {
   "cell_type": "code",
   "execution_count": 2,
   "id": "74244255",
   "metadata": {},
   "outputs": [
    {
     "ename": "NameError",
     "evalue": "name 'plt' is not defined",
     "output_type": "error",
     "traceback": [
      "\u001b[1;31m---------------------------------------------------------------------------\u001b[0m",
      "\u001b[1;31mNameError\u001b[0m                                 Traceback (most recent call last)",
      "Cell \u001b[1;32mIn[2], line 1\u001b[0m\n\u001b[1;32m----> 1\u001b[0m \u001b[43mplt\u001b[49m\u001b[38;5;241m.\u001b[39mfigure(figsize\u001b[38;5;241m=\u001b[39m(\u001b[38;5;241m10\u001b[39m, \u001b[38;5;241m6\u001b[39m))\n\u001b[0;32m      3\u001b[0m sns\u001b[38;5;241m.\u001b[39mscatterplot(data\u001b[38;5;241m=\u001b[39mdf_result, x\u001b[38;5;241m=\u001b[39m\u001b[38;5;124m'\u001b[39m\u001b[38;5;124m5\u001b[39m\u001b[38;5;124m%\u001b[39m\u001b[38;5;124m VaR\u001b[39m\u001b[38;5;124m'\u001b[39m, y\u001b[38;5;241m=\u001b[39m\u001b[38;5;124m'\u001b[39m\u001b[38;5;124mr\u001b[39m\u001b[38;5;124m'\u001b[39m, color\u001b[38;5;241m=\u001b[39m\u001b[38;5;124m'\u001b[39m\u001b[38;5;124mpurple\u001b[39m\u001b[38;5;124m'\u001b[39m)\n\u001b[0;32m      4\u001b[0m sns\u001b[38;5;241m.\u001b[39mscatterplot(x\u001b[38;5;241m=\u001b[39m[df_result\u001b[38;5;241m.\u001b[39mloc[\u001b[38;5;124m'\u001b[39m\u001b[38;5;124mTSLA\u001b[39m\u001b[38;5;124m'\u001b[39m, \u001b[38;5;124m'\u001b[39m\u001b[38;5;124m5\u001b[39m\u001b[38;5;124m%\u001b[39m\u001b[38;5;124m VaR\u001b[39m\u001b[38;5;124m'\u001b[39m]], y\u001b[38;5;241m=\u001b[39m[df_result\u001b[38;5;241m.\u001b[39mloc[\u001b[38;5;124m'\u001b[39m\u001b[38;5;124mTSLA\u001b[39m\u001b[38;5;124m'\u001b[39m, \u001b[38;5;124m'\u001b[39m\u001b[38;5;124mr\u001b[39m\u001b[38;5;124m'\u001b[39m]], s\u001b[38;5;241m=\u001b[39m\u001b[38;5;241m75\u001b[39m, color\u001b[38;5;241m=\u001b[39m\u001b[38;5;124m'\u001b[39m\u001b[38;5;124mred\u001b[39m\u001b[38;5;124m'\u001b[39m)\n",
      "\u001b[1;31mNameError\u001b[0m: name 'plt' is not defined"
     ]
    }
   ],
   "source": [
    "plt.figure(figsize=(10, 6))\n",
    "\n",
    "sns.scatterplot(data=df_result, x='5% VaR', y='r', color='purple')\n",
    "sns.scatterplot(x=[df_result.loc['TSLA', '5% VaR']], y=[df_result.loc['TSLA', 'r']], s=75, color='red')\n",
    "plt.text(x=df_result.loc['TSLA', '5% VaR'], y=df_result.loc['TSLA', 'r'], s='Tesla', color='black', fontsize=14)\n",
    "\n",
    "\n",
    "plt.ylabel('Доходность')\n",
    "plt.tight_layout()\n",
    "plt.title('Диаграмма рассеивания доходности и 5% VaR')\n",
    "plt.show()"
   ]
  },
  {
   "cell_type": "markdown",
   "id": "af3825b9",
   "metadata": {},
   "source": [
    "$\\text{VaR}$ хорош тем, что описывает именно ту часть распределения, которую мы боимся. Но $\\text{VaR}$ - это лучшее из $5\\%$ худших случаев. А что лежит в тех $5\\%$ худших случаев?…"
   ]
  },
  {
   "cell_type": "markdown",
   "id": "ca2253fe",
   "metadata": {},
   "source": [
    "__Expected shortfall__ - это среднее значение по всем тем точкам, что оказались хуже $\\text{VaR}$, То есть среднее по худшим $5\\%$. Эта метрика показывает что в среднем произойдёт с нашей доходностью в этих самых плохих $5\\%$ случаев. \n",
    "\n",
    "- Рассчитаете $\\text{ES}$ для Теслы\n",
    "- Предположим, что мы вложили в Теслу $1000$ долларов в один из самых неудачных дней. Сколько в среднем денег мы потеряем от этой $1000$ долларов к концу дня? \n",
    "- Посчитайте, сколько денег мы заработаем в $5\\%$ лучших случаев к концу дня? \n",
    "\n",
    "__Важно:__ $\\text{VaR}$ и $\\text{ES}$ в этом пункте - отрицательные числа."
   ]
  },
  {
   "cell_type": "code",
   "execution_count": 169,
   "id": "041d46d9",
   "metadata": {},
   "outputs": [],
   "source": [
    "VaR_es = df_train.quantile(0.05).to_frame()\n",
    "\n",
    "# вновь сделал табличку с 5% варом, чтобы получить отрицательные значение дефолтные"
   ]
  },
  {
   "cell_type": "code",
   "execution_count": 215,
   "id": "6b18b06d",
   "metadata": {},
   "outputs": [],
   "source": [
    "VaR_es.rename(columns={0.05: '5% VaR'}, inplace=True)"
   ]
  },
  {
   "cell_type": "code",
   "execution_count": 217,
   "id": "92ff368b",
   "metadata": {},
   "outputs": [],
   "source": [
    "Tesla_var = VaR_es.loc['TSLA', '5% VaR']"
   ]
  },
  {
   "cell_type": "code",
   "execution_count": 219,
   "id": "aac5340e",
   "metadata": {},
   "outputs": [
    {
     "data": {
      "text/plain": [
       "np.float64(-0.049286108471130435)"
      ]
     },
     "execution_count": 219,
     "metadata": {},
     "output_type": "execute_result"
    }
   ],
   "source": [
    "Tesla_var # то есть мы теперь \n",
    "# знаем наш 5% вар для Теслы, теперь посмотрим на все дневные доходности, которые были меньше этого значения"
   ]
  },
  {
   "cell_type": "code",
   "execution_count": 225,
   "id": "342fe923",
   "metadata": {},
   "outputs": [],
   "source": [
    "df_Tesla_ES = df_train.T.loc['TSLA'].to_frame()"
   ]
  },
  {
   "cell_type": "code",
   "execution_count": 243,
   "id": "581aa3df",
   "metadata": {},
   "outputs": [
    {
     "data": {
      "text/plain": [
       "TSLA   -0.07554\n",
       "dtype: float64"
      ]
     },
     "execution_count": 243,
     "metadata": {},
     "output_type": "execute_result"
    }
   ],
   "source": [
    "df_Tesla_ES.loc[df_Tesla_ES['TSLA'] <= Tesla_var].mean()"
   ]
  },
  {
   "cell_type": "markdown",
   "id": "c11f1348",
   "metadata": {},
   "source": [
    "Получается Expected Shortfall для Теслы составляет -0.07554"
   ]
  },
  {
   "cell_type": "code",
   "execution_count": 249,
   "id": "d4a60a3f",
   "metadata": {},
   "outputs": [],
   "source": [
    "df_train_transpose = df_train.T"
   ]
  },
  {
   "cell_type": "markdown",
   "id": "43f5ec53",
   "metadata": {},
   "source": [
    "Посчитайте $\\text{ES}$ по всем ценным бумагам. Домножьте получившееся значение на (-1). Запишите его отдельным столбцом в `df_result` (нужно сделать `join`)"
   ]
  },
  {
   "cell_type": "code",
   "execution_count": 262,
   "id": "239d45d3",
   "metadata": {},
   "outputs": [],
   "source": [
    "massive_of_ES = []\n",
    "\n",
    "for index, row in VaR_es.iterrows():\n",
    "    tiker = df_train_transpose.loc[index]\n",
    "    massive_of_ES.append(tiker[tiker < row['5% VaR']].mean())"
   ]
  },
  {
   "cell_type": "code",
   "execution_count": 272,
   "id": "b1e19bd5",
   "metadata": {},
   "outputs": [],
   "source": [
    "df_of_ES = pd.DataFrame(data=massive_of_ES, index=VaR_es.index, columns=['ES'])"
   ]
  },
  {
   "cell_type": "code",
   "execution_count": 310,
   "id": "e692ad10",
   "metadata": {},
   "outputs": [],
   "source": [
    "df_result = df_result.join(df_of_ES)\n"
   ]
  },
  {
   "cell_type": "code",
   "execution_count": 352,
   "id": "2cf40e14",
   "metadata": {},
   "outputs": [],
   "source": [
    "df_result = df_result.round(3)"
   ]
  },
  {
   "cell_type": "code",
   "execution_count": 351,
   "id": "8b068117",
   "metadata": {},
   "outputs": [],
   "source": [
    "df_result['ES'] = df_result['ES'].apply(lambda x: x*(-1))"
   ]
  },
  {
   "cell_type": "code",
   "execution_count": 313,
   "id": "b2e79d5b",
   "metadata": {},
   "outputs": [],
   "source": [
    "df_result.reset_index(inplace=True)\n",
    "df_result.rename(columns={'index': 'Ticker', 'mean': 'r', '5% VaR':'VaR'}, inplace=True)\n"
   ]
  },
  {
   "cell_type": "code",
   "execution_count": 332,
   "id": "b612048d",
   "metadata": {},
   "outputs": [],
   "source": [
    "df_result.reset_index(inplace=True)"
   ]
  },
  {
   "cell_type": "code",
   "execution_count": 355,
   "id": "685ddccc",
   "metadata": {},
   "outputs": [
    {
     "data": {
      "text/html": [
       "<div>\n",
       "<style scoped>\n",
       "    .dataframe tbody tr th:only-of-type {\n",
       "        vertical-align: middle;\n",
       "    }\n",
       "\n",
       "    .dataframe tbody tr th {\n",
       "        vertical-align: top;\n",
       "    }\n",
       "\n",
       "    .dataframe thead th {\n",
       "        text-align: right;\n",
       "    }\n",
       "</style>\n",
       "<table border=\"1\" class=\"dataframe\">\n",
       "  <thead>\n",
       "    <tr style=\"text-align: right;\">\n",
       "      <th></th>\n",
       "      <th>Ticker</th>\n",
       "      <th>std</th>\n",
       "      <th>r</th>\n",
       "      <th>VaR</th>\n",
       "      <th>ES</th>\n",
       "    </tr>\n",
       "  </thead>\n",
       "  <tbody>\n",
       "    <tr>\n",
       "      <th>519</th>\n",
       "      <td>RIVN</td>\n",
       "      <td>0.072</td>\n",
       "      <td>-0.006</td>\n",
       "      <td>0.107</td>\n",
       "      <td>0.138</td>\n",
       "    </tr>\n",
       "    <tr>\n",
       "      <th>518</th>\n",
       "      <td>LCID</td>\n",
       "      <td>0.067</td>\n",
       "      <td>0.005</td>\n",
       "      <td>0.076</td>\n",
       "      <td>0.125</td>\n",
       "    </tr>\n",
       "    <tr>\n",
       "      <th>517</th>\n",
       "      <td>ENPH</td>\n",
       "      <td>0.053</td>\n",
       "      <td>0.003</td>\n",
       "      <td>0.074</td>\n",
       "      <td>0.105</td>\n",
       "    </tr>\n",
       "    <tr>\n",
       "      <th>516</th>\n",
       "      <td>MRNA</td>\n",
       "      <td>0.052</td>\n",
       "      <td>0.004</td>\n",
       "      <td>0.073</td>\n",
       "      <td>0.104</td>\n",
       "    </tr>\n",
       "    <tr>\n",
       "      <th>515</th>\n",
       "      <td>PDD</td>\n",
       "      <td>0.046</td>\n",
       "      <td>0.002</td>\n",
       "      <td>0.066</td>\n",
       "      <td>0.092</td>\n",
       "    </tr>\n",
       "  </tbody>\n",
       "</table>\n",
       "</div>"
      ],
      "text/plain": [
       "    Ticker    std      r    VaR     ES\n",
       "519   RIVN  0.072 -0.006  0.107  0.138\n",
       "518   LCID  0.067  0.005  0.076  0.125\n",
       "517   ENPH  0.053  0.003  0.074  0.105\n",
       "516   MRNA  0.052  0.004  0.073  0.104\n",
       "515    PDD  0.046  0.002  0.066  0.092"
      ]
     },
     "execution_count": 355,
     "metadata": {},
     "output_type": "execute_result"
    }
   ],
   "source": [
    "df_result.head()"
   ]
  },
  {
   "cell_type": "code",
   "execution_count": 354,
   "id": "3f5b6a0d",
   "metadata": {},
   "outputs": [],
   "source": [
    "df_result.sort_values(by='ES', ascending=False, inplace=True)"
   ]
  },
  {
   "cell_type": "code",
   "execution_count": 356,
   "id": "e0836520",
   "metadata": {},
   "outputs": [],
   "source": [
    "df_result.to_csv('var_resul.csv', index=False)"
   ]
  },
  {
   "cell_type": "markdown",
   "id": "939382f8",
   "metadata": {},
   "source": [
    "1. Округлите данные до 3-х знаков после запятой `df_result.round(3)`\n",
    "2. Отсортируйте таблицу `df_result` по колонке `ES` по убыванию\n",
    "3. Запишите получившиеся результаты в таблицу с колонками `'Ticker', 'std', 'r', 'VaR', 'ES'` в файл `var_result` Таблица должна быть без индексов. Последняя строка не должна быть пустой. Колонки друг от друга отделяются запятыми. Порядок колонок должен быть именно таким.\n",
    "4. Отправьте свой файл `var_result.csv` в контест (https://contest.yandex.ru/contest/47242/problems/A) и прикрепите/укажите ниже ваш никнейм и ссылку на успешную посылку."
   ]
  },
  {
   "cell_type": "markdown",
   "id": "483fc6c4",
   "metadata": {},
   "source": [
    "> __Дисклеймер:__ Успешная посылка в контесте является обязательным условием получения полного балла за этот (и следующий) пункт. Если добиться успешной посылки не удастся, баллы будут выставляться на усмотрение проверяюшего.\n",
    "\n",
    "> При этом ОК в контесте не гарантирует полный балл. Оценка всё равно может быть снижена в случае обнаружения неэффективностей или ошибок в коде. Если вы сдадите в AnyTask очевидно неработающий код или ноутбук без кода, но при этом в контест будет сдан корректный файл, то это будет расцениваться как плагиат. На всякий случай просим вас сдать вместе с ноутбуком файл res_fall.csv в anytask."
   ]
  },
  {
   "cell_type": "markdown",
   "id": "863b183e",
   "metadata": {},
   "source": [
    "ник - Александр Левченко\n",
    "https://contest.yandex.ru/contest/47242/run-report/132263235/"
   ]
  },
  {
   "cell_type": "markdown",
   "id": "d5c771c6",
   "metadata": {},
   "source": [
    "__Какая метрика лучше?__\n",
    "\n",
    "Никакая. Все рассуждения о риске – это попытки уложить функцию распределения доходностей в одно единственное число. Поэтому информация потеряется и все метрики будут не идеальны. А к чему это приведет, можно прочитать в книге Скотта Паттерсона [\"Кванты. Как волшебники от математики заработали миллиарды и чуть не обрушили фондовый рынок.\"](https://disk.yandex.ru/i/ryFfPZ8_1uTO6g) Тем не менее, какие-то цифры, на которые можно было бы ориентироваться при принятии решений необходимы."
   ]
  },
  {
   "cell_type": "markdown",
   "id": "ad0ba4e8",
   "metadata": {},
   "source": [
    "## 1.3 VaR-кривая "
   ]
  },
  {
   "cell_type": "markdown",
   "id": "15913c74",
   "metadata": {},
   "source": [
    "__з) [15 баллов]__ Мы что-то насчитали. А это вообще работает? Давайте проверим на тестовой выборке для Теслы."
   ]
  },
  {
   "cell_type": "code",
   "execution_count": 357,
   "id": "f744be4f",
   "metadata": {},
   "outputs": [
    {
     "data": {
      "text/plain": [
       "np.float64(0.14285714285714285)"
      ]
     },
     "execution_count": 357,
     "metadata": {},
     "output_type": "execute_result"
    }
   ],
   "source": [
    "var_tsla = df_train['TSLA'].quantile(0.05)\n",
    "df_tsla = df_test['TSLA'].reset_index()\n",
    "df_tsla['is_bad'] = (df_test['TSLA'].values < var_tsla)\n",
    "df_tsla['is_bad'].mean()"
   ]
  },
  {
   "cell_type": "markdown",
   "id": "cd2341bc",
   "metadata": {},
   "source": [
    "На тестовой выборке мы пробили для Теслы VaR в 14% случаев вместо 5%. Это очень плохой результат. Наша оценка риска оказалась провальной. Можно с помощью теста Купика проверить значимость этих отличий, но мы пока что не будем это делать. Отложим эту историю до домашки про гипотезы.\n",
    "\n",
    "Нарисуем VaR-кривую."
   ]
  },
  {
   "cell_type": "code",
   "execution_count": 358,
   "id": "723861aa",
   "metadata": {},
   "outputs": [
    {
     "data": {
      "image/png": "[encoded data removed]",
      "text/plain": [
       "<Figure size 1000x500 with 1 Axes>"
      ]
     },
     "metadata": {},
     "output_type": "display_data"
    }
   ],
   "source": [
    "plt.figure(figsize=(10,5))\n",
    "sns.scatterplot(data=df_tsla, x='Date',y='TSLA', hue='is_bad')\n",
    "plt.hlines(var_tsla, df_tsla.Date.min(), df_tsla.Date.max(), color='red')\n",
    "plt.title('VaR-кривая');"
   ]
  },
  {
   "cell_type": "markdown",
   "id": "25de1941",
   "metadata": {},
   "source": [
    "А почему все это плохо? А потому, что мы не расширяем обучающую выборку, то есть не учитываем новую информацию. Мы один раз предсказали $\\text{VaR}$ и так с ним и сидим. Давайте сделаем по-другому.\n",
    "\n",
    "- Выделите $N$ точек (первые 4 года), найдите по ним $\\text{VaR}$ для $N+1$ дня. Потом сдвинем $N$ точек вправо и найдём $\\text{VaR}$ по ним для точки $N + 2$. И так далее. Тогда $\\text{VaR}$ будет в каждой точке разный. \n",
    "- Нарисуйте получившуюся для Теслы кривую на картинке.\n",
    "- Посчитайте как часто мы пробивали $\\text{VaR}$ на практике, улучшилась ли цифра?"
   ]
  },
  {
   "cell_type": "code",
   "execution_count": null,
   "id": "337ff3a5",
   "metadata": {},
   "outputs": [],
   "source": [
    "# your code here\n",
    "# ʕ•ᴥ•ʔ"
   ]
  },
  {
   "cell_type": "markdown",
   "id": "ca0f1494",
   "metadata": {},
   "source": [
    "Способ оценки $\\text{VaR},$ который мы использовали, называется **историческим.** Кроме него есть довольно много других способов. Например:\n",
    "\n",
    "- можно попробовать подогнать какое-то распределение под данные и взять его квантиль\n",
    "- можно попробовать обучить модель машинного обучения предсказывать соотвествующий квантиль\n",
    "- можно обучить какую-нибудь модель на временном ряде\n",
    "- можно попробовать отдельно моделировать хвосты распределения\n",
    "\n",
    "Часть способов более подробно можно [посмотреть в лекциях Ильи Езепова.](https://rpubs.com/iezepov) Они немного староваты, но хороши. "
   ]
  },
  {
   "cell_type": "markdown",
   "id": "8380d4c0",
   "metadata": {},
   "source": [
    "__и) [бонусные 10 баллов]__\n",
    "\n",
    "Разберитесь как работает какой-нибудь ещё метод оценки $\\text{VaR}$ и реализуйте его. Сравните его работу с историческим методом на нескольких ценных бумагах из наших данных. Например, вы можете разобраться с [ОГРом](https://rpubs.com/iezepov/e502lec2) или [моделированием хвостов.](https://rpubs.com/iezepov/e502lec6) Весь код должен быть написан на питоне. Часть бонуса -- попытаться найти библиотеки для этого."
   ]
  },
  {
   "cell_type": "code",
   "execution_count": null,
   "id": "fbfe80d2",
   "metadata": {},
   "outputs": [],
   "source": [
    "# your code here\n",
    "# [✖‿✖]"
   ]
  },
  {
   "cell_type": "code",
   "execution_count": null,
   "id": "68da0a43",
   "metadata": {},
   "outputs": [],
   "source": [
    "# your code here\n",
    "# ヾ(๑╹◡╹)ﾉ"
   ]
  }
 ],
 "metadata": {
  "kernelspec": {
   "display_name": ".venv",
   "language": "python",
   "name": "python3"
  },
  "language_info": {
   "codemirror_mode": {
    "name": "ipython",
    "version": 3
   },
   "file_extension": ".py",
   "mimetype": "text/x-python",
   "name": "python",
   "nbconvert_exporter": "python",
   "pygments_lexer": "ipython3",
   "version": "3.13.1"
  }
 },
 "nbformat": 4,
 "nbformat_minor": 5
}
